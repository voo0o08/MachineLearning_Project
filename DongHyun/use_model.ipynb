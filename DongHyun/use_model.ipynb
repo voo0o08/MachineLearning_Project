{
 "cells": [
  {
   "cell_type": "code",
   "execution_count": 1,
   "metadata": {},
   "outputs": [],
   "source": [
    "model_file = './model/bald_xgb3.pkl'"
   ]
  },
  {
   "cell_type": "code",
   "execution_count": 2,
   "metadata": {},
   "outputs": [
    {
     "name": "stdout",
     "output_type": "stream",
     "text": [
      "    age  education  gender  height  is_hereditary  is_smoker  job_role  \\\n",
      "0  33.0        5.0     1.0   180.0            0.0        0.0       3.0   \n",
      "\n",
      "       salary  stress  weight  \n",
      "0  9448807.05     5.0    73.0  \n",
      "해당 데이터를 가진 사람이 hair loss일 확률은 [36.2]% 입니다.\n"
     ]
    }
   ],
   "source": [
    "import joblib\n",
    "import pandas as pd\n",
    "import numpy as np\n",
    "from joblib import load\n",
    "\n",
    "model = load(model_file)\n",
    "\n",
    "data = input('알아서 입력하세요 : ')\n",
    "if len(data):\n",
    "    data_list = list(map(float, data.split(',')))  # 넣을 데이터에 컬럼명이 없으면 경고 메세지 뜬다.\n",
    "    feature_name = ['age', 'education', 'gender', 'height', 'is_hereditary', 'is_smoker',\n",
    "       'job_role', 'salary', 'stress', 'weight']\n",
    "    df = pd.DataFrame(dict(zip(feature_name, data_list)), index = [0])\n",
    "    print(df)\n",
    "\n",
    "    # 모델의 predict(2D)\n",
    "    pre_prob = model.predict(df)\n",
    "    #proba = np.round(np.max(model.predict_proba(df)[0]) * 100, 1)\n",
    "    print(f'해당 데이터를 가진 사람이 hair loss일 확률은 {np.round(pre_prob*100, 2)}% 입니다.')\n",
    "else:\n",
    "    print('입력된 정보가 없습니다.')"
   ]
  },
  {
   "cell_type": "code",
   "execution_count": null,
   "metadata": {},
   "outputs": [],
   "source": []
  }
 ],
 "metadata": {
  "kernelspec": {
   "display_name": "EXAM_MML",
   "language": "python",
   "name": "python3"
  },
  "language_info": {
   "codemirror_mode": {
    "name": "ipython",
    "version": 3
   },
   "file_extension": ".py",
   "mimetype": "text/x-python",
   "name": "python",
   "nbconvert_exporter": "python",
   "pygments_lexer": "ipython3",
   "version": "3.9.18"
  }
 },
 "nbformat": 4,
 "nbformat_minor": 2
}
