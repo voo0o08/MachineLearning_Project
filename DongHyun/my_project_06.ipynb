{
 "cells": [
  {
   "cell_type": "code",
   "execution_count": 2,
   "metadata": {},
   "outputs": [],
   "source": [
    "import pandas as pd\n",
    "import numpy as np\n",
    "import matplotlib.pyplot as plt\n",
    "import matplotlib as mpl\n",
    "import matplotlib.font_manager as fm\n",
    "import seaborn as sns\n",
    "import joblib\n",
    "import os\n",
    "\n",
    "from impyute.imputation.cs import fast_knn\n",
    "from sklearn.impute import KNNImputer, SimpleImputer\n",
    "from scipy import stats\n",
    "from scipy.stats import chi2_contingency\n",
    "from itertools import combinations\n",
    "from sklearn.metrics import matthews_corrcoef\n",
    "from sklearn.compose import ColumnTransformer, make_column_transformer\n",
    "from sklearn.model_selection import train_test_split\n",
    "from sklearn.preprocessing import StandardScaler, MinMaxScaler, RobustScaler, OneHotEncoder, LabelEncoder, OrdinalEncoder\n",
    "from sklearn.metrics import mean_absolute_error, mean_squared_error, r2_score\n",
    "\n",
    "from joblib import load\n",
    "from xgboost import XGBRegressor\n",
    "from sklearn.model_selection import GridSearchCV, RandomizedSearchCV"
   ]
  },
  {
   "cell_type": "markdown",
   "metadata": {},
   "source": [
    "## bald_probability"
   ]
  },
  {
   "cell_type": "code",
   "execution_count": 3,
   "metadata": {},
   "outputs": [],
   "source": [
    "# 폰트 파일의 경로 지정\n",
    "font_path = r'C:\\Windows\\Fonts\\gulim.ttc'"
   ]
  },
  {
   "cell_type": "code",
   "execution_count": 92,
   "metadata": {},
   "outputs": [],
   "source": [
    "# matplotlib 패키지에 한글 폰트 설정\n",
    "myFont = fm.FontProperties(fname = font_path).get_name()\n",
    "mpl.rc('font', family = myFont)"
   ]
  },
  {
   "cell_type": "code",
   "execution_count": 93,
   "metadata": {},
   "outputs": [],
   "source": [
    "data_file = './DATA/bald_probability.csv'"
   ]
  },
  {
   "cell_type": "code",
   "execution_count": 94,
   "metadata": {},
   "outputs": [
    {
     "data": {
      "text/plain": [
       "(7917, 14)"
      ]
     },
     "execution_count": 94,
     "metadata": {},
     "output_type": "execute_result"
    }
   ],
   "source": [
    "baldDF = pd.read_csv(data_file)\n",
    "baldDF.shape"
   ]
  },
  {
   "cell_type": "code",
   "execution_count": 95,
   "metadata": {},
   "outputs": [
    {
     "name": "stdout",
     "output_type": "stream",
     "text": [
      "<class 'pandas.core.frame.DataFrame'>\n",
      "RangeIndex: 7917 entries, 0 to 7916\n",
      "Data columns (total 14 columns):\n",
      " #   Column         Non-Null Count  Dtype  \n",
      "---  ------         --------------  -----  \n",
      " 0   age            7832 non-null   float64\n",
      " 1   gender         7840 non-null   object \n",
      " 2   job_role       6600 non-null   object \n",
      " 3   province       7831 non-null   object \n",
      " 4   salary         7843 non-null   float64\n",
      " 5   is_married     7845 non-null   float64\n",
      " 6   is_hereditary  7828 non-null   float64\n",
      " 7   weight         7861 non-null   float64\n",
      " 8   height         7843 non-null   float64\n",
      " 9   shampoo        7858 non-null   object \n",
      " 10  is_smoker      7847 non-null   float64\n",
      " 11  education      7847 non-null   object \n",
      " 12  stress         7853 non-null   float64\n",
      " 13  bald_prob      7838 non-null   float64\n",
      "dtypes: float64(9), object(5)\n",
      "memory usage: 866.0+ KB\n"
     ]
    }
   ],
   "source": [
    "baldDF.info()"
   ]
  },
  {
   "cell_type": "code",
   "execution_count": 96,
   "metadata": {},
   "outputs": [
    {
     "data": {
      "text/plain": [
       "True"
      ]
     },
     "execution_count": 96,
     "metadata": {},
     "output_type": "execute_result"
    }
   ],
   "source": [
    "baldDF.drop_duplicates().shape[0] == sum(~baldDF.duplicated())"
   ]
  },
  {
   "cell_type": "code",
   "execution_count": 97,
   "metadata": {},
   "outputs": [
    {
     "data": {
      "text/plain": [
       "(7835, 14)"
      ]
     },
     "execution_count": 97,
     "metadata": {},
     "output_type": "execute_result"
    }
   ],
   "source": [
    "# 중복 데이터 82개 삭제\n",
    "baldDF = baldDF.drop_duplicates()\n",
    "baldDF.shape"
   ]
  },
  {
   "cell_type": "code",
   "execution_count": 98,
   "metadata": {},
   "outputs": [
    {
     "data": {
      "text/plain": [
       "(7757, 14)"
      ]
     },
     "execution_count": 98,
     "metadata": {},
     "output_type": "execute_result"
    }
   ],
   "source": [
    "# bald_prob가 결측된 데이터 삭제\n",
    "baldDF = baldDF.dropna(subset = ['bald_prob'])\n",
    "baldDF.shape"
   ]
  },
  {
   "cell_type": "code",
   "execution_count": 99,
   "metadata": {},
   "outputs": [
    {
     "data": {
      "text/plain": [
       "age                70\n",
       "gender              2\n",
       "job_role            3\n",
       "province           34\n",
       "salary           7686\n",
       "is_married          2\n",
       "is_hereditary       2\n",
       "weight           7701\n",
       "height           7685\n",
       "shampoo             5\n",
       "is_smoker           2\n",
       "education           6\n",
       "stress             10\n",
       "bald_prob        7659\n",
       "dtype: int64"
      ]
     },
     "execution_count": 99,
     "metadata": {},
     "output_type": "execute_result"
    }
   ],
   "source": [
    "baldDF.nunique()"
   ]
  },
  {
   "cell_type": "code",
   "execution_count": 100,
   "metadata": {},
   "outputs": [
    {
     "data": {
      "image/png": "[encoded data removed]",
      "text/plain": [
       "<Figure size 1000x1000 with 9 Axes>"
      ]
     },
     "metadata": {},
     "output_type": "display_data"
    }
   ],
   "source": [
    "# 수치형 데이터 히스토그램\n",
    "baldDF.hist(figsize = (10, 10))\n",
    "plt.show()"
   ]
  },
  {
   "cell_type": "code",
   "execution_count": 101,
   "metadata": {},
   "outputs": [
    {
     "data": {
      "image/png": "[encoded data removed]",
      "text/plain": [
       "<Figure size 1000x700 with 5 Axes>"
      ]
     },
     "metadata": {},
     "output_type": "display_data"
    }
   ],
   "source": [
    "# 범주형 데이터 히스토그램\n",
    "ind = 1\n",
    "plt.figure(figsize = (10, 7))\n",
    "for col in baldDF.select_dtypes('object').columns:\n",
    "    plt.subplot(2, 3, ind)\n",
    "    plt.title(col, size = 20)\n",
    "    plt.bar(range(baldDF[col].nunique()), baldDF[col].value_counts())\n",
    "    plt.xticks(range(baldDF[col].nunique()), baldDF[col].dropna().unique(), rotation = 20)  # unique() 함수는 결측치도 카운트한다.\n",
    "    plt.grid(axis = 'y')\n",
    "    ind += 1\n",
    "\n",
    "plt.tight_layout()\n",
    "plt.show()"
   ]
  },
  {
   "cell_type": "code",
   "execution_count": 102,
   "metadata": {},
   "outputs": [
    {
     "data": {
      "text/html": [
       "<div>\n",
       "<style scoped>\n",
       "    .dataframe tbody tr th:only-of-type {\n",
       "        vertical-align: middle;\n",
       "    }\n",
       "\n",
       "    .dataframe tbody tr th {\n",
       "        vertical-align: top;\n",
       "    }\n",
       "\n",
       "    .dataframe thead th {\n",
       "        text-align: right;\n",
       "    }\n",
       "</style>\n",
       "<table border=\"1\" class=\"dataframe\">\n",
       "  <thead>\n",
       "    <tr style=\"text-align: right;\">\n",
       "      <th></th>\n",
       "      <th>age</th>\n",
       "      <th>gender</th>\n",
       "      <th>job_role</th>\n",
       "      <th>province</th>\n",
       "      <th>salary</th>\n",
       "      <th>is_hereditary</th>\n",
       "      <th>weight</th>\n",
       "      <th>height</th>\n",
       "      <th>shampoo</th>\n",
       "      <th>is_smoker</th>\n",
       "      <th>education</th>\n",
       "      <th>stress</th>\n",
       "      <th>bald_prob</th>\n",
       "    </tr>\n",
       "  </thead>\n",
       "  <tbody>\n",
       "    <tr>\n",
       "      <th>0</th>\n",
       "      <td>27.0</td>\n",
       "      <td>female</td>\n",
       "      <td>Government Employee</td>\n",
       "      <td>Bengkulu</td>\n",
       "      <td>7.957453e+06</td>\n",
       "      <td>0.0</td>\n",
       "      <td>54.315053</td>\n",
       "      <td>170.428542</td>\n",
       "      <td>Pantone</td>\n",
       "      <td>1.0</td>\n",
       "      <td>Bachelor Degree</td>\n",
       "      <td>5.0</td>\n",
       "      <td>0.605974</td>\n",
       "    </tr>\n",
       "    <tr>\n",
       "      <th>1</th>\n",
       "      <td>53.0</td>\n",
       "      <td>female</td>\n",
       "      <td>Government Employee</td>\n",
       "      <td>Bandung</td>\n",
       "      <td>7.633003e+06</td>\n",
       "      <td>0.0</td>\n",
       "      <td>72.873404</td>\n",
       "      <td>165.530097</td>\n",
       "      <td>Pantone</td>\n",
       "      <td>0.0</td>\n",
       "      <td>Bachelor Degree</td>\n",
       "      <td>7.0</td>\n",
       "      <td>0.532860</td>\n",
       "    </tr>\n",
       "    <tr>\n",
       "      <th>2</th>\n",
       "      <td>37.0</td>\n",
       "      <td>female</td>\n",
       "      <td>Employee</td>\n",
       "      <td>Bandung</td>\n",
       "      <td>6.637625e+06</td>\n",
       "      <td>0.0</td>\n",
       "      <td>46.321533</td>\n",
       "      <td>154.599388</td>\n",
       "      <td>Moonsilk</td>\n",
       "      <td>0.0</td>\n",
       "      <td>Bachelor Degree</td>\n",
       "      <td>4.0</td>\n",
       "      <td>0.418442</td>\n",
       "    </tr>\n",
       "    <tr>\n",
       "      <th>3</th>\n",
       "      <td>36.0</td>\n",
       "      <td>female</td>\n",
       "      <td>Jobless</td>\n",
       "      <td>Palu</td>\n",
       "      <td>3.624871e+06</td>\n",
       "      <td>0.0</td>\n",
       "      <td>51.539781</td>\n",
       "      <td>167.340481</td>\n",
       "      <td>Deadbuoy</td>\n",
       "      <td>1.0</td>\n",
       "      <td>Elementary School</td>\n",
       "      <td>9.0</td>\n",
       "      <td>0.804050</td>\n",
       "    </tr>\n",
       "    <tr>\n",
       "      <th>4</th>\n",
       "      <td>38.0</td>\n",
       "      <td>male</td>\n",
       "      <td>NaN</td>\n",
       "      <td>Palangkaraya</td>\n",
       "      <td>6.031808e+06</td>\n",
       "      <td>0.0</td>\n",
       "      <td>60.726909</td>\n",
       "      <td>165.514773</td>\n",
       "      <td>Merpati</td>\n",
       "      <td>1.0</td>\n",
       "      <td>Magister Degree</td>\n",
       "      <td>1.0</td>\n",
       "      <td>0.368371</td>\n",
       "    </tr>\n",
       "  </tbody>\n",
       "</table>\n",
       "</div>"
      ],
      "text/plain": [
       "    age  gender             job_role      province        salary  \\\n",
       "0  27.0  female  Government Employee      Bengkulu  7.957453e+06   \n",
       "1  53.0  female  Government Employee       Bandung  7.633003e+06   \n",
       "2  37.0  female             Employee       Bandung  6.637625e+06   \n",
       "3  36.0  female              Jobless          Palu  3.624871e+06   \n",
       "4  38.0    male                  NaN  Palangkaraya  6.031808e+06   \n",
       "\n",
       "   is_hereditary     weight      height   shampoo  is_smoker  \\\n",
       "0            0.0  54.315053  170.428542   Pantone        1.0   \n",
       "1            0.0  72.873404  165.530097   Pantone        0.0   \n",
       "2            0.0  46.321533  154.599388  Moonsilk        0.0   \n",
       "3            0.0  51.539781  167.340481  Deadbuoy        1.0   \n",
       "4            0.0  60.726909  165.514773   Merpati        1.0   \n",
       "\n",
       "           education  stress  bald_prob  \n",
       "0    Bachelor Degree     5.0   0.605974  \n",
       "1    Bachelor Degree     7.0   0.532860  \n",
       "2    Bachelor Degree     4.0   0.418442  \n",
       "3  Elementary School     9.0   0.804050  \n",
       "4    Magister Degree     1.0   0.368371  "
      ]
     },
     "execution_count": 102,
     "metadata": {},
     "output_type": "execute_result"
    }
   ],
   "source": [
    "# 기혼자만 고려\n",
    "baldDF = baldDF.drop('is_married', axis = 1)\n",
    "baldDF.head()"
   ]
  },
  {
   "cell_type": "markdown",
   "metadata": {},
   "source": [
    "### 데이터 전처리 <hr>"
   ]
  },
  {
   "cell_type": "markdown",
   "metadata": {},
   "source": [
    "#### 이상치 처리"
   ]
  },
  {
   "cell_type": "code",
   "execution_count": 103,
   "metadata": {},
   "outputs": [],
   "source": [
    "# Z-score 기반 이상치 탐지 함수\n",
    "\n",
    "def find_outlier(column_list, scale = 3, df = baldDF):\n",
    "    for col in column_list:\n",
    "        mean_value = df[col].mean()\n",
    "        std_value = df[col].std()\n",
    "\n",
    "        base =scale\n",
    "        z_data = (df[col] - mean_value) / std_value\n",
    "        mask = z_data.abs() > base\n",
    "        print(f'{col} 특성의 이상치 개수 : {z_data[mask].count()}개\\n')"
   ]
  },
  {
   "cell_type": "code",
   "execution_count": 104,
   "metadata": {},
   "outputs": [
    {
     "name": "stdout",
     "output_type": "stream",
     "text": [
      "age 특성의 이상치 개수 : 17개\n",
      "\n",
      "height 특성의 이상치 개수 : 23개\n",
      "\n"
     ]
    }
   ],
   "source": [
    "find_outlier(['age', 'height'])"
   ]
  },
  {
   "cell_type": "code",
   "execution_count": 105,
   "metadata": {},
   "outputs": [
    {
     "data": {
      "text/plain": [
       "(7757, 13)"
      ]
     },
     "execution_count": 105,
     "metadata": {},
     "output_type": "execute_result"
    }
   ],
   "source": [
    "baldDF.shape"
   ]
  },
  {
   "cell_type": "code",
   "execution_count": 106,
   "metadata": {},
   "outputs": [],
   "source": [
    "# Z-score 기반 이상치 제거 함수\n",
    "def delete_outlier(column_list, scale = 3, df = baldDF):\n",
    "    del_index_list = []\n",
    "    for col in column_list:\n",
    "        mean_value = df[col].mean()\n",
    "        std_value = df[col].std()\n",
    "        base = scale\n",
    "        z_data = (df[col] - mean_value) / std_value\n",
    "        mask = z_data.abs() > base\n",
    "        index_list = list(df[mask].index)\n",
    "        del_index_list += index_list\n",
    "    \n",
    "    del_index_list = list(set(del_index_list))\n",
    "    df = df.drop(del_index_list)\n",
    "    df.reset_index(drop = True, inplace = True)\n",
    "    \n",
    "    return df"
   ]
  },
  {
   "cell_type": "code",
   "execution_count": 107,
   "metadata": {},
   "outputs": [],
   "source": [
    "# Z-score 기반으로 age, height 이상치가 포함된 데이터 삭제\n",
    "baldDF = delete_outlier(['age', 'height'])"
   ]
  },
  {
   "cell_type": "code",
   "execution_count": 108,
   "metadata": {},
   "outputs": [
    {
     "data": {
      "text/plain": [
       "(7717, 13)"
      ]
     },
     "execution_count": 108,
     "metadata": {},
     "output_type": "execute_result"
    }
   ],
   "source": [
    "# height 이상치가 포함된 데이터 삭제 확인\n",
    "baldDF.shape"
   ]
  },
  {
   "cell_type": "code",
   "execution_count": 109,
   "metadata": {},
   "outputs": [],
   "source": [
    "# 사분위수 기반 이상치 탐지 함수\n",
    "def find_outlier2(column_list, scale = 1.5, df = baldDF):\n",
    "    for col in column_list:\n",
    "        q1 = df[col].quantile(0.25)\n",
    "        q3 = df[col].quantile(0.75)\n",
    "        iqr = q3 - q1\n",
    "        \n",
    "        # 이상치로 판단할 기준이 되는 값\n",
    "        lower = q1 - scale*iqr\n",
    "        upper = q3 + scale*iqr\n",
    "        mask = (df[col] < lower) | (df[col] > upper) \n",
    "        \n",
    "        print(f'{col} 특성의 이상치 개수 : {df[col][mask].count()}개\\n')"
   ]
  },
  {
   "cell_type": "code",
   "execution_count": 110,
   "metadata": {},
   "outputs": [
    {
     "name": "stdout",
     "output_type": "stream",
     "text": [
      "salary 특성의 이상치 개수 : 277개\n",
      "\n",
      "weight 특성의 이상치 개수 : 276개\n",
      "\n"
     ]
    }
   ],
   "source": [
    "# 사분위수 기반\n",
    "find_outlier2(['salary', 'weight'])"
   ]
  },
  {
   "cell_type": "code",
   "execution_count": 111,
   "metadata": {},
   "outputs": [],
   "source": [
    "# 사분위수 기반 이상치 제거 함수\n",
    "def delete_outlier2(column_list, scale = 1.5, df = baldDF):\n",
    "    del_index_list = []\n",
    "    for column in column_list:\n",
    "        q1 = df[column].quantile(0.25)\n",
    "        q3 = df[column].quantile(0.75)\n",
    "        iqr = q3 - q1\n",
    "        lower = q1 - scale*iqr\n",
    "        upper = q3 + scale*iqr\n",
    "        mask = (df[column] > upper) | (df[column] < lower)\n",
    "        index_list = list(df[mask].index)\n",
    "        del_index_list += index_list\n",
    "    \n",
    "    del_index_list = list(set(del_index_list))\n",
    "    df = df.drop(del_index_list)\n",
    "    df.reset_index(drop = True, inplace = True)\n",
    "    \n",
    "    return df"
   ]
  },
  {
   "cell_type": "code",
   "execution_count": 112,
   "metadata": {},
   "outputs": [],
   "source": [
    "# 사분위수 기반으로 salary, weight 이상치가 포함된 데이터 삭제\n",
    "baldDF = delete_outlier2(['salary', 'weight'])"
   ]
  },
  {
   "cell_type": "code",
   "execution_count": 113,
   "metadata": {},
   "outputs": [
    {
     "data": {
      "text/plain": [
       "(7175, 13)"
      ]
     },
     "execution_count": 113,
     "metadata": {},
     "output_type": "execute_result"
    }
   ],
   "source": [
    "# 사분위수 기반으로 salary, weight 이상치가 포함된 데이터 삭제 확인\n",
    "baldDF.shape"
   ]
  },
  {
   "cell_type": "markdown",
   "metadata": {},
   "source": [
    "#### 결측치 처리"
   ]
  },
  {
   "cell_type": "code",
   "execution_count": 114,
   "metadata": {},
   "outputs": [
    {
     "data": {
      "text/plain": [
       "age                80\n",
       "gender             68\n",
       "job_role         1192\n",
       "province           81\n",
       "salary             68\n",
       "is_hereditary      82\n",
       "weight             54\n",
       "height             62\n",
       "shampoo            55\n",
       "is_smoker          64\n",
       "education          65\n",
       "stress             55\n",
       "bald_prob           0\n",
       "dtype: int64"
      ]
     },
     "execution_count": 114,
     "metadata": {},
     "output_type": "execute_result"
    }
   ],
   "source": [
    "# 피처별 결측치 개수\n",
    "baldDF.isna().sum()"
   ]
  },
  {
   "cell_type": "markdown",
   "metadata": {},
   "source": [
    "- bald_prob 결측치 처리 => 위에서 결측치를 포함한 데이터 삭제"
   ]
  },
  {
   "cell_type": "markdown",
   "metadata": {},
   "source": [
    "- age 결측치 처리"
   ]
  },
  {
   "cell_type": "code",
   "execution_count": 115,
   "metadata": {},
   "outputs": [
    {
     "data": {
      "text/plain": [
       "age\n",
       "37.0    342\n",
       "41.0    298\n",
       "40.0    289\n",
       "38.0    285\n",
       "35.0    283\n",
       "43.0    270\n",
       "36.0    269\n",
       "39.0    267\n",
       "42.0    259\n",
       "44.0    258\n",
       "34.0    243\n",
       "45.0    243\n",
       "33.0    228\n",
       "47.0    221\n",
       "46.0    213\n",
       "32.0    206\n",
       "48.0    196\n",
       "31.0    194\n",
       "49.0    186\n",
       "30.0    172\n",
       "50.0    165\n",
       "29.0    164\n",
       "51.0    154\n",
       "28.0    135\n",
       "27.0    123\n",
       "53.0    120\n",
       "52.0    119\n",
       "26.0    104\n",
       "54.0    101\n",
       "25.0     90\n",
       "56.0     89\n",
       "55.0     77\n",
       "24.0     76\n",
       "23.0     69\n",
       "22.0     65\n",
       "57.0     59\n",
       "21.0     57\n",
       "20.0     54\n",
       "58.0     48\n",
       "19.0     36\n",
       "60.0     30\n",
       "59.0     29\n",
       "17.0     23\n",
       "18.0     21\n",
       "64.0     17\n",
       "63.0     17\n",
       "61.0     16\n",
       "16.0     16\n",
       "62.0     15\n",
       "65.0     13\n",
       "11.0     11\n",
       "15.0     10\n",
       "69.0      9\n",
       "14.0      9\n",
       "13.0      7\n",
       "66.0      6\n",
       "12.0      6\n",
       "67.0      5\n",
       "10.0      4\n",
       "68.0      4\n",
       "Name: count, dtype: int64"
      ]
     },
     "execution_count": 115,
     "metadata": {},
     "output_type": "execute_result"
    }
   ],
   "source": [
    "baldDF.age.value_counts()"
   ]
  },
  {
   "cell_type": "markdown",
   "metadata": {},
   "source": [
    "- gender 결측치 처리 => 남자와 여자의 키, 몸무게 분포가 비슷하여 키 또는 몸무게로 성별 결측치 채우기 어렵다. 교육 수준으로도 판별하기 어렵다."
   ]
  },
  {
   "cell_type": "code",
   "execution_count": 116,
   "metadata": {},
   "outputs": [
    {
     "data": {
      "text/plain": [
       "80"
      ]
     },
     "execution_count": 116,
     "metadata": {},
     "output_type": "execute_result"
    }
   ],
   "source": [
    "baldDF.age.isna().sum()"
   ]
  },
  {
   "cell_type": "code",
   "execution_count": 117,
   "metadata": {},
   "outputs": [
    {
     "name": "stdout",
     "output_type": "stream",
     "text": [
      "male => 4866개\n",
      "\n",
      "female = > 2241개\n"
     ]
    },
    {
     "data": {
      "text/plain": [
       "(count    4825.000000\n",
       " mean      166.818752\n",
       " std        10.437423\n",
       " min       134.489227\n",
       " 25%       159.609281\n",
       " 50%       166.843629\n",
       " 75%       174.002593\n",
       " max       197.528947\n",
       " Name: height, dtype: float64,\n",
       " count    2220.000000\n",
       " mean      166.439440\n",
       " std        10.517874\n",
       " min       135.286161\n",
       " 25%       159.385961\n",
       " 50%       166.465553\n",
       " 75%       173.342696\n",
       " max       197.420836\n",
       " Name: height, dtype: float64)"
      ]
     },
     "execution_count": 117,
     "metadata": {},
     "output_type": "execute_result"
    }
   ],
   "source": [
    "#baldDF.groupby('gender')\n",
    "maleDF = baldDF.groupby('gender').get_group('male')\n",
    "femaleDF = baldDF.groupby('gender').get_group('female')\n",
    "print(f'male => {maleDF.shape[0]}개\\n\\nfemale = > {femaleDF.shape[0]}개')\n",
    "maleDF['height'].describe(), femaleDF['height'].describe()"
   ]
  },
  {
   "cell_type": "code",
   "execution_count": 118,
   "metadata": {},
   "outputs": [
    {
     "data": {
      "image/png": "[encoded data removed]",
      "text/plain": [
       "<Figure size 640x480 with 1 Axes>"
      ]
     },
     "metadata": {},
     "output_type": "display_data"
    }
   ],
   "source": [
    "# 남자 키와 여자 키 비교\n",
    "plt.hist(maleDF['height'], label = 'male')\n",
    "plt.hist(femaleDF['height'], label = 'female')\n",
    "plt.title('[Height]', size = 20)\n",
    "plt.legend()\n",
    "plt.show()"
   ]
  },
  {
   "cell_type": "code",
   "execution_count": 119,
   "metadata": {},
   "outputs": [
    {
     "data": {
      "image/png": "[encoded data removed]",
      "text/plain": [
       "<Figure size 640x480 with 1 Axes>"
      ]
     },
     "metadata": {},
     "output_type": "display_data"
    }
   ],
   "source": [
    "# 남자 몸무게와 여자 몸무게 비교\n",
    "plt.hist(maleDF['weight'], label = 'male')\n",
    "plt.hist(femaleDF['weight'], label = 'female')\n",
    "plt.title('[Weight]', size = 20)\n",
    "plt.legend()\n",
    "plt.show()"
   ]
  },
  {
   "cell_type": "code",
   "execution_count": 120,
   "metadata": {},
   "outputs": [
    {
     "data": {
      "image/png": "[encoded data removed]",
      "text/plain": [
       "<Figure size 640x480 with 1 Axes>"
      ]
     },
     "metadata": {},
     "output_type": "display_data"
    }
   ],
   "source": [
    "plt.bar(range(maleDF['education'].nunique()), maleDF['education'].value_counts(), label = 'male')\n",
    "plt.bar(range(femaleDF['education'].nunique()), femaleDF['education'].value_counts(), label = 'female')\n",
    "plt.xticks(range(baldDF['education'].nunique()), baldDF['education'].dropna().unique(), rotation = 20)\n",
    "plt.legend()\n",
    "plt.show()"
   ]
  },
  {
   "cell_type": "markdown",
   "metadata": {},
   "source": [
    "- job_role 결측치 처리"
   ]
  },
  {
   "cell_type": "code",
   "execution_count": 121,
   "metadata": {},
   "outputs": [
    {
     "data": {
      "image/png": "[encoded data removed]",
      "text/plain": [
       "<Figure size 1200x500 with 2 Axes>"
      ]
     },
     "metadata": {},
     "output_type": "display_data"
    }
   ],
   "source": [
    "df2 = baldDF[baldDF.job_role.isna()]  # job_role이 결측치인 데이터만 추출\n",
    "job = baldDF.groupby('job_role')\n",
    "plt.figure(figsize = (12, 5))\n",
    "plt.subplot(1, 2, 1)\n",
    "for col in ['Government Employee', 'Employee']:\n",
    "    df = job.get_group(col)\n",
    "    salary = df.salary\n",
    "    plt.hist(salary, label = f'{col}', alpha = 0.7)\n",
    "plt.hist(df2.salary, label = 'Nan')\n",
    "plt.xlabel('salary', size = 15)\n",
    "plt.legend()\n",
    "\n",
    "plt.subplot(1, 2, 2)\n",
    "plt.hist(job.get_group('Jobless').salary, label = 'Jobless')\n",
    "plt.xlabel('salary', size = 15)\n",
    "plt.legend()\n",
    "plt.show()"
   ]
  },
  {
   "cell_type": "code",
   "execution_count": 122,
   "metadata": {},
   "outputs": [],
   "source": [
    "# 결측값 \n",
    "baldDF['job_role'] = baldDF['job_role'].fillna('etc')"
   ]
  },
  {
   "cell_type": "code",
   "execution_count": 123,
   "metadata": {},
   "outputs": [
    {
     "data": {
      "text/plain": [
       "0"
      ]
     },
     "execution_count": 123,
     "metadata": {},
     "output_type": "execute_result"
    }
   ],
   "source": [
    "baldDF.job_role.isna().sum()"
   ]
  },
  {
   "cell_type": "markdown",
   "metadata": {},
   "source": [
    "- province 결측치 처리"
   ]
  },
  {
   "cell_type": "code",
   "execution_count": 124,
   "metadata": {},
   "outputs": [
    {
     "data": {
      "text/plain": [
       "province\n",
       "Kupang            234\n",
       "Tanjungselor      229\n",
       "Makassar          220\n",
       "Mamuju            220\n",
       "Banjarmasin       220\n",
       "Mataram           219\n",
       "Manado            217\n",
       "Denpasar          217\n",
       "Tanjung Pinang    214\n",
       "Bengkulu          214\n",
       "Semarang          213\n",
       "Jakarta           212\n",
       "Ambon             212\n",
       "Gorontalo         212\n",
       "Pangkalpinang     211\n",
       "Serang            210\n",
       "Jayapura          210\n",
       "Samarinda         207\n",
       "Pontianak         207\n",
       "Banda Lampung     206\n",
       "Yogyakarta        205\n",
       "Pekanbaru         205\n",
       "Kendari           205\n",
       "Padang            204\n",
       "Jambi             203\n",
       "Manokwari         203\n",
       "Palembang         202\n",
       "Medan             201\n",
       "Banda Aceh        200\n",
       "Palu              200\n",
       "Palangkaraya      199\n",
       "Bandung           194\n",
       "Sofifi            190\n",
       "Surabaya          179\n",
       "Name: count, dtype: int64"
      ]
     },
     "execution_count": 124,
     "metadata": {},
     "output_type": "execute_result"
    }
   ],
   "source": [
    "baldDF.province.value_counts()"
   ]
  },
  {
   "cell_type": "code",
   "execution_count": 125,
   "metadata": {},
   "outputs": [
    {
     "data": {
      "text/plain": [
       "81"
      ]
     },
     "execution_count": 125,
     "metadata": {},
     "output_type": "execute_result"
    }
   ],
   "source": [
    "baldDF.province.isna().sum()"
   ]
  },
  {
   "cell_type": "markdown",
   "metadata": {},
   "source": [
    "- salary, weight, height 결측치 처리"
   ]
  },
  {
   "cell_type": "code",
   "execution_count": 126,
   "metadata": {},
   "outputs": [
    {
     "name": "stdout",
     "output_type": "stream",
     "text": [
      "<class 'pandas.core.frame.DataFrame'>\n",
      "RangeIndex: 7175 entries, 0 to 7174\n",
      "Data columns (total 3 columns):\n",
      " #   Column  Non-Null Count  Dtype  \n",
      "---  ------  --------------  -----  \n",
      " 0   salary  7175 non-null   float64\n",
      " 1   weight  7175 non-null   float64\n",
      " 2   height  7175 non-null   float64\n",
      "dtypes: float64(3)\n",
      "memory usage: 168.3 KB\n"
     ]
    }
   ],
   "source": [
    "imputer = KNNImputer(n_neighbors = 5)  # 이웃수는 나중에 조정\n",
    "imputed = imputer.fit_transform(baldDF[['salary', 'weight', 'height']])\n",
    "df_imputed = pd.DataFrame(imputed, columns = ['salary', 'weight', 'height'])\n",
    "df_imputed.info()"
   ]
  },
  {
   "cell_type": "code",
   "execution_count": 127,
   "metadata": {},
   "outputs": [
    {
     "data": {
      "text/html": [
       "<div>\n",
       "<style scoped>\n",
       "    .dataframe tbody tr th:only-of-type {\n",
       "        vertical-align: middle;\n",
       "    }\n",
       "\n",
       "    .dataframe tbody tr th {\n",
       "        vertical-align: top;\n",
       "    }\n",
       "\n",
       "    .dataframe thead th {\n",
       "        text-align: right;\n",
       "    }\n",
       "</style>\n",
       "<table border=\"1\" class=\"dataframe\">\n",
       "  <thead>\n",
       "    <tr style=\"text-align: right;\">\n",
       "      <th></th>\n",
       "      <th>salary</th>\n",
       "      <th>weight</th>\n",
       "      <th>height</th>\n",
       "    </tr>\n",
       "  </thead>\n",
       "  <tbody>\n",
       "    <tr>\n",
       "      <th>0</th>\n",
       "      <td>7.957453e+06</td>\n",
       "      <td>54.315053</td>\n",
       "      <td>170.428542</td>\n",
       "    </tr>\n",
       "    <tr>\n",
       "      <th>1</th>\n",
       "      <td>7.633003e+06</td>\n",
       "      <td>72.873404</td>\n",
       "      <td>165.530097</td>\n",
       "    </tr>\n",
       "    <tr>\n",
       "      <th>2</th>\n",
       "      <td>6.637625e+06</td>\n",
       "      <td>46.321533</td>\n",
       "      <td>154.599388</td>\n",
       "    </tr>\n",
       "    <tr>\n",
       "      <th>3</th>\n",
       "      <td>3.624871e+06</td>\n",
       "      <td>51.539781</td>\n",
       "      <td>167.340481</td>\n",
       "    </tr>\n",
       "    <tr>\n",
       "      <th>4</th>\n",
       "      <td>6.031808e+06</td>\n",
       "      <td>60.726909</td>\n",
       "      <td>165.514773</td>\n",
       "    </tr>\n",
       "    <tr>\n",
       "      <th>...</th>\n",
       "      <td>...</td>\n",
       "      <td>...</td>\n",
       "      <td>...</td>\n",
       "    </tr>\n",
       "    <tr>\n",
       "      <th>7170</th>\n",
       "      <td>4.286318e+06</td>\n",
       "      <td>46.893444</td>\n",
       "      <td>169.880171</td>\n",
       "    </tr>\n",
       "    <tr>\n",
       "      <th>7171</th>\n",
       "      <td>8.646146e+06</td>\n",
       "      <td>53.878714</td>\n",
       "      <td>170.122857</td>\n",
       "    </tr>\n",
       "    <tr>\n",
       "      <th>7172</th>\n",
       "      <td>6.850066e+06</td>\n",
       "      <td>64.171294</td>\n",
       "      <td>161.384804</td>\n",
       "    </tr>\n",
       "    <tr>\n",
       "      <th>7173</th>\n",
       "      <td>1.204960e+07</td>\n",
       "      <td>55.217752</td>\n",
       "      <td>179.602130</td>\n",
       "    </tr>\n",
       "    <tr>\n",
       "      <th>7174</th>\n",
       "      <td>4.888239e+06</td>\n",
       "      <td>52.699072</td>\n",
       "      <td>186.913795</td>\n",
       "    </tr>\n",
       "  </tbody>\n",
       "</table>\n",
       "<p>7175 rows × 3 columns</p>\n",
       "</div>"
      ],
      "text/plain": [
       "            salary     weight      height\n",
       "0     7.957453e+06  54.315053  170.428542\n",
       "1     7.633003e+06  72.873404  165.530097\n",
       "2     6.637625e+06  46.321533  154.599388\n",
       "3     3.624871e+06  51.539781  167.340481\n",
       "4     6.031808e+06  60.726909  165.514773\n",
       "...            ...        ...         ...\n",
       "7170  4.286318e+06  46.893444  169.880171\n",
       "7171  8.646146e+06  53.878714  170.122857\n",
       "7172  6.850066e+06  64.171294  161.384804\n",
       "7173  1.204960e+07  55.217752  179.602130\n",
       "7174  4.888239e+06  52.699072  186.913795\n",
       "\n",
       "[7175 rows x 3 columns]"
      ]
     },
     "execution_count": 127,
     "metadata": {},
     "output_type": "execute_result"
    }
   ],
   "source": [
    "df_imputed"
   ]
  },
  {
   "cell_type": "code",
   "execution_count": 128,
   "metadata": {},
   "outputs": [],
   "source": [
    "for col in ['salary', 'weight', 'height']:\n",
    "    baldDF[col] = df_imputed[col].values"
   ]
  },
  {
   "cell_type": "code",
   "execution_count": 129,
   "metadata": {},
   "outputs": [
    {
     "data": {
      "text/plain": [
       "age              80\n",
       "gender           68\n",
       "job_role          0\n",
       "province         81\n",
       "salary            0\n",
       "is_hereditary    82\n",
       "weight            0\n",
       "height            0\n",
       "shampoo          55\n",
       "is_smoker        64\n",
       "education        65\n",
       "stress           55\n",
       "bald_prob         0\n",
       "dtype: int64"
      ]
     },
     "execution_count": 129,
     "metadata": {},
     "output_type": "execute_result"
    }
   ],
   "source": [
    "# 결측치 채워졌는지 확인\n",
    "baldDF.isna().sum()"
   ]
  },
  {
   "cell_type": "code",
   "execution_count": 130,
   "metadata": {},
   "outputs": [],
   "source": [
    "# def optimize_k(data, target):\n",
    "#     errors = []\n",
    "\n",
    "#     for k in range(1, 20, 2):\n",
    "#         imputer = KNNImputer(n_neighbors=k)\n",
    "#         imputed = imputer.fit_transform(data)\n",
    "#         df_imputed = pd.DataFrame(imputed, columns=df.columns)\n",
    "\n",
    "#         X = df_imputed.drop(target, axis=1)\n",
    "#         y = df_imputed[target]\n",
    "#         X_train, X_test, y_train, y_test = train_test_split(X, y, test_size=0.2, random_state=42)\n",
    "\n",
    "#         model = RandomForestRegressor()\n",
    "#         model.fit(X_train, y_train)\n",
    "#         preds = model.predict(X_test)\n",
    "#         error = rmse(y_test, preds)\n",
    "\n",
    "#         errors.append({'K': k, 'RMSE': error})\n",
    "#     return errors"
   ]
  },
  {
   "cell_type": "markdown",
   "metadata": {},
   "source": [
    "- is_hereditary 결측치 처리"
   ]
  },
  {
   "cell_type": "code",
   "execution_count": 131,
   "metadata": {},
   "outputs": [
    {
     "data": {
      "text/plain": [
       "is_hereditary\n",
       "0.0    5644\n",
       "1.0    1449\n",
       "Name: count, dtype: int64"
      ]
     },
     "execution_count": 131,
     "metadata": {},
     "output_type": "execute_result"
    }
   ],
   "source": [
    "baldDF.is_hereditary.value_counts()"
   ]
  },
  {
   "cell_type": "code",
   "execution_count": 132,
   "metadata": {},
   "outputs": [
    {
     "data": {
      "text/plain": [
       "82"
      ]
     },
     "execution_count": 132,
     "metadata": {},
     "output_type": "execute_result"
    }
   ],
   "source": [
    "baldDF.is_hereditary.isna().sum()"
   ]
  },
  {
   "cell_type": "markdown",
   "metadata": {},
   "source": [
    "- shampoo 결측치 처리"
   ]
  },
  {
   "cell_type": "code",
   "execution_count": 133,
   "metadata": {},
   "outputs": [
    {
     "data": {
      "text/plain": [
       "shampoo\n",
       "Deadbuoy           1470\n",
       "Moonsilk           1447\n",
       "Pantone            1426\n",
       "Shoulder & Head    1410\n",
       "Merpati            1367\n",
       "Name: count, dtype: int64"
      ]
     },
     "execution_count": 133,
     "metadata": {},
     "output_type": "execute_result"
    }
   ],
   "source": [
    "baldDF.shampoo.value_counts()"
   ]
  },
  {
   "cell_type": "code",
   "execution_count": 134,
   "metadata": {},
   "outputs": [
    {
     "data": {
      "text/plain": [
       "55"
      ]
     },
     "execution_count": 134,
     "metadata": {},
     "output_type": "execute_result"
    }
   ],
   "source": [
    "baldDF.shampoo.isna().sum()"
   ]
  },
  {
   "cell_type": "markdown",
   "metadata": {},
   "source": [
    "- is_smoker 결측치 처리"
   ]
  },
  {
   "cell_type": "code",
   "execution_count": 135,
   "metadata": {},
   "outputs": [
    {
     "data": {
      "text/plain": [
       "is_smoker\n",
       "1.0    3556\n",
       "0.0    3555\n",
       "Name: count, dtype: int64"
      ]
     },
     "execution_count": 135,
     "metadata": {},
     "output_type": "execute_result"
    }
   ],
   "source": [
    "baldDF.is_smoker.value_counts()"
   ]
  },
  {
   "cell_type": "code",
   "execution_count": 136,
   "metadata": {},
   "outputs": [
    {
     "data": {
      "text/plain": [
       "64"
      ]
     },
     "execution_count": 136,
     "metadata": {},
     "output_type": "execute_result"
    }
   ],
   "source": [
    "baldDF.is_smoker.isna().sum()"
   ]
  },
  {
   "cell_type": "markdown",
   "metadata": {},
   "source": [
    "- education 결측치 처리"
   ]
  },
  {
   "cell_type": "code",
   "execution_count": 137,
   "metadata": {},
   "outputs": [
    {
     "data": {
      "text/plain": [
       "education\n",
       "Bachelor Degree       3898\n",
       "Senior High School    1795\n",
       "Magister Degree        552\n",
       "Junior High School     512\n",
       "Elementary School      209\n",
       "Doctoral Degree        144\n",
       "Name: count, dtype: int64"
      ]
     },
     "execution_count": 137,
     "metadata": {},
     "output_type": "execute_result"
    }
   ],
   "source": [
    "baldDF.education.value_counts()"
   ]
  },
  {
   "cell_type": "code",
   "execution_count": 138,
   "metadata": {},
   "outputs": [
    {
     "data": {
      "text/plain": [
       "65"
      ]
     },
     "execution_count": 138,
     "metadata": {},
     "output_type": "execute_result"
    }
   ],
   "source": [
    "baldDF.education.isna().sum()"
   ]
  },
  {
   "cell_type": "markdown",
   "metadata": {},
   "source": [
    "- stress 결측치 처리"
   ]
  },
  {
   "cell_type": "code",
   "execution_count": 139,
   "metadata": {},
   "outputs": [
    {
     "data": {
      "text/plain": [
       "stress\n",
       "4.0     777\n",
       "1.0     740\n",
       "3.0     732\n",
       "8.0     722\n",
       "9.0     720\n",
       "6.0     717\n",
       "7.0     690\n",
       "2.0     686\n",
       "10.0    673\n",
       "5.0     663\n",
       "Name: count, dtype: int64"
      ]
     },
     "execution_count": 139,
     "metadata": {},
     "output_type": "execute_result"
    }
   ],
   "source": [
    "baldDF.stress.value_counts()"
   ]
  },
  {
   "cell_type": "code",
   "execution_count": 140,
   "metadata": {},
   "outputs": [
    {
     "data": {
      "text/plain": [
       "55"
      ]
     },
     "execution_count": 140,
     "metadata": {},
     "output_type": "execute_result"
    }
   ],
   "source": [
    "baldDF.stress.isna().sum()"
   ]
  },
  {
   "cell_type": "markdown",
   "metadata": {},
   "source": [
    "- age, gender, province, is_hereditary, shampoo, is_smoker, education, stress 결측치 처리"
   ]
  },
  {
   "cell_type": "code",
   "execution_count": 141,
   "metadata": {},
   "outputs": [
    {
     "data": {
      "text/plain": [
       "age              0\n",
       "gender           0\n",
       "province         0\n",
       "is_hereditary    0\n",
       "shampoo          0\n",
       "is_smoker        0\n",
       "education        0\n",
       "stress           0\n",
       "dtype: int64"
      ]
     },
     "execution_count": 141,
     "metadata": {},
     "output_type": "execute_result"
    }
   ],
   "source": [
    "simp = SimpleImputer(missing_values = np.nan, strategy = 'most_frequent')\n",
    "df = baldDF.copy()\n",
    "df = df[['age', 'gender', 'province', 'is_hereditary', 'shampoo', 'is_smoker', 'education', 'stress']]\n",
    "df = pd.DataFrame(simp.fit_transform(df), columns = df.columns, index = df.index)\n",
    "df.isna().sum()"
   ]
  },
  {
   "cell_type": "code",
   "execution_count": 142,
   "metadata": {},
   "outputs": [],
   "source": [
    "# 각 피처의 결측값을 최빈값으로 대체\n",
    "for col in ['age', 'gender', 'province', 'is_hereditary', 'shampoo', 'is_smoker', 'education', 'stress']:\n",
    "    baldDF[col] = df[col].values"
   ]
  },
  {
   "cell_type": "code",
   "execution_count": 143,
   "metadata": {},
   "outputs": [],
   "source": [
    "# 범주형 데이터 피처 중 실수형은 정수형으로 변환\n",
    "baldDF = baldDF.astype({'age' : int, 'is_hereditary' : int, 'is_smoker' : int, 'stress' : int})"
   ]
  },
  {
   "cell_type": "code",
   "execution_count": 144,
   "metadata": {},
   "outputs": [
    {
     "name": "stderr",
     "output_type": "stream",
     "text": [
      "C:\\Users\\user\\AppData\\Local\\Temp\\ipykernel_18980\\3452699836.py:2: FutureWarning: Downcasting behavior in `replace` is deprecated and will be removed in a future version. To retain the old behavior, explicitly call `result.infer_objects(copy=False)`. To opt-in to the future behavior, set `pd.set_option('future.no_silent_downcasting', True)`\n",
      "  baldDF['gender'] = baldDF['gender'].replace({'female' : 0, 'male' : 1})\n"
     ]
    }
   ],
   "source": [
    "# gender 피처 데이터는 0, 1로 변환\n",
    "baldDF['gender'] = baldDF['gender'].replace({'female' : 0, 'male' : 1})"
   ]
  },
  {
   "cell_type": "code",
   "execution_count": 145,
   "metadata": {},
   "outputs": [
    {
     "data": {
      "text/plain": [
       "array(['Bachelor Degree', 'Elementary School', 'Magister Degree',\n",
       "       'Senior High School', 'Junior High School', 'Doctoral Degree'],\n",
       "      dtype=object)"
      ]
     },
     "execution_count": 145,
     "metadata": {},
     "output_type": "execute_result"
    }
   ],
   "source": [
    "baldDF.education.unique()"
   ]
  },
  {
   "cell_type": "code",
   "execution_count": 146,
   "metadata": {},
   "outputs": [
    {
     "name": "stderr",
     "output_type": "stream",
     "text": [
      "C:\\Users\\user\\AppData\\Local\\Temp\\ipykernel_18980\\2236647895.py:3: FutureWarning: Downcasting behavior in `replace` is deprecated and will be removed in a future version. To retain the old behavior, explicitly call `result.infer_objects(copy=False)`. To opt-in to the future behavior, set `pd.set_option('future.no_silent_downcasting', True)`\n",
      "  baldDF['education'] = baldDF['education'].replace({'Elementary School' : 1,\n"
     ]
    }
   ],
   "source": [
    "# education 피처 데이터는 학위 순으로 1 ~ 6으로 배정\n",
    "\n",
    "baldDF['education'] = baldDF['education'].replace({'Elementary School' : 1,\n",
    "                                                   'Junior High School' : 2,\n",
    "                                                   'Senior High School' :3,\n",
    "                                                   'Bachelor Degree' : 4,\n",
    "                                                   'Magister Degree' : 5,\n",
    "                                                   'Doctoral Degree' : 6})"
   ]
  },
  {
   "cell_type": "code",
   "execution_count": 147,
   "metadata": {},
   "outputs": [
    {
     "name": "stdout",
     "output_type": "stream",
     "text": [
      "['Government Employee' 'Employee' 'Jobless' 'etc']\n",
      "2\n"
     ]
    },
    {
     "data": {
      "text/plain": [
       "0       Government Employee\n",
       "1       Government Employee\n",
       "2                  Employee\n",
       "3                   Jobless\n",
       "4                       etc\n",
       "               ...         \n",
       "7170    Government Employee\n",
       "7171    Government Employee\n",
       "7172    Government Employee\n",
       "7173               Employee\n",
       "7174               Employee\n",
       "Name: job_role, Length: 7175, dtype: object"
      ]
     },
     "execution_count": 147,
     "metadata": {},
     "output_type": "execute_result"
    }
   ],
   "source": [
    "df = baldDF.copy()\n",
    "lee = LabelEncoder()\n",
    "lee.fit(df['job_role'])\n",
    "labels = lee.transform(df['job_role'])\n",
    "\n",
    "print(df['job_role'].unique())\n",
    "print(labels[3])\n",
    "df['job_role']"
   ]
  },
  {
   "cell_type": "code",
   "execution_count": 148,
   "metadata": {},
   "outputs": [],
   "source": [
    "# 남은 범주형 데이터 라벨 인코딩\n",
    "for col in ['job_role', 'province', 'shampoo']:\n",
    "    le = LabelEncoder()\n",
    "    baldDF[col] = le.fit_transform(baldDF[col])"
   ]
  },
  {
   "cell_type": "code",
   "execution_count": 149,
   "metadata": {},
   "outputs": [
    {
     "data": {
      "text/html": [
       "<div>\n",
       "<style scoped>\n",
       "    .dataframe tbody tr th:only-of-type {\n",
       "        vertical-align: middle;\n",
       "    }\n",
       "\n",
       "    .dataframe tbody tr th {\n",
       "        vertical-align: top;\n",
       "    }\n",
       "\n",
       "    .dataframe thead th {\n",
       "        text-align: right;\n",
       "    }\n",
       "</style>\n",
       "<table border=\"1\" class=\"dataframe\">\n",
       "  <thead>\n",
       "    <tr style=\"text-align: right;\">\n",
       "      <th></th>\n",
       "      <th>age</th>\n",
       "      <th>gender</th>\n",
       "      <th>job_role</th>\n",
       "      <th>province</th>\n",
       "      <th>salary</th>\n",
       "      <th>is_hereditary</th>\n",
       "      <th>weight</th>\n",
       "      <th>height</th>\n",
       "      <th>shampoo</th>\n",
       "      <th>is_smoker</th>\n",
       "      <th>education</th>\n",
       "      <th>stress</th>\n",
       "      <th>bald_prob</th>\n",
       "    </tr>\n",
       "  </thead>\n",
       "  <tbody>\n",
       "    <tr>\n",
       "      <th>0</th>\n",
       "      <td>27</td>\n",
       "      <td>0</td>\n",
       "      <td>1</td>\n",
       "      <td>5</td>\n",
       "      <td>7.957453e+06</td>\n",
       "      <td>0</td>\n",
       "      <td>54.315053</td>\n",
       "      <td>170.428542</td>\n",
       "      <td>3</td>\n",
       "      <td>1</td>\n",
       "      <td>4</td>\n",
       "      <td>5</td>\n",
       "      <td>0.605974</td>\n",
       "    </tr>\n",
       "    <tr>\n",
       "      <th>1</th>\n",
       "      <td>53</td>\n",
       "      <td>0</td>\n",
       "      <td>1</td>\n",
       "      <td>3</td>\n",
       "      <td>7.633003e+06</td>\n",
       "      <td>0</td>\n",
       "      <td>72.873404</td>\n",
       "      <td>165.530097</td>\n",
       "      <td>3</td>\n",
       "      <td>0</td>\n",
       "      <td>4</td>\n",
       "      <td>7</td>\n",
       "      <td>0.532860</td>\n",
       "    </tr>\n",
       "    <tr>\n",
       "      <th>2</th>\n",
       "      <td>37</td>\n",
       "      <td>0</td>\n",
       "      <td>0</td>\n",
       "      <td>3</td>\n",
       "      <td>6.637625e+06</td>\n",
       "      <td>0</td>\n",
       "      <td>46.321533</td>\n",
       "      <td>154.599388</td>\n",
       "      <td>2</td>\n",
       "      <td>0</td>\n",
       "      <td>4</td>\n",
       "      <td>4</td>\n",
       "      <td>0.418442</td>\n",
       "    </tr>\n",
       "    <tr>\n",
       "      <th>3</th>\n",
       "      <td>36</td>\n",
       "      <td>0</td>\n",
       "      <td>2</td>\n",
       "      <td>22</td>\n",
       "      <td>3.624871e+06</td>\n",
       "      <td>0</td>\n",
       "      <td>51.539781</td>\n",
       "      <td>167.340481</td>\n",
       "      <td>0</td>\n",
       "      <td>1</td>\n",
       "      <td>1</td>\n",
       "      <td>9</td>\n",
       "      <td>0.804050</td>\n",
       "    </tr>\n",
       "    <tr>\n",
       "      <th>4</th>\n",
       "      <td>38</td>\n",
       "      <td>1</td>\n",
       "      <td>3</td>\n",
       "      <td>20</td>\n",
       "      <td>6.031808e+06</td>\n",
       "      <td>0</td>\n",
       "      <td>60.726909</td>\n",
       "      <td>165.514773</td>\n",
       "      <td>1</td>\n",
       "      <td>1</td>\n",
       "      <td>5</td>\n",
       "      <td>1</td>\n",
       "      <td>0.368371</td>\n",
       "    </tr>\n",
       "  </tbody>\n",
       "</table>\n",
       "</div>"
      ],
      "text/plain": [
       "   age  gender  job_role  province        salary  is_hereditary     weight  \\\n",
       "0   27       0         1         5  7.957453e+06              0  54.315053   \n",
       "1   53       0         1         3  7.633003e+06              0  72.873404   \n",
       "2   37       0         0         3  6.637625e+06              0  46.321533   \n",
       "3   36       0         2        22  3.624871e+06              0  51.539781   \n",
       "4   38       1         3        20  6.031808e+06              0  60.726909   \n",
       "\n",
       "       height  shampoo  is_smoker  education  stress  bald_prob  \n",
       "0  170.428542        3          1          4       5   0.605974  \n",
       "1  165.530097        3          0          4       7   0.532860  \n",
       "2  154.599388        2          0          4       4   0.418442  \n",
       "3  167.340481        0          1          1       9   0.804050  \n",
       "4  165.514773        1          1          5       1   0.368371  "
      ]
     },
     "execution_count": 149,
     "metadata": {},
     "output_type": "execute_result"
    }
   ],
   "source": [
    "baldDF.head()"
   ]
  },
  {
   "cell_type": "code",
   "execution_count": 150,
   "metadata": {},
   "outputs": [
    {
     "data": {
      "text/plain": [
       "(7175, 13)"
      ]
     },
     "execution_count": 150,
     "metadata": {},
     "output_type": "execute_result"
    }
   ],
   "source": [
    "baldDF.shape"
   ]
  },
  {
   "cell_type": "markdown",
   "metadata": {},
   "source": [
    "#### 타겟과 수치형 피처 상관계수"
   ]
  },
  {
   "cell_type": "code",
   "execution_count": 151,
   "metadata": {},
   "outputs": [],
   "source": [
    "def print_feature(nrows, ncols, target, features, corrs, df = baldDF):\n",
    "    for idx in range(len(features)):\n",
    "        plt.subplot(nrows, ncols, idx + 1)\n",
    "        plt.scatter(df[target], df[features[idx]], label = f'corr : {corrs[idx]:.2}', color = 'cornflowerblue')\n",
    "        plt.xlabel(target, size = 15)\n",
    "        plt.ylabel(features[idx], size = 15)\n",
    "        plt.legend()\n",
    "    plt.tight_layout()\n",
    "    plt.show()"
   ]
  },
  {
   "cell_type": "code",
   "execution_count": 152,
   "metadata": {},
   "outputs": [
    {
     "name": "stderr",
     "output_type": "stream",
     "text": [
      "C:\\Users\\user\\AppData\\Local\\Temp\\ipykernel_18980\\3791551973.py:4: FutureWarning: Series.__getitem__ treating keys as positions is deprecated. In a future version, integer keys will always be treated as labels (consistent with DataFrame behavior). To access a value by position, use `ser.iloc[pos]`\n",
      "  plt.scatter(df[target], df[features[idx]], label = f'corr : {corrs[idx]:.2}', color = 'cornflowerblue')\n"
     ]
    },
    {
     "data": {
      "image/png": "[encoded data removed]",
      "text/plain": [
       "<Figure size 1300x500 with 3 Axes>"
      ]
     },
     "metadata": {},
     "output_type": "display_data"
    }
   ],
   "source": [
    "numerical_col = ['salary', 'weight', 'height', 'bald_prob']\n",
    "corrs = baldDF[numerical_col].corr()['bald_prob']\n",
    "plt.figure(figsize = (13, 5))\n",
    "print_feature(1, 3, 'bald_prob', numerical_col[:-1], corrs[:-1], baldDF[numerical_col])"
   ]
  },
  {
   "cell_type": "markdown",
   "metadata": {},
   "source": [
    "- 타겟과 BMI(체질량지수) 상관계수"
   ]
  },
  {
   "cell_type": "code",
   "execution_count": 153,
   "metadata": {},
   "outputs": [
    {
     "data": {
      "text/html": [
       "<div>\n",
       "<style scoped>\n",
       "    .dataframe tbody tr th:only-of-type {\n",
       "        vertical-align: middle;\n",
       "    }\n",
       "\n",
       "    .dataframe tbody tr th {\n",
       "        vertical-align: top;\n",
       "    }\n",
       "\n",
       "    .dataframe thead th {\n",
       "        text-align: right;\n",
       "    }\n",
       "</style>\n",
       "<table border=\"1\" class=\"dataframe\">\n",
       "  <thead>\n",
       "    <tr style=\"text-align: right;\">\n",
       "      <th></th>\n",
       "      <th>weight</th>\n",
       "      <th>height</th>\n",
       "    </tr>\n",
       "  </thead>\n",
       "  <tbody>\n",
       "    <tr>\n",
       "      <th>0</th>\n",
       "      <td>54.315053</td>\n",
       "      <td>170.428542</td>\n",
       "    </tr>\n",
       "    <tr>\n",
       "      <th>1</th>\n",
       "      <td>72.873404</td>\n",
       "      <td>165.530097</td>\n",
       "    </tr>\n",
       "    <tr>\n",
       "      <th>2</th>\n",
       "      <td>46.321533</td>\n",
       "      <td>154.599388</td>\n",
       "    </tr>\n",
       "    <tr>\n",
       "      <th>3</th>\n",
       "      <td>51.539781</td>\n",
       "      <td>167.340481</td>\n",
       "    </tr>\n",
       "    <tr>\n",
       "      <th>4</th>\n",
       "      <td>60.726909</td>\n",
       "      <td>165.514773</td>\n",
       "    </tr>\n",
       "  </tbody>\n",
       "</table>\n",
       "</div>"
      ],
      "text/plain": [
       "      weight      height\n",
       "0  54.315053  170.428542\n",
       "1  72.873404  165.530097\n",
       "2  46.321533  154.599388\n",
       "3  51.539781  167.340481\n",
       "4  60.726909  165.514773"
      ]
     },
     "execution_count": 153,
     "metadata": {},
     "output_type": "execute_result"
    }
   ],
   "source": [
    "baldDF[['weight', 'height']].head()"
   ]
  },
  {
   "cell_type": "code",
   "execution_count": 154,
   "metadata": {},
   "outputs": [],
   "source": [
    "# 키, 몸무게 결측 데이터 제거\n",
    "df = baldDF.dropna(subset = ['weight', 'height'])\n",
    "\n",
    "# 키 데이터 단위(cm)를 m로 변경하기 위해 100으로 나누고 BMI 계산\n",
    "df['BMI'] = df['weight']/(df['height']/100)**2"
   ]
  },
  {
   "cell_type": "code",
   "execution_count": 155,
   "metadata": {},
   "outputs": [
    {
     "data": {
      "text/plain": [
       "0       18.699739\n",
       "1       26.595926\n",
       "2       19.380607\n",
       "3       18.405200\n",
       "4       22.167037\n",
       "          ...    \n",
       "7170    16.249004\n",
       "7171    18.616236\n",
       "7172    24.638571\n",
       "7173    17.118108\n",
       "7174    15.084130\n",
       "Name: BMI, Length: 7175, dtype: float64"
      ]
     },
     "execution_count": 155,
     "metadata": {},
     "output_type": "execute_result"
    }
   ],
   "source": [
    "df.BMI"
   ]
  },
  {
   "cell_type": "code",
   "execution_count": 156,
   "metadata": {},
   "outputs": [
    {
     "name": "stderr",
     "output_type": "stream",
     "text": [
      "C:\\Users\\user\\AppData\\Local\\Temp\\ipykernel_18980\\3791551973.py:4: FutureWarning: Series.__getitem__ treating keys as positions is deprecated. In a future version, integer keys will always be treated as labels (consistent with DataFrame behavior). To access a value by position, use `ser.iloc[pos]`\n",
      "  plt.scatter(df[target], df[features[idx]], label = f'corr : {corrs[idx]:.2}', color = 'cornflowerblue')\n"
     ]
    },
    {
     "data": {
      "image/png": "[encoded data removed]",
      "text/plain": [
       "<Figure size 500x500 with 1 Axes>"
      ]
     },
     "metadata": {},
     "output_type": "display_data"
    }
   ],
   "source": [
    "corrs = df[['BMI', 'bald_prob']].corr()['bald_prob']\n",
    "plt.figure(figsize = (5, 5))\n",
    "print_feature(1, 1, 'bald_prob', ['BMI'], corrs[:-1], df[['BMI', 'bald_prob']])"
   ]
  },
  {
   "cell_type": "markdown",
   "metadata": {},
   "source": [
    "#### 타겟과 범주형 데이터 상관계수"
   ]
  },
  {
   "cell_type": "code",
   "execution_count": 157,
   "metadata": {},
   "outputs": [
    {
     "data": {
      "text/html": [
       "<div>\n",
       "<style scoped>\n",
       "    .dataframe tbody tr th:only-of-type {\n",
       "        vertical-align: middle;\n",
       "    }\n",
       "\n",
       "    .dataframe tbody tr th {\n",
       "        vertical-align: top;\n",
       "    }\n",
       "\n",
       "    .dataframe thead th {\n",
       "        text-align: right;\n",
       "    }\n",
       "</style>\n",
       "<table border=\"1\" class=\"dataframe\">\n",
       "  <thead>\n",
       "    <tr style=\"text-align: right;\">\n",
       "      <th></th>\n",
       "      <th>age</th>\n",
       "      <th>education</th>\n",
       "      <th>stress</th>\n",
       "      <th>bald_prob</th>\n",
       "    </tr>\n",
       "  </thead>\n",
       "  <tbody>\n",
       "    <tr>\n",
       "      <th>age</th>\n",
       "      <td>1.000000</td>\n",
       "      <td>-0.000594</td>\n",
       "      <td>-0.022200</td>\n",
       "      <td>0.364935</td>\n",
       "    </tr>\n",
       "    <tr>\n",
       "      <th>education</th>\n",
       "      <td>-0.000594</td>\n",
       "      <td>1.000000</td>\n",
       "      <td>0.012186</td>\n",
       "      <td>0.009470</td>\n",
       "    </tr>\n",
       "    <tr>\n",
       "      <th>stress</th>\n",
       "      <td>-0.022200</td>\n",
       "      <td>0.012186</td>\n",
       "      <td>1.000000</td>\n",
       "      <td>0.290789</td>\n",
       "    </tr>\n",
       "    <tr>\n",
       "      <th>bald_prob</th>\n",
       "      <td>0.364935</td>\n",
       "      <td>0.009470</td>\n",
       "      <td>0.290789</td>\n",
       "      <td>1.000000</td>\n",
       "    </tr>\n",
       "  </tbody>\n",
       "</table>\n",
       "</div>"
      ],
      "text/plain": [
       "                age  education    stress  bald_prob\n",
       "age        1.000000  -0.000594 -0.022200   0.364935\n",
       "education -0.000594   1.000000  0.012186   0.009470\n",
       "stress    -0.022200   0.012186  1.000000   0.290789\n",
       "bald_prob  0.364935   0.009470  0.290789   1.000000"
      ]
     },
     "execution_count": 157,
     "metadata": {},
     "output_type": "execute_result"
    }
   ],
   "source": [
    "# 타겟과 범주형(순서형) 데이터 상관계수\n",
    "df = baldDF.copy()\n",
    "df2 = df[['age', 'education', 'stress', 'bald_prob']]\n",
    "df2.corr(method = 'spearman')"
   ]
  },
  {
   "cell_type": "code",
   "execution_count": 158,
   "metadata": {},
   "outputs": [
    {
     "data": {
      "image/png": "[encoded data removed]",
      "text/plain": [
       "<Figure size 640x480 with 2 Axes>"
      ]
     },
     "metadata": {},
     "output_type": "display_data"
    }
   ],
   "source": [
    "sns.heatmap(df2.corr(method = 'spearman'), annot=True, cmap=\"coolwarm\", vmax=1, vmin=-1, fmt = '.2f')\n",
    "plt.show()"
   ]
  },
  {
   "cell_type": "code",
   "execution_count": 159,
   "metadata": {},
   "outputs": [
    {
     "data": {
      "text/plain": [
       "Index(['age', 'gender', 'job_role', 'province', 'salary', 'is_hereditary',\n",
       "       'weight', 'height', 'shampoo', 'is_smoker', 'education', 'stress',\n",
       "       'bald_prob'],\n",
       "      dtype='object')"
      ]
     },
     "execution_count": 159,
     "metadata": {},
     "output_type": "execute_result"
    }
   ],
   "source": [
    "baldDF.columns"
   ]
  },
  {
   "cell_type": "code",
   "execution_count": 160,
   "metadata": {},
   "outputs": [],
   "source": [
    "binary_categorical_list = ['gender', 'is_hereditary', 'is_smoker']\n",
    "multiple_categorical_list = ['age', 'job_role', 'province', 'shampoo', 'education', 'stress']"
   ]
  },
  {
   "cell_type": "code",
   "execution_count": 161,
   "metadata": {},
   "outputs": [
    {
     "data": {
      "text/html": [
       "<div>\n",
       "<style scoped>\n",
       "    .dataframe tbody tr th:only-of-type {\n",
       "        vertical-align: middle;\n",
       "    }\n",
       "\n",
       "    .dataframe tbody tr th {\n",
       "        vertical-align: top;\n",
       "    }\n",
       "\n",
       "    .dataframe thead th {\n",
       "        text-align: right;\n",
       "    }\n",
       "</style>\n",
       "<table border=\"1\" class=\"dataframe\">\n",
       "  <thead>\n",
       "    <tr style=\"text-align: right;\">\n",
       "      <th></th>\n",
       "      <th>age</th>\n",
       "      <th>gender</th>\n",
       "      <th>job_role</th>\n",
       "      <th>province</th>\n",
       "      <th>salary</th>\n",
       "      <th>is_hereditary</th>\n",
       "      <th>weight</th>\n",
       "      <th>height</th>\n",
       "      <th>shampoo</th>\n",
       "      <th>is_smoker</th>\n",
       "      <th>education</th>\n",
       "      <th>stress</th>\n",
       "      <th>bald_prob</th>\n",
       "    </tr>\n",
       "  </thead>\n",
       "  <tbody>\n",
       "    <tr>\n",
       "      <th>0</th>\n",
       "      <td>27</td>\n",
       "      <td>0</td>\n",
       "      <td>1</td>\n",
       "      <td>5</td>\n",
       "      <td>7.957453e+06</td>\n",
       "      <td>0</td>\n",
       "      <td>54.315053</td>\n",
       "      <td>170.428542</td>\n",
       "      <td>3</td>\n",
       "      <td>1</td>\n",
       "      <td>4</td>\n",
       "      <td>5</td>\n",
       "      <td>0.605974</td>\n",
       "    </tr>\n",
       "    <tr>\n",
       "      <th>1</th>\n",
       "      <td>53</td>\n",
       "      <td>0</td>\n",
       "      <td>1</td>\n",
       "      <td>3</td>\n",
       "      <td>7.633003e+06</td>\n",
       "      <td>0</td>\n",
       "      <td>72.873404</td>\n",
       "      <td>165.530097</td>\n",
       "      <td>3</td>\n",
       "      <td>0</td>\n",
       "      <td>4</td>\n",
       "      <td>7</td>\n",
       "      <td>0.532860</td>\n",
       "    </tr>\n",
       "    <tr>\n",
       "      <th>2</th>\n",
       "      <td>37</td>\n",
       "      <td>0</td>\n",
       "      <td>0</td>\n",
       "      <td>3</td>\n",
       "      <td>6.637625e+06</td>\n",
       "      <td>0</td>\n",
       "      <td>46.321533</td>\n",
       "      <td>154.599388</td>\n",
       "      <td>2</td>\n",
       "      <td>0</td>\n",
       "      <td>4</td>\n",
       "      <td>4</td>\n",
       "      <td>0.418442</td>\n",
       "    </tr>\n",
       "    <tr>\n",
       "      <th>3</th>\n",
       "      <td>36</td>\n",
       "      <td>0</td>\n",
       "      <td>2</td>\n",
       "      <td>22</td>\n",
       "      <td>3.624871e+06</td>\n",
       "      <td>0</td>\n",
       "      <td>51.539781</td>\n",
       "      <td>167.340481</td>\n",
       "      <td>0</td>\n",
       "      <td>1</td>\n",
       "      <td>1</td>\n",
       "      <td>9</td>\n",
       "      <td>0.804050</td>\n",
       "    </tr>\n",
       "    <tr>\n",
       "      <th>4</th>\n",
       "      <td>38</td>\n",
       "      <td>1</td>\n",
       "      <td>3</td>\n",
       "      <td>20</td>\n",
       "      <td>6.031808e+06</td>\n",
       "      <td>0</td>\n",
       "      <td>60.726909</td>\n",
       "      <td>165.514773</td>\n",
       "      <td>1</td>\n",
       "      <td>1</td>\n",
       "      <td>5</td>\n",
       "      <td>1</td>\n",
       "      <td>0.368371</td>\n",
       "    </tr>\n",
       "    <tr>\n",
       "      <th>...</th>\n",
       "      <td>...</td>\n",
       "      <td>...</td>\n",
       "      <td>...</td>\n",
       "      <td>...</td>\n",
       "      <td>...</td>\n",
       "      <td>...</td>\n",
       "      <td>...</td>\n",
       "      <td>...</td>\n",
       "      <td>...</td>\n",
       "      <td>...</td>\n",
       "      <td>...</td>\n",
       "      <td>...</td>\n",
       "      <td>...</td>\n",
       "    </tr>\n",
       "    <tr>\n",
       "      <th>7170</th>\n",
       "      <td>52</td>\n",
       "      <td>1</td>\n",
       "      <td>1</td>\n",
       "      <td>16</td>\n",
       "      <td>4.286318e+06</td>\n",
       "      <td>0</td>\n",
       "      <td>46.893444</td>\n",
       "      <td>169.880171</td>\n",
       "      <td>0</td>\n",
       "      <td>1</td>\n",
       "      <td>3</td>\n",
       "      <td>2</td>\n",
       "      <td>0.773141</td>\n",
       "    </tr>\n",
       "    <tr>\n",
       "      <th>7171</th>\n",
       "      <td>45</td>\n",
       "      <td>1</td>\n",
       "      <td>1</td>\n",
       "      <td>32</td>\n",
       "      <td>8.646146e+06</td>\n",
       "      <td>0</td>\n",
       "      <td>53.878714</td>\n",
       "      <td>170.122857</td>\n",
       "      <td>3</td>\n",
       "      <td>0</td>\n",
       "      <td>4</td>\n",
       "      <td>2</td>\n",
       "      <td>0.604058</td>\n",
       "    </tr>\n",
       "    <tr>\n",
       "      <th>7172</th>\n",
       "      <td>24</td>\n",
       "      <td>1</td>\n",
       "      <td>1</td>\n",
       "      <td>9</td>\n",
       "      <td>6.850066e+06</td>\n",
       "      <td>0</td>\n",
       "      <td>64.171294</td>\n",
       "      <td>161.384804</td>\n",
       "      <td>2</td>\n",
       "      <td>0</td>\n",
       "      <td>3</td>\n",
       "      <td>8</td>\n",
       "      <td>0.502413</td>\n",
       "    </tr>\n",
       "    <tr>\n",
       "      <th>7173</th>\n",
       "      <td>29</td>\n",
       "      <td>1</td>\n",
       "      <td>0</td>\n",
       "      <td>20</td>\n",
       "      <td>1.204960e+07</td>\n",
       "      <td>0</td>\n",
       "      <td>55.217752</td>\n",
       "      <td>179.602130</td>\n",
       "      <td>3</td>\n",
       "      <td>1</td>\n",
       "      <td>3</td>\n",
       "      <td>6</td>\n",
       "      <td>0.562664</td>\n",
       "    </tr>\n",
       "    <tr>\n",
       "      <th>7174</th>\n",
       "      <td>42</td>\n",
       "      <td>0</td>\n",
       "      <td>0</td>\n",
       "      <td>11</td>\n",
       "      <td>4.888239e+06</td>\n",
       "      <td>0</td>\n",
       "      <td>52.699072</td>\n",
       "      <td>186.913795</td>\n",
       "      <td>0</td>\n",
       "      <td>0</td>\n",
       "      <td>5</td>\n",
       "      <td>2</td>\n",
       "      <td>0.273705</td>\n",
       "    </tr>\n",
       "  </tbody>\n",
       "</table>\n",
       "<p>7175 rows × 13 columns</p>\n",
       "</div>"
      ],
      "text/plain": [
       "      age  gender  job_role  province        salary  is_hereditary     weight  \\\n",
       "0      27       0         1         5  7.957453e+06              0  54.315053   \n",
       "1      53       0         1         3  7.633003e+06              0  72.873404   \n",
       "2      37       0         0         3  6.637625e+06              0  46.321533   \n",
       "3      36       0         2        22  3.624871e+06              0  51.539781   \n",
       "4      38       1         3        20  6.031808e+06              0  60.726909   \n",
       "...   ...     ...       ...       ...           ...            ...        ...   \n",
       "7170   52       1         1        16  4.286318e+06              0  46.893444   \n",
       "7171   45       1         1        32  8.646146e+06              0  53.878714   \n",
       "7172   24       1         1         9  6.850066e+06              0  64.171294   \n",
       "7173   29       1         0        20  1.204960e+07              0  55.217752   \n",
       "7174   42       0         0        11  4.888239e+06              0  52.699072   \n",
       "\n",
       "          height  shampoo  is_smoker  education  stress  bald_prob  \n",
       "0     170.428542        3          1          4       5   0.605974  \n",
       "1     165.530097        3          0          4       7   0.532860  \n",
       "2     154.599388        2          0          4       4   0.418442  \n",
       "3     167.340481        0          1          1       9   0.804050  \n",
       "4     165.514773        1          1          5       1   0.368371  \n",
       "...          ...      ...        ...        ...     ...        ...  \n",
       "7170  169.880171        0          1          3       2   0.773141  \n",
       "7171  170.122857        3          0          4       2   0.604058  \n",
       "7172  161.384804        2          0          3       8   0.502413  \n",
       "7173  179.602130        3          1          3       6   0.562664  \n",
       "7174  186.913795        0          0          5       2   0.273705  \n",
       "\n",
       "[7175 rows x 13 columns]"
      ]
     },
     "execution_count": 161,
     "metadata": {},
     "output_type": "execute_result"
    }
   ],
   "source": [
    "baldDF"
   ]
  },
  {
   "cell_type": "code",
   "execution_count": 162,
   "metadata": {},
   "outputs": [
    {
     "name": "stdout",
     "output_type": "stream",
     "text": [
      "gender과 bald_prob의 Biserial coef는 0.26\n",
      "\n",
      "is_hereditary과 bald_prob의 Biserial coef는 0.43\n",
      "\n",
      "is_smoker과 bald_prob의 Biserial coef는 0.26\n",
      "\n"
     ]
    }
   ],
   "source": [
    "# 이진 범주형 데이터와 타겟 데이터의 상관계수\n",
    "coef_dict = {}\n",
    "for col in binary_categorical_list:\n",
    "    coef = stats.pointbiserialr(df[col], df.bald_prob).statistic\n",
    "    coef_dict[col] = coef\n",
    "    print(f'{col}과 bald_prob의 Biserial coef는 {round(coef, 2)}\\n')"
   ]
  },
  {
   "cell_type": "code",
   "execution_count": 163,
   "metadata": {},
   "outputs": [
    {
     "data": {
      "text/plain": [
       "Index(['age', 'gender', 'job_role', 'province', 'salary', 'is_hereditary',\n",
       "       'weight', 'height', 'shampoo', 'is_smoker', 'education', 'stress',\n",
       "       'bald_prob'],\n",
       "      dtype='object')"
      ]
     },
     "execution_count": 163,
     "metadata": {},
     "output_type": "execute_result"
    }
   ],
   "source": [
    "baldDF.columns"
   ]
  },
  {
   "cell_type": "code",
   "execution_count": 164,
   "metadata": {},
   "outputs": [
    {
     "data": {
      "text/html": [
       "<div>\n",
       "<style scoped>\n",
       "    .dataframe tbody tr th:only-of-type {\n",
       "        vertical-align: middle;\n",
       "    }\n",
       "\n",
       "    .dataframe tbody tr th {\n",
       "        vertical-align: top;\n",
       "    }\n",
       "\n",
       "    .dataframe thead th {\n",
       "        text-align: right;\n",
       "    }\n",
       "</style>\n",
       "<table border=\"1\" class=\"dataframe\">\n",
       "  <thead>\n",
       "    <tr style=\"text-align: right;\">\n",
       "      <th></th>\n",
       "      <th>job_role</th>\n",
       "      <th>province</th>\n",
       "      <th>shampoo</th>\n",
       "      <th>bald_prob</th>\n",
       "    </tr>\n",
       "  </thead>\n",
       "  <tbody>\n",
       "    <tr>\n",
       "      <th>job_role</th>\n",
       "      <td>1.000000</td>\n",
       "      <td>0.021559</td>\n",
       "      <td>0.005775</td>\n",
       "      <td>0.030592</td>\n",
       "    </tr>\n",
       "    <tr>\n",
       "      <th>province</th>\n",
       "      <td>0.021559</td>\n",
       "      <td>1.000000</td>\n",
       "      <td>-0.019263</td>\n",
       "      <td>-0.012412</td>\n",
       "    </tr>\n",
       "    <tr>\n",
       "      <th>shampoo</th>\n",
       "      <td>0.005775</td>\n",
       "      <td>-0.019263</td>\n",
       "      <td>1.000000</td>\n",
       "      <td>0.001726</td>\n",
       "    </tr>\n",
       "    <tr>\n",
       "      <th>bald_prob</th>\n",
       "      <td>0.030592</td>\n",
       "      <td>-0.012412</td>\n",
       "      <td>0.001726</td>\n",
       "      <td>1.000000</td>\n",
       "    </tr>\n",
       "  </tbody>\n",
       "</table>\n",
       "</div>"
      ],
      "text/plain": [
       "           job_role  province   shampoo  bald_prob\n",
       "job_role   1.000000  0.021559  0.005775   0.030592\n",
       "province   0.021559  1.000000 -0.019263  -0.012412\n",
       "shampoo    0.005775 -0.019263  1.000000   0.001726\n",
       "bald_prob  0.030592 -0.012412  0.001726   1.000000"
      ]
     },
     "execution_count": 164,
     "metadata": {},
     "output_type": "execute_result"
    }
   ],
   "source": [
    "# 다중 범주형 데이터와 타겟 데이터의 상관계수\n",
    "\n",
    "df = baldDF.copy()\n",
    "df2 = df[['job_role', 'province', 'shampoo', 'bald_prob']]\n",
    "df2.corr(method = 'spearman')"
   ]
  },
  {
   "cell_type": "code",
   "execution_count": 165,
   "metadata": {},
   "outputs": [
    {
     "data": {
      "image/png": "[encoded data removed]",
      "text/plain": [
       "<Figure size 640x480 with 2 Axes>"
      ]
     },
     "metadata": {},
     "output_type": "display_data"
    }
   ],
   "source": [
    "sns.heatmap(df2.corr(method = 'spearman'), annot=True, cmap=\"coolwarm\", vmax=1, vmin=-1, fmt = '.2f')\n",
    "plt.show()"
   ]
  },
  {
   "cell_type": "markdown",
   "metadata": {},
   "source": [
    "#### 다중공선성 확인"
   ]
  },
  {
   "cell_type": "code",
   "execution_count": 166,
   "metadata": {},
   "outputs": [
    {
     "data": {
      "text/plain": [
       "Index(['age', 'gender', 'job_role', 'province', 'salary', 'is_hereditary',\n",
       "       'weight', 'height', 'shampoo', 'is_smoker', 'education', 'stress',\n",
       "       'bald_prob'],\n",
       "      dtype='object')"
      ]
     },
     "execution_count": 166,
     "metadata": {},
     "output_type": "execute_result"
    }
   ],
   "source": [
    "baldDF.columns"
   ]
  },
  {
   "cell_type": "code",
   "execution_count": 167,
   "metadata": {},
   "outputs": [
    {
     "data": {
      "text/plain": [
       "(7175, 3)"
      ]
     },
     "execution_count": 167,
     "metadata": {},
     "output_type": "execute_result"
    }
   ],
   "source": [
    "numericalDF = baldDF[['weight', 'height', 'salary']]\n",
    "numericalDF.shape"
   ]
  },
  {
   "cell_type": "markdown",
   "metadata": {},
   "source": [
    "- 수치형 데이터 피처 간 상관계수"
   ]
  },
  {
   "cell_type": "code",
   "execution_count": 168,
   "metadata": {},
   "outputs": [
    {
     "data": {
      "text/html": [
       "<div>\n",
       "<style scoped>\n",
       "    .dataframe tbody tr th:only-of-type {\n",
       "        vertical-align: middle;\n",
       "    }\n",
       "\n",
       "    .dataframe tbody tr th {\n",
       "        vertical-align: top;\n",
       "    }\n",
       "\n",
       "    .dataframe thead th {\n",
       "        text-align: right;\n",
       "    }\n",
       "</style>\n",
       "<table border=\"1\" class=\"dataframe\">\n",
       "  <thead>\n",
       "    <tr style=\"text-align: right;\">\n",
       "      <th></th>\n",
       "      <th>weight</th>\n",
       "      <th>height</th>\n",
       "      <th>salary</th>\n",
       "    </tr>\n",
       "  </thead>\n",
       "  <tbody>\n",
       "    <tr>\n",
       "      <th>weight</th>\n",
       "      <td>1.000000</td>\n",
       "      <td>0.295208</td>\n",
       "      <td>-0.001779</td>\n",
       "    </tr>\n",
       "    <tr>\n",
       "      <th>height</th>\n",
       "      <td>0.295208</td>\n",
       "      <td>1.000000</td>\n",
       "      <td>0.013606</td>\n",
       "    </tr>\n",
       "    <tr>\n",
       "      <th>salary</th>\n",
       "      <td>-0.001779</td>\n",
       "      <td>0.013606</td>\n",
       "      <td>1.000000</td>\n",
       "    </tr>\n",
       "  </tbody>\n",
       "</table>\n",
       "</div>"
      ],
      "text/plain": [
       "          weight    height    salary\n",
       "weight  1.000000  0.295208 -0.001779\n",
       "height  0.295208  1.000000  0.013606\n",
       "salary -0.001779  0.013606  1.000000"
      ]
     },
     "execution_count": 168,
     "metadata": {},
     "output_type": "execute_result"
    }
   ],
   "source": [
    "numericalDF.corr()"
   ]
  },
  {
   "cell_type": "code",
   "execution_count": 169,
   "metadata": {},
   "outputs": [
    {
     "data": {
      "image/png": "[encoded data removed]",
      "text/plain": [
       "<Figure size 640x480 with 2 Axes>"
      ]
     },
     "metadata": {},
     "output_type": "display_data"
    }
   ],
   "source": [
    "sns.heatmap(numericalDF.corr(), annot=True, cmap=\"coolwarm\", vmax=1, vmin=-1, fmt = '.2f')\n",
    "plt.show()"
   ]
  },
  {
   "cell_type": "code",
   "execution_count": 170,
   "metadata": {},
   "outputs": [
    {
     "data": {
      "image/png": "[encoded data removed]",
      "text/plain": [
       "<Figure size 640x480 with 2 Axes>"
      ]
     },
     "metadata": {},
     "output_type": "display_data"
    }
   ],
   "source": [
    "corr = numericalDF.corr()\n",
    "mask = np.triu(np.ones_like(corr))\n",
    "sns.heatmap(corr, annot=True, cmap=\"coolwarm\", vmax=1, vmin=-1, mask = mask)\n",
    "plt.show()"
   ]
  },
  {
   "cell_type": "markdown",
   "metadata": {},
   "source": [
    "- 범주형 데이터 피처 간 상관계수"
   ]
  },
  {
   "cell_type": "code",
   "execution_count": null,
   "metadata": {},
   "outputs": [],
   "source": [
    "df.baldDF.copy()\n",
    "le = LabelEncoder()\n",
    "for col in ['job_role', 'province', 'shampoo']:\n",
    "    le.fit(df[col])\n",
    "    df[col] = le.transform(df[col])"
   ]
  },
  {
   "cell_type": "code",
   "execution_count": 172,
   "metadata": {},
   "outputs": [
    {
     "data": {
      "text/plain": [
       "array([0, 1, 2, 3, 4])"
      ]
     },
     "execution_count": 172,
     "metadata": {},
     "output_type": "execute_result"
    }
   ],
   "source": [
    "le.classes_"
   ]
  },
  {
   "cell_type": "code",
   "execution_count": 173,
   "metadata": {},
   "outputs": [
    {
     "data": {
      "text/plain": [
       "(7175, 9)"
      ]
     },
     "execution_count": 173,
     "metadata": {},
     "output_type": "execute_result"
    }
   ],
   "source": [
    "categoricalDF = df[['age', 'gender', 'job_role', 'province', 'is_hereditary', 'shampoo', 'is_smoker', 'education', 'stress']]\n",
    "categoricalDF.shape"
   ]
  },
  {
   "cell_type": "code",
   "execution_count": 174,
   "metadata": {},
   "outputs": [
    {
     "name": "stdout",
     "output_type": "stream",
     "text": [
      "gender과 is_hereditary의 상관계수 -0.011\n",
      "\n",
      "\n",
      "gender과 is_smoker의 상관계수 0.014\n",
      "\n",
      "\n",
      "is_hereditary과 is_smoker의 상관계수 -0.018\n",
      "\n",
      "\n"
     ]
    }
   ],
   "source": [
    "# 이진 클래스를 갖는 피처들간의 상관계수 => 파이 상관계수 사용\n",
    "\n",
    "df1 = categoricalDF[['gender', 'is_hereditary', 'is_smoker']]\n",
    "for col1, col2 in combinations(df1.columns, 2):\n",
    "    print(f'{col1}과 {col2}의 상관계수 {round(matthews_corrcoef(df1[col1].values, df1[col2].values), 3)}\\n\\n')"
   ]
  },
  {
   "cell_type": "code",
   "execution_count": 175,
   "metadata": {},
   "outputs": [
    {
     "data": {
      "text/html": [
       "<div>\n",
       "<style scoped>\n",
       "    .dataframe tbody tr th:only-of-type {\n",
       "        vertical-align: middle;\n",
       "    }\n",
       "\n",
       "    .dataframe tbody tr th {\n",
       "        vertical-align: top;\n",
       "    }\n",
       "\n",
       "    .dataframe thead th {\n",
       "        text-align: right;\n",
       "    }\n",
       "</style>\n",
       "<table border=\"1\" class=\"dataframe\">\n",
       "  <thead>\n",
       "    <tr style=\"text-align: right;\">\n",
       "      <th></th>\n",
       "      <th>gender</th>\n",
       "      <th>is_hereditary</th>\n",
       "      <th>is_smoker</th>\n",
       "    </tr>\n",
       "  </thead>\n",
       "  <tbody>\n",
       "    <tr>\n",
       "      <th>gender</th>\n",
       "      <td>1.000</td>\n",
       "      <td>-0.011</td>\n",
       "      <td>0.014</td>\n",
       "    </tr>\n",
       "    <tr>\n",
       "      <th>is_hereditary</th>\n",
       "      <td>-0.011</td>\n",
       "      <td>1.000</td>\n",
       "      <td>-0.018</td>\n",
       "    </tr>\n",
       "    <tr>\n",
       "      <th>is_smoker</th>\n",
       "      <td>0.014</td>\n",
       "      <td>-0.018</td>\n",
       "      <td>1.000</td>\n",
       "    </tr>\n",
       "  </tbody>\n",
       "</table>\n",
       "</div>"
      ],
      "text/plain": [
       "               gender  is_hereditary  is_smoker\n",
       "gender          1.000         -0.011      0.014\n",
       "is_hereditary  -0.011          1.000     -0.018\n",
       "is_smoker       0.014         -0.018      1.000"
      ]
     },
     "execution_count": 175,
     "metadata": {},
     "output_type": "execute_result"
    }
   ],
   "source": [
    "rows= []\n",
    "for col_name1 in df1:\n",
    "    column = []\n",
    "    for col_name2 in df1:\n",
    "        phi = matthews_corrcoef(df1[col_name1], df1[col_name2])\n",
    "        column.append(round(phi, 3))\n",
    "    rows.append(column)\n",
    "      \n",
    "phi_results = np.array(rows)\n",
    "phiDF = pd.DataFrame(phi_results, columns = df1.columns, index = df1.columns)\n",
    "phiDF"
   ]
  },
  {
   "cell_type": "code",
   "execution_count": 176,
   "metadata": {},
   "outputs": [
    {
     "data": {
      "image/png": "[encoded data removed]",
      "text/plain": [
       "<Figure size 640x480 with 2 Axes>"
      ]
     },
     "metadata": {},
     "output_type": "display_data"
    }
   ],
   "source": [
    "sns.heatmap(phiDF, annot = True, cmap = \"coolwarm\", vmax = 1, vmin = -1, fmt = '.3f')\n",
    "plt.show()"
   ]
  },
  {
   "cell_type": "code",
   "execution_count": 177,
   "metadata": {},
   "outputs": [],
   "source": [
    "# 다중 클래스를 갖는 피처들간의 상관계수 => 크래머 상관계수 사용\n",
    "\n",
    "df2 = categoricalDF[['age', 'job_role', 'province', 'shampoo', 'education', 'stress']]\n",
    "def cramers_V(col1, col2) :\n",
    "    crosstab = np.array(pd.crosstab(col1, col2, rownames = None, colnames = None)) # Cross table building\n",
    "    stat = chi2_contingency(crosstab)[0] # Keeping of the test statistic of the Chi2 test\n",
    "    obs = np.sum(crosstab) # Number of observations\n",
    "    phi2 = stat / obs\n",
    "    r, k = crosstab.shape\n",
    "    phi2corr = max(0, phi2 - (((k-1)*(r-1))/(obs - 1)))\n",
    "    rcorr = r - ((r-1)**2)/(obs-1)\n",
    "    kcorr = k - ((k-1)**2)/(obs-1)\n",
    "    return np.sqrt(phi2corr / min((kcorr-1), (rcorr-1)))"
   ]
  },
  {
   "cell_type": "code",
   "execution_count": 178,
   "metadata": {},
   "outputs": [
    {
     "data": {
      "text/html": [
       "<div>\n",
       "<style scoped>\n",
       "    .dataframe tbody tr th:only-of-type {\n",
       "        vertical-align: middle;\n",
       "    }\n",
       "\n",
       "    .dataframe tbody tr th {\n",
       "        vertical-align: top;\n",
       "    }\n",
       "\n",
       "    .dataframe thead th {\n",
       "        text-align: right;\n",
       "    }\n",
       "</style>\n",
       "<table border=\"1\" class=\"dataframe\">\n",
       "  <thead>\n",
       "    <tr style=\"text-align: right;\">\n",
       "      <th></th>\n",
       "      <th>age</th>\n",
       "      <th>job_role</th>\n",
       "      <th>province</th>\n",
       "      <th>shampoo</th>\n",
       "      <th>education</th>\n",
       "      <th>stress</th>\n",
       "    </tr>\n",
       "  </thead>\n",
       "  <tbody>\n",
       "    <tr>\n",
       "      <th>age</th>\n",
       "      <td>1.000</td>\n",
       "      <td>0.025</td>\n",
       "      <td>0.000</td>\n",
       "      <td>0.000</td>\n",
       "      <td>0.000</td>\n",
       "      <td>0.000</td>\n",
       "    </tr>\n",
       "    <tr>\n",
       "      <th>job_role</th>\n",
       "      <td>0.025</td>\n",
       "      <td>1.000</td>\n",
       "      <td>0.021</td>\n",
       "      <td>0.000</td>\n",
       "      <td>0.000</td>\n",
       "      <td>0.000</td>\n",
       "    </tr>\n",
       "    <tr>\n",
       "      <th>province</th>\n",
       "      <td>0.000</td>\n",
       "      <td>0.021</td>\n",
       "      <td>1.000</td>\n",
       "      <td>0.029</td>\n",
       "      <td>0.015</td>\n",
       "      <td>0.000</td>\n",
       "    </tr>\n",
       "    <tr>\n",
       "      <th>shampoo</th>\n",
       "      <td>0.000</td>\n",
       "      <td>0.000</td>\n",
       "      <td>0.029</td>\n",
       "      <td>1.000</td>\n",
       "      <td>0.000</td>\n",
       "      <td>0.000</td>\n",
       "    </tr>\n",
       "    <tr>\n",
       "      <th>education</th>\n",
       "      <td>0.000</td>\n",
       "      <td>0.000</td>\n",
       "      <td>0.015</td>\n",
       "      <td>0.000</td>\n",
       "      <td>1.000</td>\n",
       "      <td>0.012</td>\n",
       "    </tr>\n",
       "    <tr>\n",
       "      <th>stress</th>\n",
       "      <td>0.000</td>\n",
       "      <td>0.000</td>\n",
       "      <td>0.000</td>\n",
       "      <td>0.000</td>\n",
       "      <td>0.012</td>\n",
       "      <td>1.000</td>\n",
       "    </tr>\n",
       "  </tbody>\n",
       "</table>\n",
       "</div>"
      ],
      "text/plain": [
       "             age  job_role  province  shampoo  education  stress\n",
       "age        1.000     0.025     0.000    0.000      0.000   0.000\n",
       "job_role   0.025     1.000     0.021    0.000      0.000   0.000\n",
       "province   0.000     0.021     1.000    0.029      0.015   0.000\n",
       "shampoo    0.000     0.000     0.029    1.000      0.000   0.000\n",
       "education  0.000     0.000     0.015    0.000      1.000   0.012\n",
       "stress     0.000     0.000     0.000    0.000      0.012   1.000"
      ]
     },
     "execution_count": 178,
     "metadata": {},
     "output_type": "execute_result"
    }
   ],
   "source": [
    "df2 = categoricalDF[['age', 'job_role', 'province', 'shampoo', 'education', 'stress']]\n",
    "rows= []\n",
    "for col_name1 in df2:\n",
    "    column = []\n",
    "    for col_name2 in df2:\n",
    "        cramer = cramers_V(df2[col_name1], df2[col_name2]) # Cramer's V test\n",
    "        column.append(round(cramer, 3)) # Keeping of the rounded value of the Cramer's V  \n",
    "    rows.append(column)\n",
    "      \n",
    "cramers_results = np.array(rows)\n",
    "cramerDF = pd.DataFrame(cramers_results, columns = df2.columns, index = df2.columns)\n",
    "cramerDF"
   ]
  },
  {
   "cell_type": "code",
   "execution_count": 179,
   "metadata": {},
   "outputs": [
    {
     "data": {
      "image/png": "[encoded data removed]",
      "text/plain": [
       "<Figure size 640x480 with 2 Axes>"
      ]
     },
     "metadata": {},
     "output_type": "display_data"
    }
   ],
   "source": [
    "sns.heatmap(cramerDF, annot = True, cmap = \"coolwarm\", vmax = 1, vmin = -1, fmt = '.3f')\n",
    "plt.show()"
   ]
  },
  {
   "cell_type": "markdown",
   "metadata": {},
   "source": [
    "### 학습 진행 <hr>"
   ]
  },
  {
   "cell_type": "code",
   "execution_count": 180,
   "metadata": {},
   "outputs": [
    {
     "data": {
      "text/html": [
       "<div>\n",
       "<style scoped>\n",
       "    .dataframe tbody tr th:only-of-type {\n",
       "        vertical-align: middle;\n",
       "    }\n",
       "\n",
       "    .dataframe tbody tr th {\n",
       "        vertical-align: top;\n",
       "    }\n",
       "\n",
       "    .dataframe thead th {\n",
       "        text-align: right;\n",
       "    }\n",
       "</style>\n",
       "<table border=\"1\" class=\"dataframe\">\n",
       "  <thead>\n",
       "    <tr style=\"text-align: right;\">\n",
       "      <th></th>\n",
       "      <th>age</th>\n",
       "      <th>gender</th>\n",
       "      <th>job_role</th>\n",
       "      <th>province</th>\n",
       "      <th>salary</th>\n",
       "      <th>is_hereditary</th>\n",
       "      <th>weight</th>\n",
       "      <th>height</th>\n",
       "      <th>shampoo</th>\n",
       "      <th>is_smoker</th>\n",
       "      <th>education</th>\n",
       "      <th>stress</th>\n",
       "      <th>bald_prob</th>\n",
       "    </tr>\n",
       "  </thead>\n",
       "  <tbody>\n",
       "    <tr>\n",
       "      <th>0</th>\n",
       "      <td>27</td>\n",
       "      <td>0</td>\n",
       "      <td>1</td>\n",
       "      <td>5</td>\n",
       "      <td>7.957453e+06</td>\n",
       "      <td>0</td>\n",
       "      <td>54.315053</td>\n",
       "      <td>170.428542</td>\n",
       "      <td>3</td>\n",
       "      <td>1</td>\n",
       "      <td>4</td>\n",
       "      <td>5</td>\n",
       "      <td>0.605974</td>\n",
       "    </tr>\n",
       "    <tr>\n",
       "      <th>1</th>\n",
       "      <td>53</td>\n",
       "      <td>0</td>\n",
       "      <td>1</td>\n",
       "      <td>3</td>\n",
       "      <td>7.633003e+06</td>\n",
       "      <td>0</td>\n",
       "      <td>72.873404</td>\n",
       "      <td>165.530097</td>\n",
       "      <td>3</td>\n",
       "      <td>0</td>\n",
       "      <td>4</td>\n",
       "      <td>7</td>\n",
       "      <td>0.532860</td>\n",
       "    </tr>\n",
       "    <tr>\n",
       "      <th>2</th>\n",
       "      <td>37</td>\n",
       "      <td>0</td>\n",
       "      <td>0</td>\n",
       "      <td>3</td>\n",
       "      <td>6.637625e+06</td>\n",
       "      <td>0</td>\n",
       "      <td>46.321533</td>\n",
       "      <td>154.599388</td>\n",
       "      <td>2</td>\n",
       "      <td>0</td>\n",
       "      <td>4</td>\n",
       "      <td>4</td>\n",
       "      <td>0.418442</td>\n",
       "    </tr>\n",
       "    <tr>\n",
       "      <th>3</th>\n",
       "      <td>36</td>\n",
       "      <td>0</td>\n",
       "      <td>2</td>\n",
       "      <td>22</td>\n",
       "      <td>3.624871e+06</td>\n",
       "      <td>0</td>\n",
       "      <td>51.539781</td>\n",
       "      <td>167.340481</td>\n",
       "      <td>0</td>\n",
       "      <td>1</td>\n",
       "      <td>1</td>\n",
       "      <td>9</td>\n",
       "      <td>0.804050</td>\n",
       "    </tr>\n",
       "    <tr>\n",
       "      <th>4</th>\n",
       "      <td>38</td>\n",
       "      <td>1</td>\n",
       "      <td>3</td>\n",
       "      <td>20</td>\n",
       "      <td>6.031808e+06</td>\n",
       "      <td>0</td>\n",
       "      <td>60.726909</td>\n",
       "      <td>165.514773</td>\n",
       "      <td>1</td>\n",
       "      <td>1</td>\n",
       "      <td>5</td>\n",
       "      <td>1</td>\n",
       "      <td>0.368371</td>\n",
       "    </tr>\n",
       "  </tbody>\n",
       "</table>\n",
       "</div>"
      ],
      "text/plain": [
       "   age  gender  job_role  province        salary  is_hereditary     weight  \\\n",
       "0   27       0         1         5  7.957453e+06              0  54.315053   \n",
       "1   53       0         1         3  7.633003e+06              0  72.873404   \n",
       "2   37       0         0         3  6.637625e+06              0  46.321533   \n",
       "3   36       0         2        22  3.624871e+06              0  51.539781   \n",
       "4   38       1         3        20  6.031808e+06              0  60.726909   \n",
       "\n",
       "       height  shampoo  is_smoker  education  stress  bald_prob  \n",
       "0  170.428542        3          1          4       5   0.605974  \n",
       "1  165.530097        3          0          4       7   0.532860  \n",
       "2  154.599388        2          0          4       4   0.418442  \n",
       "3  167.340481        0          1          1       9   0.804050  \n",
       "4  165.514773        1          1          5       1   0.368371  "
      ]
     },
     "execution_count": 180,
     "metadata": {},
     "output_type": "execute_result"
    }
   ],
   "source": [
    "baldDF.head()"
   ]
  },
  {
   "cell_type": "code",
   "execution_count": 192,
   "metadata": {},
   "outputs": [],
   "source": [
    "# 지역, 샴푸 피처는 삭제\n",
    "featureDF = baldDF.drop(['province', 'shampoo', 'bald_prob'], axis = 1)\n",
    "targetSR = baldDF[baldDF.columns[-1]]"
   ]
  },
  {
   "cell_type": "code",
   "execution_count": 193,
   "metadata": {},
   "outputs": [],
   "source": [
    "X_train, X_test, y_train, y_test = train_test_split(featureDF,\n",
    "                                                    targetSR,\n",
    "                                                    test_size = 0.2,\n",
    "                                                    random_state = 10)"
   ]
  },
  {
   "cell_type": "code",
   "execution_count": 194,
   "metadata": {},
   "outputs": [
    {
     "data": {
      "text/plain": [
       "Index(['age', 'gender', 'job_role', 'salary', 'is_hereditary', 'weight',\n",
       "       'height', 'is_smoker', 'education', 'stress'],\n",
       "      dtype='object')"
      ]
     },
     "execution_count": 194,
     "metadata": {},
     "output_type": "execute_result"
    }
   ],
   "source": [
    "X_train.columns"
   ]
  },
  {
   "cell_type": "code",
   "execution_count": 195,
   "metadata": {},
   "outputs": [
    {
     "data": {
      "text/plain": [
       "Index(['age', 'gender', 'job_role', 'province', 'salary', 'is_hereditary',\n",
       "       'weight', 'height', 'shampoo', 'is_smoker', 'education', 'stress',\n",
       "       'bald_prob'],\n",
       "      dtype='object')"
      ]
     },
     "execution_count": 195,
     "metadata": {},
     "output_type": "execute_result"
    }
   ],
   "source": [
    "baldDF.columns"
   ]
  },
  {
   "cell_type": "code",
   "execution_count": 196,
   "metadata": {},
   "outputs": [],
   "source": [
    "ohe = OneHotEncoder(sparse = False)\n",
    "ore = OrdinalEncoder()\n",
    "std = StandardScaler()\n",
    "ct = ColumnTransformer([('Ordinal', ore, ['job_role']),\n",
    "                       ('StandardScaler', std, ['salary', 'weight', 'height'])],\n",
    "                       remainder = 'passthrough')\n",
    "\n",
    "new_column_list = ['job_role', 'salary', 'weight', 'height',\n",
    "                   'age', 'gender','is_hereditary', 'is_smoker',\n",
    "                   'education', 'stress'] \n",
    "ct.fit(X_train)\n",
    "scaled_X_train = pd.DataFrame(ct.transform(X_train), columns = new_column_list)\n",
    "scaled_X_test = pd.DataFrame(ct.transform(X_test), columns = new_column_list)"
   ]
  },
  {
   "cell_type": "markdown",
   "metadata": {},
   "source": [
    "- 단일 모델로 성능 확인"
   ]
  },
  {
   "cell_type": "code",
   "execution_count": 197,
   "metadata": {},
   "outputs": [],
   "source": [
    "xgbre = XGBRegressor(n_estimators = 100, learning_rate = 0.1, max_depth = 5, subsample = 1.0,\n",
    "                     min_child_weight = 2, colsample_bytree = 0.5)\n",
    "xgbre.fit(scaled_X_train, y_train)\n",
    "y_preds = xgbre.predict(scaled_X_test)"
   ]
  },
  {
   "cell_type": "code",
   "execution_count": 198,
   "metadata": {},
   "outputs": [
    {
     "name": "stdout",
     "output_type": "stream",
     "text": [
      "Train Score => 0.8925678786113544\n",
      "\n",
      "Test Score => 0.854409318971999\n"
     ]
    }
   ],
   "source": [
    "print(f'Train Score => {xgbre.score(scaled_X_train, y_train)}\\n')\n",
    "print(f'Test Score => {xgbre.score(scaled_X_test, y_test)}')"
   ]
  },
  {
   "cell_type": "code",
   "execution_count": 199,
   "metadata": {},
   "outputs": [
    {
     "name": "stdout",
     "output_type": "stream",
     "text": [
      "mean absolute error => 0.04752820537464336\n",
      "\n",
      "mean squared error => 0.00439825637873208\n",
      "\n",
      "r2 score => 0.815692297429123\n"
     ]
    }
   ],
   "source": [
    "print(f'mean absolute error => {mean_absolute_error(y_preds, y_test)}\\n')\n",
    "print(f'mean squared error => {mean_squared_error(y_preds, y_test)}\\n')\n",
    "print(f'r2 score => {r2_score(y_preds, y_test)}')"
   ]
  },
  {
   "cell_type": "code",
   "execution_count": 200,
   "metadata": {},
   "outputs": [
    {
     "data": {
      "text/plain": [
       "<Axes: title={'center': 'Feature importance'}, xlabel='F score', ylabel='Features'>"
      ]
     },
     "execution_count": 200,
     "metadata": {},
     "output_type": "execute_result"
    },
    {
     "data": {
      "image/png": "[encoded data removed]",
      "text/plain": [
       "<Figure size 1000x1200 with 1 Axes>"
      ]
     },
     "metadata": {},
     "output_type": "display_data"
    }
   ],
   "source": [
    "from xgboost import plot_importance\n",
    "import matplotlib.pyplot as plt\n",
    "%matplotlib inline\n",
    "\n",
    "fig, ax = plt.subplots(figsize=(10, 12))\n",
    "plot_importance(xgbre, ax=ax)"
   ]
  },
  {
   "cell_type": "code",
   "execution_count": 201,
   "metadata": {},
   "outputs": [],
   "source": [
    "# 모델 조합 조건\n",
    "# cv => 기본 5, max_depth, ..\n",
    "\n",
    "xgb_model = XGBRegressor()\n",
    "n_cv = 5\n",
    "params = {'learning_rate' : [0.05, 0.1, 0.2],\n",
    "        'max_depth' : [5, 6, 7, 8],\n",
    "        'subsample' : [0.5, 1.0],\n",
    "        'colsample_bytree' : [0.5, 1.0]\n",
    "        }\n",
    "\n",
    "# 하이퍼파라미터 조합된 모델 생성 후 교차검증 데이터셋으로 학습\n",
    "# 진행해주는 인스턴스\n",
    "gs = GridSearchCV(xgb_model, param_grid = params, cv = n_cv)"
   ]
  },
  {
   "cell_type": "code",
   "execution_count": 202,
   "metadata": {},
   "outputs": [],
   "source": [
    "# 조합된 모델들의 학습 진행\n",
    "result = gs.fit(X_train, y_train)"
   ]
  },
  {
   "cell_type": "code",
   "execution_count": 203,
   "metadata": {},
   "outputs": [
    {
     "data": {
      "text/html": [
       "<style>#sk-container-id-1 {color: black;}#sk-container-id-1 pre{padding: 0;}#sk-container-id-1 div.sk-toggleable {background-color: white;}#sk-container-id-1 label.sk-toggleable__label {cursor: pointer;display: block;width: 100%;margin-bottom: 0;padding: 0.3em;box-sizing: border-box;text-align: center;}#sk-container-id-1 label.sk-toggleable__label-arrow:before {content: \"▸\";float: left;margin-right: 0.25em;color: #696969;}#sk-container-id-1 label.sk-toggleable__label-arrow:hover:before {color: black;}#sk-container-id-1 div.sk-estimator:hover label.sk-toggleable__label-arrow:before {color: black;}#sk-container-id-1 div.sk-toggleable__content {max-height: 0;max-width: 0;overflow: hidden;text-align: left;background-color: #f0f8ff;}#sk-container-id-1 div.sk-toggleable__content pre {margin: 0.2em;color: black;border-radius: 0.25em;background-color: #f0f8ff;}#sk-container-id-1 input.sk-toggleable__control:checked~div.sk-toggleable__content {max-height: 200px;max-width: 100%;overflow: auto;}#sk-container-id-1 input.sk-toggleable__control:checked~label.sk-toggleable__label-arrow:before {content: \"▾\";}#sk-container-id-1 div.sk-estimator input.sk-toggleable__control:checked~label.sk-toggleable__label {background-color: #d4ebff;}#sk-container-id-1 div.sk-label input.sk-toggleable__control:checked~label.sk-toggleable__label {background-color: #d4ebff;}#sk-container-id-1 input.sk-hidden--visually {border: 0;clip: rect(1px 1px 1px 1px);clip: rect(1px, 1px, 1px, 1px);height: 1px;margin: -1px;overflow: hidden;padding: 0;position: absolute;width: 1px;}#sk-container-id-1 div.sk-estimator {font-family: monospace;background-color: #f0f8ff;border: 1px dotted black;border-radius: 0.25em;box-sizing: border-box;margin-bottom: 0.5em;}#sk-container-id-1 div.sk-estimator:hover {background-color: #d4ebff;}#sk-container-id-1 div.sk-parallel-item::after {content: \"\";width: 100%;border-bottom: 1px solid gray;flex-grow: 1;}#sk-container-id-1 div.sk-label:hover label.sk-toggleable__label {background-color: #d4ebff;}#sk-container-id-1 div.sk-serial::before {content: \"\";position: absolute;border-left: 1px solid gray;box-sizing: border-box;top: 0;bottom: 0;left: 50%;z-index: 0;}#sk-container-id-1 div.sk-serial {display: flex;flex-direction: column;align-items: center;background-color: white;padding-right: 0.2em;padding-left: 0.2em;position: relative;}#sk-container-id-1 div.sk-item {position: relative;z-index: 1;}#sk-container-id-1 div.sk-parallel {display: flex;align-items: stretch;justify-content: center;background-color: white;position: relative;}#sk-container-id-1 div.sk-item::before, #sk-container-id-1 div.sk-parallel-item::before {content: \"\";position: absolute;border-left: 1px solid gray;box-sizing: border-box;top: 0;bottom: 0;left: 50%;z-index: -1;}#sk-container-id-1 div.sk-parallel-item {display: flex;flex-direction: column;z-index: 1;position: relative;background-color: white;}#sk-container-id-1 div.sk-parallel-item:first-child::after {align-self: flex-end;width: 50%;}#sk-container-id-1 div.sk-parallel-item:last-child::after {align-self: flex-start;width: 50%;}#sk-container-id-1 div.sk-parallel-item:only-child::after {width: 0;}#sk-container-id-1 div.sk-dashed-wrapped {border: 1px dashed gray;margin: 0 0.4em 0.5em 0.4em;box-sizing: border-box;padding-bottom: 0.4em;background-color: white;}#sk-container-id-1 div.sk-label label {font-family: monospace;font-weight: bold;display: inline-block;line-height: 1.2em;}#sk-container-id-1 div.sk-label-container {text-align: center;}#sk-container-id-1 div.sk-container {/* jupyter's `normalize.less` sets `[hidden] { display: none; }` but bootstrap.min.css set `[hidden] { display: none !important; }` so we also need the `!important` here to be able to override the default hidden behavior on the sphinx rendered scikit-learn.org. See: https://github.com/scikit-learn/scikit-learn/issues/21755 */display: inline-block !important;position: relative;}#sk-container-id-1 div.sk-text-repr-fallback {display: none;}</style><div id=\"sk-container-id-1\" class=\"sk-top-container\"><div class=\"sk-text-repr-fallback\"><pre>GridSearchCV(cv=5,\n",
       "             estimator=XGBRegressor(base_score=None, booster=None,\n",
       "                                    callbacks=None, colsample_bylevel=None,\n",
       "                                    colsample_bynode=None,\n",
       "                                    colsample_bytree=None,\n",
       "                                    early_stopping_rounds=None,\n",
       "                                    enable_categorical=False, eval_metric=None,\n",
       "                                    feature_types=None, gamma=None, gpu_id=None,\n",
       "                                    grow_policy=None, importance_type=None,\n",
       "                                    interaction_constraints=None,\n",
       "                                    learning_rate=None, m...\n",
       "                                    max_cat_threshold=None,\n",
       "                                    max_cat_to_onehot=None, max_delta_step=None,\n",
       "                                    max_depth=None, max_leaves=None,\n",
       "                                    min_child_weight=None, missing=nan,\n",
       "                                    monotone_constraints=None, n_estimators=100,\n",
       "                                    n_jobs=None, num_parallel_tree=None,\n",
       "                                    predictor=None, random_state=None, ...),\n",
       "             param_grid={&#x27;colsample_bytree&#x27;: [0.5, 1.0],\n",
       "                         &#x27;learning_rate&#x27;: [0.05, 0.1, 0.2],\n",
       "                         &#x27;max_depth&#x27;: [5, 6, 7, 8], &#x27;subsample&#x27;: [0.5, 1.0]})</pre><b>In a Jupyter environment, please rerun this cell to show the HTML representation or trust the notebook. <br />On GitHub, the HTML representation is unable to render, please try loading this page with nbviewer.org.</b></div><div class=\"sk-container\" hidden><div class=\"sk-item sk-dashed-wrapped\"><div class=\"sk-label-container\"><div class=\"sk-label sk-toggleable\"><input class=\"sk-toggleable__control sk-hidden--visually\" id=\"sk-estimator-id-1\" type=\"checkbox\" ><label for=\"sk-estimator-id-1\" class=\"sk-toggleable__label sk-toggleable__label-arrow\">GridSearchCV</label><div class=\"sk-toggleable__content\"><pre>GridSearchCV(cv=5,\n",
       "             estimator=XGBRegressor(base_score=None, booster=None,\n",
       "                                    callbacks=None, colsample_bylevel=None,\n",
       "                                    colsample_bynode=None,\n",
       "                                    colsample_bytree=None,\n",
       "                                    early_stopping_rounds=None,\n",
       "                                    enable_categorical=False, eval_metric=None,\n",
       "                                    feature_types=None, gamma=None, gpu_id=None,\n",
       "                                    grow_policy=None, importance_type=None,\n",
       "                                    interaction_constraints=None,\n",
       "                                    learning_rate=None, m...\n",
       "                                    max_cat_threshold=None,\n",
       "                                    max_cat_to_onehot=None, max_delta_step=None,\n",
       "                                    max_depth=None, max_leaves=None,\n",
       "                                    min_child_weight=None, missing=nan,\n",
       "                                    monotone_constraints=None, n_estimators=100,\n",
       "                                    n_jobs=None, num_parallel_tree=None,\n",
       "                                    predictor=None, random_state=None, ...),\n",
       "             param_grid={&#x27;colsample_bytree&#x27;: [0.5, 1.0],\n",
       "                         &#x27;learning_rate&#x27;: [0.05, 0.1, 0.2],\n",
       "                         &#x27;max_depth&#x27;: [5, 6, 7, 8], &#x27;subsample&#x27;: [0.5, 1.0]})</pre></div></div></div><div class=\"sk-parallel\"><div class=\"sk-parallel-item\"><div class=\"sk-item\"><div class=\"sk-label-container\"><div class=\"sk-label sk-toggleable\"><input class=\"sk-toggleable__control sk-hidden--visually\" id=\"sk-estimator-id-2\" type=\"checkbox\" ><label for=\"sk-estimator-id-2\" class=\"sk-toggleable__label sk-toggleable__label-arrow\">estimator: XGBRegressor</label><div class=\"sk-toggleable__content\"><pre>XGBRegressor(base_score=None, booster=None, callbacks=None,\n",
       "             colsample_bylevel=None, colsample_bynode=None,\n",
       "             colsample_bytree=None, early_stopping_rounds=None,\n",
       "             enable_categorical=False, eval_metric=None, feature_types=None,\n",
       "             gamma=None, gpu_id=None, grow_policy=None, importance_type=None,\n",
       "             interaction_constraints=None, learning_rate=None, max_bin=None,\n",
       "             max_cat_threshold=None, max_cat_to_onehot=None,\n",
       "             max_delta_step=None, max_depth=None, max_leaves=None,\n",
       "             min_child_weight=None, missing=nan, monotone_constraints=None,\n",
       "             n_estimators=100, n_jobs=None, num_parallel_tree=None,\n",
       "             predictor=None, random_state=None, ...)</pre></div></div></div><div class=\"sk-serial\"><div class=\"sk-item\"><div class=\"sk-estimator sk-toggleable\"><input class=\"sk-toggleable__control sk-hidden--visually\" id=\"sk-estimator-id-3\" type=\"checkbox\" ><label for=\"sk-estimator-id-3\" class=\"sk-toggleable__label sk-toggleable__label-arrow\">XGBRegressor</label><div class=\"sk-toggleable__content\"><pre>XGBRegressor(base_score=None, booster=None, callbacks=None,\n",
       "             colsample_bylevel=None, colsample_bynode=None,\n",
       "             colsample_bytree=None, early_stopping_rounds=None,\n",
       "             enable_categorical=False, eval_metric=None, feature_types=None,\n",
       "             gamma=None, gpu_id=None, grow_policy=None, importance_type=None,\n",
       "             interaction_constraints=None, learning_rate=None, max_bin=None,\n",
       "             max_cat_threshold=None, max_cat_to_onehot=None,\n",
       "             max_delta_step=None, max_depth=None, max_leaves=None,\n",
       "             min_child_weight=None, missing=nan, monotone_constraints=None,\n",
       "             n_estimators=100, n_jobs=None, num_parallel_tree=None,\n",
       "             predictor=None, random_state=None, ...)</pre></div></div></div></div></div></div></div></div></div></div>"
      ],
      "text/plain": [
       "GridSearchCV(cv=5,\n",
       "             estimator=XGBRegressor(base_score=None, booster=None,\n",
       "                                    callbacks=None, colsample_bylevel=None,\n",
       "                                    colsample_bynode=None,\n",
       "                                    colsample_bytree=None,\n",
       "                                    early_stopping_rounds=None,\n",
       "                                    enable_categorical=False, eval_metric=None,\n",
       "                                    feature_types=None, gamma=None, gpu_id=None,\n",
       "                                    grow_policy=None, importance_type=None,\n",
       "                                    interaction_constraints=None,\n",
       "                                    learning_rate=None, m...\n",
       "                                    max_cat_threshold=None,\n",
       "                                    max_cat_to_onehot=None, max_delta_step=None,\n",
       "                                    max_depth=None, max_leaves=None,\n",
       "                                    min_child_weight=None, missing=nan,\n",
       "                                    monotone_constraints=None, n_estimators=100,\n",
       "                                    n_jobs=None, num_parallel_tree=None,\n",
       "                                    predictor=None, random_state=None, ...),\n",
       "             param_grid={'colsample_bytree': [0.5, 1.0],\n",
       "                         'learning_rate': [0.05, 0.1, 0.2],\n",
       "                         'max_depth': [5, 6, 7, 8], 'subsample': [0.5, 1.0]})"
      ]
     },
     "execution_count": 203,
     "metadata": {},
     "output_type": "execute_result"
    }
   ],
   "source": [
    "# 결과 확인\n",
    "result"
   ]
  },
  {
   "cell_type": "code",
   "execution_count": 204,
   "metadata": {},
   "outputs": [
    {
     "data": {
      "text/plain": [
       "{'mean_fit_time': array([0.13282509, 0.14980383, 0.1559854 , 0.1705008 , 0.17960854,\n",
       "        0.20209775, 0.22325034, 0.25584435, 0.13376546, 0.13645511,\n",
       "        0.15909729, 0.18101664, 0.17622933, 0.20014462, 0.20808496,\n",
       "        0.25673609, 0.14846935, 0.16326437, 0.16075382, 0.19694667,\n",
       "        0.19884582, 0.21845713, 0.23713336, 0.24638786, 0.16115208,\n",
       "        0.20093536, 0.19477863, 0.23759522, 0.25496674, 0.32750297,\n",
       "        0.31109767, 0.38580546, 0.19720297, 0.21774693, 0.21124601,\n",
       "        0.25209255, 0.25755553, 0.30426669, 0.30936899, 0.39078178,\n",
       "        0.18533773, 0.21240854, 0.23440471, 0.29075594, 0.257021  ,\n",
       "        0.29695983, 0.31232758, 0.37728949]),\n",
       " 'std_fit_time': array([0.00300113, 0.01100984, 0.0084904 , 0.00739548, 0.01225495,\n",
       "        0.01175355, 0.01096606, 0.01048073, 0.00724252, 0.00235476,\n",
       "        0.01006643, 0.01325802, 0.00797379, 0.00419472, 0.00613347,\n",
       "        0.00694978, 0.00808514, 0.00844749, 0.00543092, 0.02280724,\n",
       "        0.01428648, 0.00824734, 0.02126248, 0.0093463 , 0.00918357,\n",
       "        0.02163017, 0.01273847, 0.01278902, 0.02100471, 0.02137908,\n",
       "        0.00628734, 0.0247762 , 0.01991952, 0.00224812, 0.00483562,\n",
       "        0.0099383 , 0.01229704, 0.00607989, 0.00547748, 0.03572186,\n",
       "        0.00736967, 0.0073827 , 0.02286861, 0.02417845, 0.00789151,\n",
       "        0.0115881 , 0.03130488, 0.04354155]),\n",
       " 'mean_score_time': array([0.00691562, 0.00306807, 0.00336657, 0.00646243, 0.        ,\n",
       "        0.00418768, 0.00624962, 0.00320759, 0.        , 0.00937581,\n",
       "        0.        , 0.00970078, 0.01221728, 0.00468693, 0.0002243 ,\n",
       "        0.        , 0.00323219, 0.00127797, 0.00312457, 0.00239391,\n",
       "        0.00149884, 0.0007998 , 0.00144224, 0.00383582, 0.00082254,\n",
       "        0.00060015, 0.00388622, 0.00341663, 0.00219169, 0.00370421,\n",
       "        0.00886917, 0.00423102, 0.00395756, 0.00059857, 0.00540218,\n",
       "        0.00572891, 0.00384784, 0.00137076, 0.00456705, 0.00059972,\n",
       "        0.00366669, 0.00925136, 0.00600071, 0.00316987, 0.00687494,\n",
       "        0.00045466, 0.00312486, 0.00289998]),\n",
       " 'std_score_time': array([0.00714156, 0.00613613, 0.00649594, 0.00792109, 0.        ,\n",
       "        0.00704756, 0.00765419, 0.00466051, 0.        , 0.00765532,\n",
       "        0.        , 0.00794293, 0.00614814, 0.00574157, 0.00044861,\n",
       "        0.        , 0.00646439, 0.00141271, 0.00624914, 0.00478783,\n",
       "        0.00299768, 0.0015996 , 0.00178394, 0.00605337, 0.00164509,\n",
       "        0.00120029, 0.00605158, 0.00671292, 0.00203786, 0.00460104,\n",
       "        0.00741882, 0.00622968, 0.00609511, 0.00079746, 0.00675079,\n",
       "        0.00595643, 0.00378521, 0.00194747, 0.00622668, 0.00119944,\n",
       "        0.00658901, 0.00755707, 0.00736174, 0.00633974, 0.00754684,\n",
       "        0.00067933, 0.00624971, 0.00579996]),\n",
       " 'param_colsample_bytree': masked_array(data=[0.5, 0.5, 0.5, 0.5, 0.5, 0.5, 0.5, 0.5, 0.5, 0.5, 0.5,\n",
       "                    0.5, 0.5, 0.5, 0.5, 0.5, 0.5, 0.5, 0.5, 0.5, 0.5, 0.5,\n",
       "                    0.5, 0.5, 1.0, 1.0, 1.0, 1.0, 1.0, 1.0, 1.0, 1.0, 1.0,\n",
       "                    1.0, 1.0, 1.0, 1.0, 1.0, 1.0, 1.0, 1.0, 1.0, 1.0, 1.0,\n",
       "                    1.0, 1.0, 1.0, 1.0],\n",
       "              mask=[False, False, False, False, False, False, False, False,\n",
       "                    False, False, False, False, False, False, False, False,\n",
       "                    False, False, False, False, False, False, False, False,\n",
       "                    False, False, False, False, False, False, False, False,\n",
       "                    False, False, False, False, False, False, False, False,\n",
       "                    False, False, False, False, False, False, False, False],\n",
       "        fill_value='?',\n",
       "             dtype=object),\n",
       " 'param_learning_rate': masked_array(data=[0.05, 0.05, 0.05, 0.05, 0.05, 0.05, 0.05, 0.05, 0.1,\n",
       "                    0.1, 0.1, 0.1, 0.1, 0.1, 0.1, 0.1, 0.2, 0.2, 0.2, 0.2,\n",
       "                    0.2, 0.2, 0.2, 0.2, 0.05, 0.05, 0.05, 0.05, 0.05, 0.05,\n",
       "                    0.05, 0.05, 0.1, 0.1, 0.1, 0.1, 0.1, 0.1, 0.1, 0.1,\n",
       "                    0.2, 0.2, 0.2, 0.2, 0.2, 0.2, 0.2, 0.2],\n",
       "              mask=[False, False, False, False, False, False, False, False,\n",
       "                    False, False, False, False, False, False, False, False,\n",
       "                    False, False, False, False, False, False, False, False,\n",
       "                    False, False, False, False, False, False, False, False,\n",
       "                    False, False, False, False, False, False, False, False,\n",
       "                    False, False, False, False, False, False, False, False],\n",
       "        fill_value='?',\n",
       "             dtype=object),\n",
       " 'param_max_depth': masked_array(data=[5, 5, 6, 6, 7, 7, 8, 8, 5, 5, 6, 6, 7, 7, 8, 8, 5, 5,\n",
       "                    6, 6, 7, 7, 8, 8, 5, 5, 6, 6, 7, 7, 8, 8, 5, 5, 6, 6,\n",
       "                    7, 7, 8, 8, 5, 5, 6, 6, 7, 7, 8, 8],\n",
       "              mask=[False, False, False, False, False, False, False, False,\n",
       "                    False, False, False, False, False, False, False, False,\n",
       "                    False, False, False, False, False, False, False, False,\n",
       "                    False, False, False, False, False, False, False, False,\n",
       "                    False, False, False, False, False, False, False, False,\n",
       "                    False, False, False, False, False, False, False, False],\n",
       "        fill_value='?',\n",
       "             dtype=object),\n",
       " 'param_subsample': masked_array(data=[0.5, 1.0, 0.5, 1.0, 0.5, 1.0, 0.5, 1.0, 0.5, 1.0, 0.5,\n",
       "                    1.0, 0.5, 1.0, 0.5, 1.0, 0.5, 1.0, 0.5, 1.0, 0.5, 1.0,\n",
       "                    0.5, 1.0, 0.5, 1.0, 0.5, 1.0, 0.5, 1.0, 0.5, 1.0, 0.5,\n",
       "                    1.0, 0.5, 1.0, 0.5, 1.0, 0.5, 1.0, 0.5, 1.0, 0.5, 1.0,\n",
       "                    0.5, 1.0, 0.5, 1.0],\n",
       "              mask=[False, False, False, False, False, False, False, False,\n",
       "                    False, False, False, False, False, False, False, False,\n",
       "                    False, False, False, False, False, False, False, False,\n",
       "                    False, False, False, False, False, False, False, False,\n",
       "                    False, False, False, False, False, False, False, False,\n",
       "                    False, False, False, False, False, False, False, False],\n",
       "        fill_value='?',\n",
       "             dtype=object),\n",
       " 'params': [{'colsample_bytree': 0.5,\n",
       "   'learning_rate': 0.05,\n",
       "   'max_depth': 5,\n",
       "   'subsample': 0.5},\n",
       "  {'colsample_bytree': 0.5,\n",
       "   'learning_rate': 0.05,\n",
       "   'max_depth': 5,\n",
       "   'subsample': 1.0},\n",
       "  {'colsample_bytree': 0.5,\n",
       "   'learning_rate': 0.05,\n",
       "   'max_depth': 6,\n",
       "   'subsample': 0.5},\n",
       "  {'colsample_bytree': 0.5,\n",
       "   'learning_rate': 0.05,\n",
       "   'max_depth': 6,\n",
       "   'subsample': 1.0},\n",
       "  {'colsample_bytree': 0.5,\n",
       "   'learning_rate': 0.05,\n",
       "   'max_depth': 7,\n",
       "   'subsample': 0.5},\n",
       "  {'colsample_bytree': 0.5,\n",
       "   'learning_rate': 0.05,\n",
       "   'max_depth': 7,\n",
       "   'subsample': 1.0},\n",
       "  {'colsample_bytree': 0.5,\n",
       "   'learning_rate': 0.05,\n",
       "   'max_depth': 8,\n",
       "   'subsample': 0.5},\n",
       "  {'colsample_bytree': 0.5,\n",
       "   'learning_rate': 0.05,\n",
       "   'max_depth': 8,\n",
       "   'subsample': 1.0},\n",
       "  {'colsample_bytree': 0.5,\n",
       "   'learning_rate': 0.1,\n",
       "   'max_depth': 5,\n",
       "   'subsample': 0.5},\n",
       "  {'colsample_bytree': 0.5,\n",
       "   'learning_rate': 0.1,\n",
       "   'max_depth': 5,\n",
       "   'subsample': 1.0},\n",
       "  {'colsample_bytree': 0.5,\n",
       "   'learning_rate': 0.1,\n",
       "   'max_depth': 6,\n",
       "   'subsample': 0.5},\n",
       "  {'colsample_bytree': 0.5,\n",
       "   'learning_rate': 0.1,\n",
       "   'max_depth': 6,\n",
       "   'subsample': 1.0},\n",
       "  {'colsample_bytree': 0.5,\n",
       "   'learning_rate': 0.1,\n",
       "   'max_depth': 7,\n",
       "   'subsample': 0.5},\n",
       "  {'colsample_bytree': 0.5,\n",
       "   'learning_rate': 0.1,\n",
       "   'max_depth': 7,\n",
       "   'subsample': 1.0},\n",
       "  {'colsample_bytree': 0.5,\n",
       "   'learning_rate': 0.1,\n",
       "   'max_depth': 8,\n",
       "   'subsample': 0.5},\n",
       "  {'colsample_bytree': 0.5,\n",
       "   'learning_rate': 0.1,\n",
       "   'max_depth': 8,\n",
       "   'subsample': 1.0},\n",
       "  {'colsample_bytree': 0.5,\n",
       "   'learning_rate': 0.2,\n",
       "   'max_depth': 5,\n",
       "   'subsample': 0.5},\n",
       "  {'colsample_bytree': 0.5,\n",
       "   'learning_rate': 0.2,\n",
       "   'max_depth': 5,\n",
       "   'subsample': 1.0},\n",
       "  {'colsample_bytree': 0.5,\n",
       "   'learning_rate': 0.2,\n",
       "   'max_depth': 6,\n",
       "   'subsample': 0.5},\n",
       "  {'colsample_bytree': 0.5,\n",
       "   'learning_rate': 0.2,\n",
       "   'max_depth': 6,\n",
       "   'subsample': 1.0},\n",
       "  {'colsample_bytree': 0.5,\n",
       "   'learning_rate': 0.2,\n",
       "   'max_depth': 7,\n",
       "   'subsample': 0.5},\n",
       "  {'colsample_bytree': 0.5,\n",
       "   'learning_rate': 0.2,\n",
       "   'max_depth': 7,\n",
       "   'subsample': 1.0},\n",
       "  {'colsample_bytree': 0.5,\n",
       "   'learning_rate': 0.2,\n",
       "   'max_depth': 8,\n",
       "   'subsample': 0.5},\n",
       "  {'colsample_bytree': 0.5,\n",
       "   'learning_rate': 0.2,\n",
       "   'max_depth': 8,\n",
       "   'subsample': 1.0},\n",
       "  {'colsample_bytree': 1.0,\n",
       "   'learning_rate': 0.05,\n",
       "   'max_depth': 5,\n",
       "   'subsample': 0.5},\n",
       "  {'colsample_bytree': 1.0,\n",
       "   'learning_rate': 0.05,\n",
       "   'max_depth': 5,\n",
       "   'subsample': 1.0},\n",
       "  {'colsample_bytree': 1.0,\n",
       "   'learning_rate': 0.05,\n",
       "   'max_depth': 6,\n",
       "   'subsample': 0.5},\n",
       "  {'colsample_bytree': 1.0,\n",
       "   'learning_rate': 0.05,\n",
       "   'max_depth': 6,\n",
       "   'subsample': 1.0},\n",
       "  {'colsample_bytree': 1.0,\n",
       "   'learning_rate': 0.05,\n",
       "   'max_depth': 7,\n",
       "   'subsample': 0.5},\n",
       "  {'colsample_bytree': 1.0,\n",
       "   'learning_rate': 0.05,\n",
       "   'max_depth': 7,\n",
       "   'subsample': 1.0},\n",
       "  {'colsample_bytree': 1.0,\n",
       "   'learning_rate': 0.05,\n",
       "   'max_depth': 8,\n",
       "   'subsample': 0.5},\n",
       "  {'colsample_bytree': 1.0,\n",
       "   'learning_rate': 0.05,\n",
       "   'max_depth': 8,\n",
       "   'subsample': 1.0},\n",
       "  {'colsample_bytree': 1.0,\n",
       "   'learning_rate': 0.1,\n",
       "   'max_depth': 5,\n",
       "   'subsample': 0.5},\n",
       "  {'colsample_bytree': 1.0,\n",
       "   'learning_rate': 0.1,\n",
       "   'max_depth': 5,\n",
       "   'subsample': 1.0},\n",
       "  {'colsample_bytree': 1.0,\n",
       "   'learning_rate': 0.1,\n",
       "   'max_depth': 6,\n",
       "   'subsample': 0.5},\n",
       "  {'colsample_bytree': 1.0,\n",
       "   'learning_rate': 0.1,\n",
       "   'max_depth': 6,\n",
       "   'subsample': 1.0},\n",
       "  {'colsample_bytree': 1.0,\n",
       "   'learning_rate': 0.1,\n",
       "   'max_depth': 7,\n",
       "   'subsample': 0.5},\n",
       "  {'colsample_bytree': 1.0,\n",
       "   'learning_rate': 0.1,\n",
       "   'max_depth': 7,\n",
       "   'subsample': 1.0},\n",
       "  {'colsample_bytree': 1.0,\n",
       "   'learning_rate': 0.1,\n",
       "   'max_depth': 8,\n",
       "   'subsample': 0.5},\n",
       "  {'colsample_bytree': 1.0,\n",
       "   'learning_rate': 0.1,\n",
       "   'max_depth': 8,\n",
       "   'subsample': 1.0},\n",
       "  {'colsample_bytree': 1.0,\n",
       "   'learning_rate': 0.2,\n",
       "   'max_depth': 5,\n",
       "   'subsample': 0.5},\n",
       "  {'colsample_bytree': 1.0,\n",
       "   'learning_rate': 0.2,\n",
       "   'max_depth': 5,\n",
       "   'subsample': 1.0},\n",
       "  {'colsample_bytree': 1.0,\n",
       "   'learning_rate': 0.2,\n",
       "   'max_depth': 6,\n",
       "   'subsample': 0.5},\n",
       "  {'colsample_bytree': 1.0,\n",
       "   'learning_rate': 0.2,\n",
       "   'max_depth': 6,\n",
       "   'subsample': 1.0},\n",
       "  {'colsample_bytree': 1.0,\n",
       "   'learning_rate': 0.2,\n",
       "   'max_depth': 7,\n",
       "   'subsample': 0.5},\n",
       "  {'colsample_bytree': 1.0,\n",
       "   'learning_rate': 0.2,\n",
       "   'max_depth': 7,\n",
       "   'subsample': 1.0},\n",
       "  {'colsample_bytree': 1.0,\n",
       "   'learning_rate': 0.2,\n",
       "   'max_depth': 8,\n",
       "   'subsample': 0.5},\n",
       "  {'colsample_bytree': 1.0,\n",
       "   'learning_rate': 0.2,\n",
       "   'max_depth': 8,\n",
       "   'subsample': 1.0}],\n",
       " 'split0_test_score': array([0.81251369, 0.8099582 , 0.80611882, 0.80547762, 0.79910379,\n",
       "        0.79870447, 0.79391659, 0.79049148, 0.8179336 , 0.81835139,\n",
       "        0.8096008 , 0.81075802, 0.80263611, 0.80454372, 0.79879174,\n",
       "        0.79942171, 0.80972166, 0.81405884, 0.79676419, 0.80635688,\n",
       "        0.78614033, 0.79651951, 0.78154267, 0.78840993, 0.81742783,\n",
       "        0.81198234, 0.8153437 , 0.80877029, 0.81018839, 0.80451904,\n",
       "        0.80774903, 0.79888269, 0.81306295, 0.81052407, 0.81305074,\n",
       "        0.80901489, 0.80281749, 0.80135372, 0.79452117, 0.79393142,\n",
       "        0.80378105, 0.8064731 , 0.77865158, 0.79625053, 0.7837443 ,\n",
       "        0.78832389, 0.77892417, 0.786415  ]),\n",
       " 'split1_test_score': array([0.81641641, 0.81529263, 0.81460113, 0.81386621, 0.81053565,\n",
       "        0.8098995 , 0.8037426 , 0.80584244, 0.8241452 , 0.82093003,\n",
       "        0.82024845, 0.81674904, 0.81515154, 0.81218894, 0.80845398,\n",
       "        0.80406422, 0.80428   , 0.81733417, 0.79355544, 0.81151185,\n",
       "        0.78419637, 0.80645823, 0.77868545, 0.79835055, 0.81756952,\n",
       "        0.81654466, 0.81527917, 0.81287186, 0.81027556, 0.80860286,\n",
       "        0.80630903, 0.79794538, 0.81600534, 0.81526345, 0.81086159,\n",
       "        0.81155324, 0.80345015, 0.80264218, 0.79690482, 0.79469343,\n",
       "        0.80014967, 0.80554472, 0.79247474, 0.80426127, 0.78179258,\n",
       "        0.79518572, 0.77864404, 0.78496012]),\n",
       " 'split2_test_score': array([0.84559359, 0.84860388, 0.84507246, 0.84626506, 0.8390437 ,\n",
       "        0.84039417, 0.83193026, 0.83094478, 0.8535344 , 0.85260079,\n",
       "        0.85287898, 0.85161893, 0.8431484 , 0.84410168, 0.83053499,\n",
       "        0.83439386, 0.84649926, 0.84794813, 0.83006054, 0.84141827,\n",
       "        0.82770777, 0.83824045, 0.81736171, 0.824476  , 0.85128224,\n",
       "        0.8513859 , 0.84934192, 0.851904  , 0.84320278, 0.84651142,\n",
       "        0.84058596, 0.83942581, 0.85506125, 0.85244243, 0.84877444,\n",
       "        0.84778384, 0.83968519, 0.84492054, 0.83823314, 0.83837443,\n",
       "        0.83694279, 0.84060207, 0.82797028, 0.84326349, 0.81732637,\n",
       "        0.84032572, 0.81158927, 0.83159473]),\n",
       " 'split3_test_score': array([0.81544944, 0.81627654, 0.8146963 , 0.81315599, 0.80853697,\n",
       "        0.80726002, 0.80197823, 0.80158991, 0.81913107, 0.82282844,\n",
       "        0.81489973, 0.81659286, 0.8098922 , 0.8121698 , 0.80274977,\n",
       "        0.80553985, 0.80812868, 0.81517243, 0.80342844, 0.80928151,\n",
       "        0.79590297, 0.80060297, 0.78529682, 0.7952267 , 0.81826006,\n",
       "        0.81697936, 0.81468433, 0.81148028, 0.80969885, 0.79979108,\n",
       "        0.8077702 , 0.79359449, 0.81541968, 0.81457048, 0.81011138,\n",
       "        0.8104814 , 0.80673491, 0.79873999, 0.79469482, 0.78747134,\n",
       "        0.7996816 , 0.81006133, 0.79193415, 0.80177708, 0.77975584,\n",
       "        0.78271062, 0.78584535, 0.77861915]),\n",
       " 'split4_test_score': array([0.86322451, 0.86408026, 0.86179368, 0.86369059, 0.85718938,\n",
       "        0.85978925, 0.84941901, 0.85217012, 0.87182155, 0.87440632,\n",
       "        0.86481982, 0.87248074, 0.85994022, 0.86687824, 0.85293054,\n",
       "        0.86096437, 0.86098866, 0.87187028, 0.85381353, 0.86406508,\n",
       "        0.85195   , 0.86373098, 0.83099572, 0.85275172, 0.86315243,\n",
       "        0.86197076, 0.86370233, 0.85868906, 0.86352471, 0.85952104,\n",
       "        0.85817777, 0.85824126, 0.86482362, 0.86787097, 0.86188565,\n",
       "        0.86406324, 0.85628257, 0.85921893, 0.85347323, 0.85720669,\n",
       "        0.85443752, 0.85858765, 0.83459979, 0.85757781, 0.8317675 ,\n",
       "        0.85516371, 0.83003991, 0.85180315]),\n",
       " 'mean_test_score': array([0.83063953, 0.8308423 , 0.82845648, 0.8284911 , 0.8228819 ,\n",
       "        0.82320948, 0.81619734, 0.81620775, 0.83731316, 0.83782339,\n",
       "        0.83248955, 0.83363992, 0.82615369, 0.82797648, 0.81869221,\n",
       "        0.8208768 , 0.82592365, 0.83327677, 0.81552443, 0.82652672,\n",
       "        0.80917949, 0.82111043, 0.79877648, 0.81184298, 0.83353842,\n",
       "        0.8317726 , 0.83167029, 0.8287431 , 0.82737806, 0.82378909,\n",
       "        0.8241184 , 0.81761793, 0.83287457, 0.83213428, 0.82893676,\n",
       "        0.82857932, 0.82179406, 0.82137507, 0.81556544, 0.81433546,\n",
       "        0.81899853, 0.82425377, 0.80512611, 0.82062604, 0.79887732,\n",
       "        0.81234193, 0.79700855, 0.80667843]),\n",
       " 'std_test_score': array([0.02023357, 0.02149574, 0.02129669, 0.0225104 , 0.0217339 ,\n",
       "        0.02308865, 0.02099971, 0.02232899, 0.02160328, 0.0221182 ,\n",
       "        0.02210935, 0.02421297, 0.02176653, 0.02375525, 0.02033483,\n",
       "        0.02352841, 0.02324015, 0.02304765, 0.02305754, 0.02262986,\n",
       "        0.02647202, 0.02588399, 0.02128777, 0.02383432, 0.01969679,\n",
       "        0.0206833 , 0.02079465, 0.0218266 , 0.02216996, 0.02437596,\n",
       "        0.02137108, 0.0262335 , 0.02233712, 0.02345057, 0.0219665 ,\n",
       "        0.02292645, 0.02205872, 0.02549772, 0.02520908, 0.02807002,\n",
       "        0.0225296 , 0.02151134, 0.02202516, 0.02488028, 0.02148795,\n",
       "        0.02955   , 0.02045769, 0.02941659]),\n",
       " 'rank_test_score': array([12, 11, 17, 16, 27, 26, 37, 36,  2,  1,  7,  3, 21, 18, 34, 31, 22,\n",
       "         5, 39, 20, 43, 30, 47, 42,  4,  9, 10, 14, 19, 25, 24, 35,  6,  8,\n",
       "        13, 15, 28, 29, 38, 40, 33, 23, 45, 32, 46, 41, 48, 44])}"
      ]
     },
     "execution_count": 204,
     "metadata": {},
     "output_type": "execute_result"
    }
   ],
   "source": [
    "gs.cv_results_"
   ]
  },
  {
   "cell_type": "code",
   "execution_count": 205,
   "metadata": {},
   "outputs": [],
   "source": [
    "# 학습 후 저장된 모델 파라미터 확인\n",
    "# 교차학습 결과 => 조합된 모델의 개수만큼 결과 출력\n",
    "cv_resultDF = pd.DataFrame(gs.cv_results_)"
   ]
  },
  {
   "cell_type": "code",
   "execution_count": 206,
   "metadata": {},
   "outputs": [
    {
     "data": {
      "text/html": [
       "<div>\n",
       "<style scoped>\n",
       "    .dataframe tbody tr th:only-of-type {\n",
       "        vertical-align: middle;\n",
       "    }\n",
       "\n",
       "    .dataframe tbody tr th {\n",
       "        vertical-align: top;\n",
       "    }\n",
       "\n",
       "    .dataframe thead th {\n",
       "        text-align: right;\n",
       "    }\n",
       "</style>\n",
       "<table border=\"1\" class=\"dataframe\">\n",
       "  <thead>\n",
       "    <tr style=\"text-align: right;\">\n",
       "      <th></th>\n",
       "      <th>mean_fit_time</th>\n",
       "      <th>std_fit_time</th>\n",
       "      <th>mean_score_time</th>\n",
       "      <th>std_score_time</th>\n",
       "      <th>param_colsample_bytree</th>\n",
       "      <th>param_learning_rate</th>\n",
       "      <th>param_max_depth</th>\n",
       "      <th>param_subsample</th>\n",
       "      <th>params</th>\n",
       "      <th>split0_test_score</th>\n",
       "      <th>split1_test_score</th>\n",
       "      <th>split2_test_score</th>\n",
       "      <th>split3_test_score</th>\n",
       "      <th>split4_test_score</th>\n",
       "      <th>mean_test_score</th>\n",
       "      <th>std_test_score</th>\n",
       "      <th>rank_test_score</th>\n",
       "    </tr>\n",
       "  </thead>\n",
       "  <tbody>\n",
       "    <tr>\n",
       "      <th>0</th>\n",
       "      <td>0.132825</td>\n",
       "      <td>0.003001</td>\n",
       "      <td>0.006916</td>\n",
       "      <td>0.007142</td>\n",
       "      <td>0.5</td>\n",
       "      <td>0.05</td>\n",
       "      <td>5</td>\n",
       "      <td>0.5</td>\n",
       "      <td>{'colsample_bytree': 0.5, 'learning_rate': 0.0...</td>\n",
       "      <td>0.812514</td>\n",
       "      <td>0.816416</td>\n",
       "      <td>0.845594</td>\n",
       "      <td>0.815449</td>\n",
       "      <td>0.863225</td>\n",
       "      <td>0.830640</td>\n",
       "      <td>0.020234</td>\n",
       "      <td>12</td>\n",
       "    </tr>\n",
       "    <tr>\n",
       "      <th>1</th>\n",
       "      <td>0.149804</td>\n",
       "      <td>0.011010</td>\n",
       "      <td>0.003068</td>\n",
       "      <td>0.006136</td>\n",
       "      <td>0.5</td>\n",
       "      <td>0.05</td>\n",
       "      <td>5</td>\n",
       "      <td>1.0</td>\n",
       "      <td>{'colsample_bytree': 0.5, 'learning_rate': 0.0...</td>\n",
       "      <td>0.809958</td>\n",
       "      <td>0.815293</td>\n",
       "      <td>0.848604</td>\n",
       "      <td>0.816277</td>\n",
       "      <td>0.864080</td>\n",
       "      <td>0.830842</td>\n",
       "      <td>0.021496</td>\n",
       "      <td>11</td>\n",
       "    </tr>\n",
       "    <tr>\n",
       "      <th>2</th>\n",
       "      <td>0.155985</td>\n",
       "      <td>0.008490</td>\n",
       "      <td>0.003367</td>\n",
       "      <td>0.006496</td>\n",
       "      <td>0.5</td>\n",
       "      <td>0.05</td>\n",
       "      <td>6</td>\n",
       "      <td>0.5</td>\n",
       "      <td>{'colsample_bytree': 0.5, 'learning_rate': 0.0...</td>\n",
       "      <td>0.806119</td>\n",
       "      <td>0.814601</td>\n",
       "      <td>0.845072</td>\n",
       "      <td>0.814696</td>\n",
       "      <td>0.861794</td>\n",
       "      <td>0.828456</td>\n",
       "      <td>0.021297</td>\n",
       "      <td>17</td>\n",
       "    </tr>\n",
       "    <tr>\n",
       "      <th>3</th>\n",
       "      <td>0.170501</td>\n",
       "      <td>0.007395</td>\n",
       "      <td>0.006462</td>\n",
       "      <td>0.007921</td>\n",
       "      <td>0.5</td>\n",
       "      <td>0.05</td>\n",
       "      <td>6</td>\n",
       "      <td>1.0</td>\n",
       "      <td>{'colsample_bytree': 0.5, 'learning_rate': 0.0...</td>\n",
       "      <td>0.805478</td>\n",
       "      <td>0.813866</td>\n",
       "      <td>0.846265</td>\n",
       "      <td>0.813156</td>\n",
       "      <td>0.863691</td>\n",
       "      <td>0.828491</td>\n",
       "      <td>0.022510</td>\n",
       "      <td>16</td>\n",
       "    </tr>\n",
       "    <tr>\n",
       "      <th>4</th>\n",
       "      <td>0.179609</td>\n",
       "      <td>0.012255</td>\n",
       "      <td>0.000000</td>\n",
       "      <td>0.000000</td>\n",
       "      <td>0.5</td>\n",
       "      <td>0.05</td>\n",
       "      <td>7</td>\n",
       "      <td>0.5</td>\n",
       "      <td>{'colsample_bytree': 0.5, 'learning_rate': 0.0...</td>\n",
       "      <td>0.799104</td>\n",
       "      <td>0.810536</td>\n",
       "      <td>0.839044</td>\n",
       "      <td>0.808537</td>\n",
       "      <td>0.857189</td>\n",
       "      <td>0.822882</td>\n",
       "      <td>0.021734</td>\n",
       "      <td>27</td>\n",
       "    </tr>\n",
       "    <tr>\n",
       "      <th>5</th>\n",
       "      <td>0.202098</td>\n",
       "      <td>0.011754</td>\n",
       "      <td>0.004188</td>\n",
       "      <td>0.007048</td>\n",
       "      <td>0.5</td>\n",
       "      <td>0.05</td>\n",
       "      <td>7</td>\n",
       "      <td>1.0</td>\n",
       "      <td>{'colsample_bytree': 0.5, 'learning_rate': 0.0...</td>\n",
       "      <td>0.798704</td>\n",
       "      <td>0.809900</td>\n",
       "      <td>0.840394</td>\n",
       "      <td>0.807260</td>\n",
       "      <td>0.859789</td>\n",
       "      <td>0.823209</td>\n",
       "      <td>0.023089</td>\n",
       "      <td>26</td>\n",
       "    </tr>\n",
       "    <tr>\n",
       "      <th>6</th>\n",
       "      <td>0.223250</td>\n",
       "      <td>0.010966</td>\n",
       "      <td>0.006250</td>\n",
       "      <td>0.007654</td>\n",
       "      <td>0.5</td>\n",
       "      <td>0.05</td>\n",
       "      <td>8</td>\n",
       "      <td>0.5</td>\n",
       "      <td>{'colsample_bytree': 0.5, 'learning_rate': 0.0...</td>\n",
       "      <td>0.793917</td>\n",
       "      <td>0.803743</td>\n",
       "      <td>0.831930</td>\n",
       "      <td>0.801978</td>\n",
       "      <td>0.849419</td>\n",
       "      <td>0.816197</td>\n",
       "      <td>0.021000</td>\n",
       "      <td>37</td>\n",
       "    </tr>\n",
       "    <tr>\n",
       "      <th>7</th>\n",
       "      <td>0.255844</td>\n",
       "      <td>0.010481</td>\n",
       "      <td>0.003208</td>\n",
       "      <td>0.004661</td>\n",
       "      <td>0.5</td>\n",
       "      <td>0.05</td>\n",
       "      <td>8</td>\n",
       "      <td>1.0</td>\n",
       "      <td>{'colsample_bytree': 0.5, 'learning_rate': 0.0...</td>\n",
       "      <td>0.790491</td>\n",
       "      <td>0.805842</td>\n",
       "      <td>0.830945</td>\n",
       "      <td>0.801590</td>\n",
       "      <td>0.852170</td>\n",
       "      <td>0.816208</td>\n",
       "      <td>0.022329</td>\n",
       "      <td>36</td>\n",
       "    </tr>\n",
       "    <tr>\n",
       "      <th>8</th>\n",
       "      <td>0.133765</td>\n",
       "      <td>0.007243</td>\n",
       "      <td>0.000000</td>\n",
       "      <td>0.000000</td>\n",
       "      <td>0.5</td>\n",
       "      <td>0.1</td>\n",
       "      <td>5</td>\n",
       "      <td>0.5</td>\n",
       "      <td>{'colsample_bytree': 0.5, 'learning_rate': 0.1...</td>\n",
       "      <td>0.817934</td>\n",
       "      <td>0.824145</td>\n",
       "      <td>0.853534</td>\n",
       "      <td>0.819131</td>\n",
       "      <td>0.871822</td>\n",
       "      <td>0.837313</td>\n",
       "      <td>0.021603</td>\n",
       "      <td>2</td>\n",
       "    </tr>\n",
       "    <tr>\n",
       "      <th>9</th>\n",
       "      <td>0.136455</td>\n",
       "      <td>0.002355</td>\n",
       "      <td>0.009376</td>\n",
       "      <td>0.007655</td>\n",
       "      <td>0.5</td>\n",
       "      <td>0.1</td>\n",
       "      <td>5</td>\n",
       "      <td>1.0</td>\n",
       "      <td>{'colsample_bytree': 0.5, 'learning_rate': 0.1...</td>\n",
       "      <td>0.818351</td>\n",
       "      <td>0.820930</td>\n",
       "      <td>0.852601</td>\n",
       "      <td>0.822828</td>\n",
       "      <td>0.874406</td>\n",
       "      <td>0.837823</td>\n",
       "      <td>0.022118</td>\n",
       "      <td>1</td>\n",
       "    </tr>\n",
       "    <tr>\n",
       "      <th>10</th>\n",
       "      <td>0.159097</td>\n",
       "      <td>0.010066</td>\n",
       "      <td>0.000000</td>\n",
       "      <td>0.000000</td>\n",
       "      <td>0.5</td>\n",
       "      <td>0.1</td>\n",
       "      <td>6</td>\n",
       "      <td>0.5</td>\n",
       "      <td>{'colsample_bytree': 0.5, 'learning_rate': 0.1...</td>\n",
       "      <td>0.809601</td>\n",
       "      <td>0.820248</td>\n",
       "      <td>0.852879</td>\n",
       "      <td>0.814900</td>\n",
       "      <td>0.864820</td>\n",
       "      <td>0.832490</td>\n",
       "      <td>0.022109</td>\n",
       "      <td>7</td>\n",
       "    </tr>\n",
       "    <tr>\n",
       "      <th>11</th>\n",
       "      <td>0.181017</td>\n",
       "      <td>0.013258</td>\n",
       "      <td>0.009701</td>\n",
       "      <td>0.007943</td>\n",
       "      <td>0.5</td>\n",
       "      <td>0.1</td>\n",
       "      <td>6</td>\n",
       "      <td>1.0</td>\n",
       "      <td>{'colsample_bytree': 0.5, 'learning_rate': 0.1...</td>\n",
       "      <td>0.810758</td>\n",
       "      <td>0.816749</td>\n",
       "      <td>0.851619</td>\n",
       "      <td>0.816593</td>\n",
       "      <td>0.872481</td>\n",
       "      <td>0.833640</td>\n",
       "      <td>0.024213</td>\n",
       "      <td>3</td>\n",
       "    </tr>\n",
       "    <tr>\n",
       "      <th>12</th>\n",
       "      <td>0.176229</td>\n",
       "      <td>0.007974</td>\n",
       "      <td>0.012217</td>\n",
       "      <td>0.006148</td>\n",
       "      <td>0.5</td>\n",
       "      <td>0.1</td>\n",
       "      <td>7</td>\n",
       "      <td>0.5</td>\n",
       "      <td>{'colsample_bytree': 0.5, 'learning_rate': 0.1...</td>\n",
       "      <td>0.802636</td>\n",
       "      <td>0.815152</td>\n",
       "      <td>0.843148</td>\n",
       "      <td>0.809892</td>\n",
       "      <td>0.859940</td>\n",
       "      <td>0.826154</td>\n",
       "      <td>0.021767</td>\n",
       "      <td>21</td>\n",
       "    </tr>\n",
       "    <tr>\n",
       "      <th>13</th>\n",
       "      <td>0.200145</td>\n",
       "      <td>0.004195</td>\n",
       "      <td>0.004687</td>\n",
       "      <td>0.005742</td>\n",
       "      <td>0.5</td>\n",
       "      <td>0.1</td>\n",
       "      <td>7</td>\n",
       "      <td>1.0</td>\n",
       "      <td>{'colsample_bytree': 0.5, 'learning_rate': 0.1...</td>\n",
       "      <td>0.804544</td>\n",
       "      <td>0.812189</td>\n",
       "      <td>0.844102</td>\n",
       "      <td>0.812170</td>\n",
       "      <td>0.866878</td>\n",
       "      <td>0.827976</td>\n",
       "      <td>0.023755</td>\n",
       "      <td>18</td>\n",
       "    </tr>\n",
       "    <tr>\n",
       "      <th>14</th>\n",
       "      <td>0.208085</td>\n",
       "      <td>0.006133</td>\n",
       "      <td>0.000224</td>\n",
       "      <td>0.000449</td>\n",
       "      <td>0.5</td>\n",
       "      <td>0.1</td>\n",
       "      <td>8</td>\n",
       "      <td>0.5</td>\n",
       "      <td>{'colsample_bytree': 0.5, 'learning_rate': 0.1...</td>\n",
       "      <td>0.798792</td>\n",
       "      <td>0.808454</td>\n",
       "      <td>0.830535</td>\n",
       "      <td>0.802750</td>\n",
       "      <td>0.852931</td>\n",
       "      <td>0.818692</td>\n",
       "      <td>0.020335</td>\n",
       "      <td>34</td>\n",
       "    </tr>\n",
       "    <tr>\n",
       "      <th>15</th>\n",
       "      <td>0.256736</td>\n",
       "      <td>0.006950</td>\n",
       "      <td>0.000000</td>\n",
       "      <td>0.000000</td>\n",
       "      <td>0.5</td>\n",
       "      <td>0.1</td>\n",
       "      <td>8</td>\n",
       "      <td>1.0</td>\n",
       "      <td>{'colsample_bytree': 0.5, 'learning_rate': 0.1...</td>\n",
       "      <td>0.799422</td>\n",
       "      <td>0.804064</td>\n",
       "      <td>0.834394</td>\n",
       "      <td>0.805540</td>\n",
       "      <td>0.860964</td>\n",
       "      <td>0.820877</td>\n",
       "      <td>0.023528</td>\n",
       "      <td>31</td>\n",
       "    </tr>\n",
       "    <tr>\n",
       "      <th>16</th>\n",
       "      <td>0.148469</td>\n",
       "      <td>0.008085</td>\n",
       "      <td>0.003232</td>\n",
       "      <td>0.006464</td>\n",
       "      <td>0.5</td>\n",
       "      <td>0.2</td>\n",
       "      <td>5</td>\n",
       "      <td>0.5</td>\n",
       "      <td>{'colsample_bytree': 0.5, 'learning_rate': 0.2...</td>\n",
       "      <td>0.809722</td>\n",
       "      <td>0.804280</td>\n",
       "      <td>0.846499</td>\n",
       "      <td>0.808129</td>\n",
       "      <td>0.860989</td>\n",
       "      <td>0.825924</td>\n",
       "      <td>0.023240</td>\n",
       "      <td>22</td>\n",
       "    </tr>\n",
       "    <tr>\n",
       "      <th>17</th>\n",
       "      <td>0.163264</td>\n",
       "      <td>0.008447</td>\n",
       "      <td>0.001278</td>\n",
       "      <td>0.001413</td>\n",
       "      <td>0.5</td>\n",
       "      <td>0.2</td>\n",
       "      <td>5</td>\n",
       "      <td>1.0</td>\n",
       "      <td>{'colsample_bytree': 0.5, 'learning_rate': 0.2...</td>\n",
       "      <td>0.814059</td>\n",
       "      <td>0.817334</td>\n",
       "      <td>0.847948</td>\n",
       "      <td>0.815172</td>\n",
       "      <td>0.871870</td>\n",
       "      <td>0.833277</td>\n",
       "      <td>0.023048</td>\n",
       "      <td>5</td>\n",
       "    </tr>\n",
       "    <tr>\n",
       "      <th>18</th>\n",
       "      <td>0.160754</td>\n",
       "      <td>0.005431</td>\n",
       "      <td>0.003125</td>\n",
       "      <td>0.006249</td>\n",
       "      <td>0.5</td>\n",
       "      <td>0.2</td>\n",
       "      <td>6</td>\n",
       "      <td>0.5</td>\n",
       "      <td>{'colsample_bytree': 0.5, 'learning_rate': 0.2...</td>\n",
       "      <td>0.796764</td>\n",
       "      <td>0.793555</td>\n",
       "      <td>0.830061</td>\n",
       "      <td>0.803428</td>\n",
       "      <td>0.853814</td>\n",
       "      <td>0.815524</td>\n",
       "      <td>0.023058</td>\n",
       "      <td>39</td>\n",
       "    </tr>\n",
       "    <tr>\n",
       "      <th>19</th>\n",
       "      <td>0.196947</td>\n",
       "      <td>0.022807</td>\n",
       "      <td>0.002394</td>\n",
       "      <td>0.004788</td>\n",
       "      <td>0.5</td>\n",
       "      <td>0.2</td>\n",
       "      <td>6</td>\n",
       "      <td>1.0</td>\n",
       "      <td>{'colsample_bytree': 0.5, 'learning_rate': 0.2...</td>\n",
       "      <td>0.806357</td>\n",
       "      <td>0.811512</td>\n",
       "      <td>0.841418</td>\n",
       "      <td>0.809282</td>\n",
       "      <td>0.864065</td>\n",
       "      <td>0.826527</td>\n",
       "      <td>0.022630</td>\n",
       "      <td>20</td>\n",
       "    </tr>\n",
       "    <tr>\n",
       "      <th>20</th>\n",
       "      <td>0.198846</td>\n",
       "      <td>0.014286</td>\n",
       "      <td>0.001499</td>\n",
       "      <td>0.002998</td>\n",
       "      <td>0.5</td>\n",
       "      <td>0.2</td>\n",
       "      <td>7</td>\n",
       "      <td>0.5</td>\n",
       "      <td>{'colsample_bytree': 0.5, 'learning_rate': 0.2...</td>\n",
       "      <td>0.786140</td>\n",
       "      <td>0.784196</td>\n",
       "      <td>0.827708</td>\n",
       "      <td>0.795903</td>\n",
       "      <td>0.851950</td>\n",
       "      <td>0.809179</td>\n",
       "      <td>0.026472</td>\n",
       "      <td>43</td>\n",
       "    </tr>\n",
       "    <tr>\n",
       "      <th>21</th>\n",
       "      <td>0.218457</td>\n",
       "      <td>0.008247</td>\n",
       "      <td>0.000800</td>\n",
       "      <td>0.001600</td>\n",
       "      <td>0.5</td>\n",
       "      <td>0.2</td>\n",
       "      <td>7</td>\n",
       "      <td>1.0</td>\n",
       "      <td>{'colsample_bytree': 0.5, 'learning_rate': 0.2...</td>\n",
       "      <td>0.796520</td>\n",
       "      <td>0.806458</td>\n",
       "      <td>0.838240</td>\n",
       "      <td>0.800603</td>\n",
       "      <td>0.863731</td>\n",
       "      <td>0.821110</td>\n",
       "      <td>0.025884</td>\n",
       "      <td>30</td>\n",
       "    </tr>\n",
       "    <tr>\n",
       "      <th>22</th>\n",
       "      <td>0.237133</td>\n",
       "      <td>0.021262</td>\n",
       "      <td>0.001442</td>\n",
       "      <td>0.001784</td>\n",
       "      <td>0.5</td>\n",
       "      <td>0.2</td>\n",
       "      <td>8</td>\n",
       "      <td>0.5</td>\n",
       "      <td>{'colsample_bytree': 0.5, 'learning_rate': 0.2...</td>\n",
       "      <td>0.781543</td>\n",
       "      <td>0.778685</td>\n",
       "      <td>0.817362</td>\n",
       "      <td>0.785297</td>\n",
       "      <td>0.830996</td>\n",
       "      <td>0.798776</td>\n",
       "      <td>0.021288</td>\n",
       "      <td>47</td>\n",
       "    </tr>\n",
       "    <tr>\n",
       "      <th>23</th>\n",
       "      <td>0.246388</td>\n",
       "      <td>0.009346</td>\n",
       "      <td>0.003836</td>\n",
       "      <td>0.006053</td>\n",
       "      <td>0.5</td>\n",
       "      <td>0.2</td>\n",
       "      <td>8</td>\n",
       "      <td>1.0</td>\n",
       "      <td>{'colsample_bytree': 0.5, 'learning_rate': 0.2...</td>\n",
       "      <td>0.788410</td>\n",
       "      <td>0.798351</td>\n",
       "      <td>0.824476</td>\n",
       "      <td>0.795227</td>\n",
       "      <td>0.852752</td>\n",
       "      <td>0.811843</td>\n",
       "      <td>0.023834</td>\n",
       "      <td>42</td>\n",
       "    </tr>\n",
       "    <tr>\n",
       "      <th>24</th>\n",
       "      <td>0.161152</td>\n",
       "      <td>0.009184</td>\n",
       "      <td>0.000823</td>\n",
       "      <td>0.001645</td>\n",
       "      <td>1.0</td>\n",
       "      <td>0.05</td>\n",
       "      <td>5</td>\n",
       "      <td>0.5</td>\n",
       "      <td>{'colsample_bytree': 1.0, 'learning_rate': 0.0...</td>\n",
       "      <td>0.817428</td>\n",
       "      <td>0.817570</td>\n",
       "      <td>0.851282</td>\n",
       "      <td>0.818260</td>\n",
       "      <td>0.863152</td>\n",
       "      <td>0.833538</td>\n",
       "      <td>0.019697</td>\n",
       "      <td>4</td>\n",
       "    </tr>\n",
       "    <tr>\n",
       "      <th>25</th>\n",
       "      <td>0.200935</td>\n",
       "      <td>0.021630</td>\n",
       "      <td>0.000600</td>\n",
       "      <td>0.001200</td>\n",
       "      <td>1.0</td>\n",
       "      <td>0.05</td>\n",
       "      <td>5</td>\n",
       "      <td>1.0</td>\n",
       "      <td>{'colsample_bytree': 1.0, 'learning_rate': 0.0...</td>\n",
       "      <td>0.811982</td>\n",
       "      <td>0.816545</td>\n",
       "      <td>0.851386</td>\n",
       "      <td>0.816979</td>\n",
       "      <td>0.861971</td>\n",
       "      <td>0.831773</td>\n",
       "      <td>0.020683</td>\n",
       "      <td>9</td>\n",
       "    </tr>\n",
       "    <tr>\n",
       "      <th>26</th>\n",
       "      <td>0.194779</td>\n",
       "      <td>0.012738</td>\n",
       "      <td>0.003886</td>\n",
       "      <td>0.006052</td>\n",
       "      <td>1.0</td>\n",
       "      <td>0.05</td>\n",
       "      <td>6</td>\n",
       "      <td>0.5</td>\n",
       "      <td>{'colsample_bytree': 1.0, 'learning_rate': 0.0...</td>\n",
       "      <td>0.815344</td>\n",
       "      <td>0.815279</td>\n",
       "      <td>0.849342</td>\n",
       "      <td>0.814684</td>\n",
       "      <td>0.863702</td>\n",
       "      <td>0.831670</td>\n",
       "      <td>0.020795</td>\n",
       "      <td>10</td>\n",
       "    </tr>\n",
       "    <tr>\n",
       "      <th>27</th>\n",
       "      <td>0.237595</td>\n",
       "      <td>0.012789</td>\n",
       "      <td>0.003417</td>\n",
       "      <td>0.006713</td>\n",
       "      <td>1.0</td>\n",
       "      <td>0.05</td>\n",
       "      <td>6</td>\n",
       "      <td>1.0</td>\n",
       "      <td>{'colsample_bytree': 1.0, 'learning_rate': 0.0...</td>\n",
       "      <td>0.808770</td>\n",
       "      <td>0.812872</td>\n",
       "      <td>0.851904</td>\n",
       "      <td>0.811480</td>\n",
       "      <td>0.858689</td>\n",
       "      <td>0.828743</td>\n",
       "      <td>0.021827</td>\n",
       "      <td>14</td>\n",
       "    </tr>\n",
       "    <tr>\n",
       "      <th>28</th>\n",
       "      <td>0.254967</td>\n",
       "      <td>0.021005</td>\n",
       "      <td>0.002192</td>\n",
       "      <td>0.002038</td>\n",
       "      <td>1.0</td>\n",
       "      <td>0.05</td>\n",
       "      <td>7</td>\n",
       "      <td>0.5</td>\n",
       "      <td>{'colsample_bytree': 1.0, 'learning_rate': 0.0...</td>\n",
       "      <td>0.810188</td>\n",
       "      <td>0.810276</td>\n",
       "      <td>0.843203</td>\n",
       "      <td>0.809699</td>\n",
       "      <td>0.863525</td>\n",
       "      <td>0.827378</td>\n",
       "      <td>0.022170</td>\n",
       "      <td>19</td>\n",
       "    </tr>\n",
       "    <tr>\n",
       "      <th>29</th>\n",
       "      <td>0.327503</td>\n",
       "      <td>0.021379</td>\n",
       "      <td>0.003704</td>\n",
       "      <td>0.004601</td>\n",
       "      <td>1.0</td>\n",
       "      <td>0.05</td>\n",
       "      <td>7</td>\n",
       "      <td>1.0</td>\n",
       "      <td>{'colsample_bytree': 1.0, 'learning_rate': 0.0...</td>\n",
       "      <td>0.804519</td>\n",
       "      <td>0.808603</td>\n",
       "      <td>0.846511</td>\n",
       "      <td>0.799791</td>\n",
       "      <td>0.859521</td>\n",
       "      <td>0.823789</td>\n",
       "      <td>0.024376</td>\n",
       "      <td>25</td>\n",
       "    </tr>\n",
       "    <tr>\n",
       "      <th>30</th>\n",
       "      <td>0.311098</td>\n",
       "      <td>0.006287</td>\n",
       "      <td>0.008869</td>\n",
       "      <td>0.007419</td>\n",
       "      <td>1.0</td>\n",
       "      <td>0.05</td>\n",
       "      <td>8</td>\n",
       "      <td>0.5</td>\n",
       "      <td>{'colsample_bytree': 1.0, 'learning_rate': 0.0...</td>\n",
       "      <td>0.807749</td>\n",
       "      <td>0.806309</td>\n",
       "      <td>0.840586</td>\n",
       "      <td>0.807770</td>\n",
       "      <td>0.858178</td>\n",
       "      <td>0.824118</td>\n",
       "      <td>0.021371</td>\n",
       "      <td>24</td>\n",
       "    </tr>\n",
       "    <tr>\n",
       "      <th>31</th>\n",
       "      <td>0.385805</td>\n",
       "      <td>0.024776</td>\n",
       "      <td>0.004231</td>\n",
       "      <td>0.006230</td>\n",
       "      <td>1.0</td>\n",
       "      <td>0.05</td>\n",
       "      <td>8</td>\n",
       "      <td>1.0</td>\n",
       "      <td>{'colsample_bytree': 1.0, 'learning_rate': 0.0...</td>\n",
       "      <td>0.798883</td>\n",
       "      <td>0.797945</td>\n",
       "      <td>0.839426</td>\n",
       "      <td>0.793594</td>\n",
       "      <td>0.858241</td>\n",
       "      <td>0.817618</td>\n",
       "      <td>0.026234</td>\n",
       "      <td>35</td>\n",
       "    </tr>\n",
       "    <tr>\n",
       "      <th>32</th>\n",
       "      <td>0.197203</td>\n",
       "      <td>0.019920</td>\n",
       "      <td>0.003958</td>\n",
       "      <td>0.006095</td>\n",
       "      <td>1.0</td>\n",
       "      <td>0.1</td>\n",
       "      <td>5</td>\n",
       "      <td>0.5</td>\n",
       "      <td>{'colsample_bytree': 1.0, 'learning_rate': 0.1...</td>\n",
       "      <td>0.813063</td>\n",
       "      <td>0.816005</td>\n",
       "      <td>0.855061</td>\n",
       "      <td>0.815420</td>\n",
       "      <td>0.864824</td>\n",
       "      <td>0.832875</td>\n",
       "      <td>0.022337</td>\n",
       "      <td>6</td>\n",
       "    </tr>\n",
       "    <tr>\n",
       "      <th>33</th>\n",
       "      <td>0.217747</td>\n",
       "      <td>0.002248</td>\n",
       "      <td>0.000599</td>\n",
       "      <td>0.000797</td>\n",
       "      <td>1.0</td>\n",
       "      <td>0.1</td>\n",
       "      <td>5</td>\n",
       "      <td>1.0</td>\n",
       "      <td>{'colsample_bytree': 1.0, 'learning_rate': 0.1...</td>\n",
       "      <td>0.810524</td>\n",
       "      <td>0.815263</td>\n",
       "      <td>0.852442</td>\n",
       "      <td>0.814570</td>\n",
       "      <td>0.867871</td>\n",
       "      <td>0.832134</td>\n",
       "      <td>0.023451</td>\n",
       "      <td>8</td>\n",
       "    </tr>\n",
       "    <tr>\n",
       "      <th>34</th>\n",
       "      <td>0.211246</td>\n",
       "      <td>0.004836</td>\n",
       "      <td>0.005402</td>\n",
       "      <td>0.006751</td>\n",
       "      <td>1.0</td>\n",
       "      <td>0.1</td>\n",
       "      <td>6</td>\n",
       "      <td>0.5</td>\n",
       "      <td>{'colsample_bytree': 1.0, 'learning_rate': 0.1...</td>\n",
       "      <td>0.813051</td>\n",
       "      <td>0.810862</td>\n",
       "      <td>0.848774</td>\n",
       "      <td>0.810111</td>\n",
       "      <td>0.861886</td>\n",
       "      <td>0.828937</td>\n",
       "      <td>0.021966</td>\n",
       "      <td>13</td>\n",
       "    </tr>\n",
       "    <tr>\n",
       "      <th>35</th>\n",
       "      <td>0.252093</td>\n",
       "      <td>0.009938</td>\n",
       "      <td>0.005729</td>\n",
       "      <td>0.005956</td>\n",
       "      <td>1.0</td>\n",
       "      <td>0.1</td>\n",
       "      <td>6</td>\n",
       "      <td>1.0</td>\n",
       "      <td>{'colsample_bytree': 1.0, 'learning_rate': 0.1...</td>\n",
       "      <td>0.809015</td>\n",
       "      <td>0.811553</td>\n",
       "      <td>0.847784</td>\n",
       "      <td>0.810481</td>\n",
       "      <td>0.864063</td>\n",
       "      <td>0.828579</td>\n",
       "      <td>0.022926</td>\n",
       "      <td>15</td>\n",
       "    </tr>\n",
       "    <tr>\n",
       "      <th>36</th>\n",
       "      <td>0.257556</td>\n",
       "      <td>0.012297</td>\n",
       "      <td>0.003848</td>\n",
       "      <td>0.003785</td>\n",
       "      <td>1.0</td>\n",
       "      <td>0.1</td>\n",
       "      <td>7</td>\n",
       "      <td>0.5</td>\n",
       "      <td>{'colsample_bytree': 1.0, 'learning_rate': 0.1...</td>\n",
       "      <td>0.802817</td>\n",
       "      <td>0.803450</td>\n",
       "      <td>0.839685</td>\n",
       "      <td>0.806735</td>\n",
       "      <td>0.856283</td>\n",
       "      <td>0.821794</td>\n",
       "      <td>0.022059</td>\n",
       "      <td>28</td>\n",
       "    </tr>\n",
       "    <tr>\n",
       "      <th>37</th>\n",
       "      <td>0.304267</td>\n",
       "      <td>0.006080</td>\n",
       "      <td>0.001371</td>\n",
       "      <td>0.001947</td>\n",
       "      <td>1.0</td>\n",
       "      <td>0.1</td>\n",
       "      <td>7</td>\n",
       "      <td>1.0</td>\n",
       "      <td>{'colsample_bytree': 1.0, 'learning_rate': 0.1...</td>\n",
       "      <td>0.801354</td>\n",
       "      <td>0.802642</td>\n",
       "      <td>0.844921</td>\n",
       "      <td>0.798740</td>\n",
       "      <td>0.859219</td>\n",
       "      <td>0.821375</td>\n",
       "      <td>0.025498</td>\n",
       "      <td>29</td>\n",
       "    </tr>\n",
       "    <tr>\n",
       "      <th>38</th>\n",
       "      <td>0.309369</td>\n",
       "      <td>0.005477</td>\n",
       "      <td>0.004567</td>\n",
       "      <td>0.006227</td>\n",
       "      <td>1.0</td>\n",
       "      <td>0.1</td>\n",
       "      <td>8</td>\n",
       "      <td>0.5</td>\n",
       "      <td>{'colsample_bytree': 1.0, 'learning_rate': 0.1...</td>\n",
       "      <td>0.794521</td>\n",
       "      <td>0.796905</td>\n",
       "      <td>0.838233</td>\n",
       "      <td>0.794695</td>\n",
       "      <td>0.853473</td>\n",
       "      <td>0.815565</td>\n",
       "      <td>0.025209</td>\n",
       "      <td>38</td>\n",
       "    </tr>\n",
       "    <tr>\n",
       "      <th>39</th>\n",
       "      <td>0.390782</td>\n",
       "      <td>0.035722</td>\n",
       "      <td>0.000600</td>\n",
       "      <td>0.001199</td>\n",
       "      <td>1.0</td>\n",
       "      <td>0.1</td>\n",
       "      <td>8</td>\n",
       "      <td>1.0</td>\n",
       "      <td>{'colsample_bytree': 1.0, 'learning_rate': 0.1...</td>\n",
       "      <td>0.793931</td>\n",
       "      <td>0.794693</td>\n",
       "      <td>0.838374</td>\n",
       "      <td>0.787471</td>\n",
       "      <td>0.857207</td>\n",
       "      <td>0.814335</td>\n",
       "      <td>0.028070</td>\n",
       "      <td>40</td>\n",
       "    </tr>\n",
       "    <tr>\n",
       "      <th>40</th>\n",
       "      <td>0.185338</td>\n",
       "      <td>0.007370</td>\n",
       "      <td>0.003667</td>\n",
       "      <td>0.006589</td>\n",
       "      <td>1.0</td>\n",
       "      <td>0.2</td>\n",
       "      <td>5</td>\n",
       "      <td>0.5</td>\n",
       "      <td>{'colsample_bytree': 1.0, 'learning_rate': 0.2...</td>\n",
       "      <td>0.803781</td>\n",
       "      <td>0.800150</td>\n",
       "      <td>0.836943</td>\n",
       "      <td>0.799682</td>\n",
       "      <td>0.854438</td>\n",
       "      <td>0.818999</td>\n",
       "      <td>0.022530</td>\n",
       "      <td>33</td>\n",
       "    </tr>\n",
       "    <tr>\n",
       "      <th>41</th>\n",
       "      <td>0.212409</td>\n",
       "      <td>0.007383</td>\n",
       "      <td>0.009251</td>\n",
       "      <td>0.007557</td>\n",
       "      <td>1.0</td>\n",
       "      <td>0.2</td>\n",
       "      <td>5</td>\n",
       "      <td>1.0</td>\n",
       "      <td>{'colsample_bytree': 1.0, 'learning_rate': 0.2...</td>\n",
       "      <td>0.806473</td>\n",
       "      <td>0.805545</td>\n",
       "      <td>0.840602</td>\n",
       "      <td>0.810061</td>\n",
       "      <td>0.858588</td>\n",
       "      <td>0.824254</td>\n",
       "      <td>0.021511</td>\n",
       "      <td>23</td>\n",
       "    </tr>\n",
       "    <tr>\n",
       "      <th>42</th>\n",
       "      <td>0.234405</td>\n",
       "      <td>0.022869</td>\n",
       "      <td>0.006001</td>\n",
       "      <td>0.007362</td>\n",
       "      <td>1.0</td>\n",
       "      <td>0.2</td>\n",
       "      <td>6</td>\n",
       "      <td>0.5</td>\n",
       "      <td>{'colsample_bytree': 1.0, 'learning_rate': 0.2...</td>\n",
       "      <td>0.778652</td>\n",
       "      <td>0.792475</td>\n",
       "      <td>0.827970</td>\n",
       "      <td>0.791934</td>\n",
       "      <td>0.834600</td>\n",
       "      <td>0.805126</td>\n",
       "      <td>0.022025</td>\n",
       "      <td>45</td>\n",
       "    </tr>\n",
       "    <tr>\n",
       "      <th>43</th>\n",
       "      <td>0.290756</td>\n",
       "      <td>0.024178</td>\n",
       "      <td>0.003170</td>\n",
       "      <td>0.006340</td>\n",
       "      <td>1.0</td>\n",
       "      <td>0.2</td>\n",
       "      <td>6</td>\n",
       "      <td>1.0</td>\n",
       "      <td>{'colsample_bytree': 1.0, 'learning_rate': 0.2...</td>\n",
       "      <td>0.796251</td>\n",
       "      <td>0.804261</td>\n",
       "      <td>0.843263</td>\n",
       "      <td>0.801777</td>\n",
       "      <td>0.857578</td>\n",
       "      <td>0.820626</td>\n",
       "      <td>0.024880</td>\n",
       "      <td>32</td>\n",
       "    </tr>\n",
       "    <tr>\n",
       "      <th>44</th>\n",
       "      <td>0.257021</td>\n",
       "      <td>0.007892</td>\n",
       "      <td>0.006875</td>\n",
       "      <td>0.007547</td>\n",
       "      <td>1.0</td>\n",
       "      <td>0.2</td>\n",
       "      <td>7</td>\n",
       "      <td>0.5</td>\n",
       "      <td>{'colsample_bytree': 1.0, 'learning_rate': 0.2...</td>\n",
       "      <td>0.783744</td>\n",
       "      <td>0.781793</td>\n",
       "      <td>0.817326</td>\n",
       "      <td>0.779756</td>\n",
       "      <td>0.831767</td>\n",
       "      <td>0.798877</td>\n",
       "      <td>0.021488</td>\n",
       "      <td>46</td>\n",
       "    </tr>\n",
       "    <tr>\n",
       "      <th>45</th>\n",
       "      <td>0.296960</td>\n",
       "      <td>0.011588</td>\n",
       "      <td>0.000455</td>\n",
       "      <td>0.000679</td>\n",
       "      <td>1.0</td>\n",
       "      <td>0.2</td>\n",
       "      <td>7</td>\n",
       "      <td>1.0</td>\n",
       "      <td>{'colsample_bytree': 1.0, 'learning_rate': 0.2...</td>\n",
       "      <td>0.788324</td>\n",
       "      <td>0.795186</td>\n",
       "      <td>0.840326</td>\n",
       "      <td>0.782711</td>\n",
       "      <td>0.855164</td>\n",
       "      <td>0.812342</td>\n",
       "      <td>0.029550</td>\n",
       "      <td>41</td>\n",
       "    </tr>\n",
       "    <tr>\n",
       "      <th>46</th>\n",
       "      <td>0.312328</td>\n",
       "      <td>0.031305</td>\n",
       "      <td>0.003125</td>\n",
       "      <td>0.006250</td>\n",
       "      <td>1.0</td>\n",
       "      <td>0.2</td>\n",
       "      <td>8</td>\n",
       "      <td>0.5</td>\n",
       "      <td>{'colsample_bytree': 1.0, 'learning_rate': 0.2...</td>\n",
       "      <td>0.778924</td>\n",
       "      <td>0.778644</td>\n",
       "      <td>0.811589</td>\n",
       "      <td>0.785845</td>\n",
       "      <td>0.830040</td>\n",
       "      <td>0.797009</td>\n",
       "      <td>0.020458</td>\n",
       "      <td>48</td>\n",
       "    </tr>\n",
       "    <tr>\n",
       "      <th>47</th>\n",
       "      <td>0.377289</td>\n",
       "      <td>0.043542</td>\n",
       "      <td>0.002900</td>\n",
       "      <td>0.005800</td>\n",
       "      <td>1.0</td>\n",
       "      <td>0.2</td>\n",
       "      <td>8</td>\n",
       "      <td>1.0</td>\n",
       "      <td>{'colsample_bytree': 1.0, 'learning_rate': 0.2...</td>\n",
       "      <td>0.786415</td>\n",
       "      <td>0.784960</td>\n",
       "      <td>0.831595</td>\n",
       "      <td>0.778619</td>\n",
       "      <td>0.851803</td>\n",
       "      <td>0.806678</td>\n",
       "      <td>0.029417</td>\n",
       "      <td>44</td>\n",
       "    </tr>\n",
       "  </tbody>\n",
       "</table>\n",
       "</div>"
      ],
      "text/plain": [
       "    mean_fit_time  std_fit_time  mean_score_time  std_score_time  \\\n",
       "0        0.132825      0.003001         0.006916        0.007142   \n",
       "1        0.149804      0.011010         0.003068        0.006136   \n",
       "2        0.155985      0.008490         0.003367        0.006496   \n",
       "3        0.170501      0.007395         0.006462        0.007921   \n",
       "4        0.179609      0.012255         0.000000        0.000000   \n",
       "5        0.202098      0.011754         0.004188        0.007048   \n",
       "6        0.223250      0.010966         0.006250        0.007654   \n",
       "7        0.255844      0.010481         0.003208        0.004661   \n",
       "8        0.133765      0.007243         0.000000        0.000000   \n",
       "9        0.136455      0.002355         0.009376        0.007655   \n",
       "10       0.159097      0.010066         0.000000        0.000000   \n",
       "11       0.181017      0.013258         0.009701        0.007943   \n",
       "12       0.176229      0.007974         0.012217        0.006148   \n",
       "13       0.200145      0.004195         0.004687        0.005742   \n",
       "14       0.208085      0.006133         0.000224        0.000449   \n",
       "15       0.256736      0.006950         0.000000        0.000000   \n",
       "16       0.148469      0.008085         0.003232        0.006464   \n",
       "17       0.163264      0.008447         0.001278        0.001413   \n",
       "18       0.160754      0.005431         0.003125        0.006249   \n",
       "19       0.196947      0.022807         0.002394        0.004788   \n",
       "20       0.198846      0.014286         0.001499        0.002998   \n",
       "21       0.218457      0.008247         0.000800        0.001600   \n",
       "22       0.237133      0.021262         0.001442        0.001784   \n",
       "23       0.246388      0.009346         0.003836        0.006053   \n",
       "24       0.161152      0.009184         0.000823        0.001645   \n",
       "25       0.200935      0.021630         0.000600        0.001200   \n",
       "26       0.194779      0.012738         0.003886        0.006052   \n",
       "27       0.237595      0.012789         0.003417        0.006713   \n",
       "28       0.254967      0.021005         0.002192        0.002038   \n",
       "29       0.327503      0.021379         0.003704        0.004601   \n",
       "30       0.311098      0.006287         0.008869        0.007419   \n",
       "31       0.385805      0.024776         0.004231        0.006230   \n",
       "32       0.197203      0.019920         0.003958        0.006095   \n",
       "33       0.217747      0.002248         0.000599        0.000797   \n",
       "34       0.211246      0.004836         0.005402        0.006751   \n",
       "35       0.252093      0.009938         0.005729        0.005956   \n",
       "36       0.257556      0.012297         0.003848        0.003785   \n",
       "37       0.304267      0.006080         0.001371        0.001947   \n",
       "38       0.309369      0.005477         0.004567        0.006227   \n",
       "39       0.390782      0.035722         0.000600        0.001199   \n",
       "40       0.185338      0.007370         0.003667        0.006589   \n",
       "41       0.212409      0.007383         0.009251        0.007557   \n",
       "42       0.234405      0.022869         0.006001        0.007362   \n",
       "43       0.290756      0.024178         0.003170        0.006340   \n",
       "44       0.257021      0.007892         0.006875        0.007547   \n",
       "45       0.296960      0.011588         0.000455        0.000679   \n",
       "46       0.312328      0.031305         0.003125        0.006250   \n",
       "47       0.377289      0.043542         0.002900        0.005800   \n",
       "\n",
       "   param_colsample_bytree param_learning_rate param_max_depth param_subsample  \\\n",
       "0                     0.5                0.05               5             0.5   \n",
       "1                     0.5                0.05               5             1.0   \n",
       "2                     0.5                0.05               6             0.5   \n",
       "3                     0.5                0.05               6             1.0   \n",
       "4                     0.5                0.05               7             0.5   \n",
       "5                     0.5                0.05               7             1.0   \n",
       "6                     0.5                0.05               8             0.5   \n",
       "7                     0.5                0.05               8             1.0   \n",
       "8                     0.5                 0.1               5             0.5   \n",
       "9                     0.5                 0.1               5             1.0   \n",
       "10                    0.5                 0.1               6             0.5   \n",
       "11                    0.5                 0.1               6             1.0   \n",
       "12                    0.5                 0.1               7             0.5   \n",
       "13                    0.5                 0.1               7             1.0   \n",
       "14                    0.5                 0.1               8             0.5   \n",
       "15                    0.5                 0.1               8             1.0   \n",
       "16                    0.5                 0.2               5             0.5   \n",
       "17                    0.5                 0.2               5             1.0   \n",
       "18                    0.5                 0.2               6             0.5   \n",
       "19                    0.5                 0.2               6             1.0   \n",
       "20                    0.5                 0.2               7             0.5   \n",
       "21                    0.5                 0.2               7             1.0   \n",
       "22                    0.5                 0.2               8             0.5   \n",
       "23                    0.5                 0.2               8             1.0   \n",
       "24                    1.0                0.05               5             0.5   \n",
       "25                    1.0                0.05               5             1.0   \n",
       "26                    1.0                0.05               6             0.5   \n",
       "27                    1.0                0.05               6             1.0   \n",
       "28                    1.0                0.05               7             0.5   \n",
       "29                    1.0                0.05               7             1.0   \n",
       "30                    1.0                0.05               8             0.5   \n",
       "31                    1.0                0.05               8             1.0   \n",
       "32                    1.0                 0.1               5             0.5   \n",
       "33                    1.0                 0.1               5             1.0   \n",
       "34                    1.0                 0.1               6             0.5   \n",
       "35                    1.0                 0.1               6             1.0   \n",
       "36                    1.0                 0.1               7             0.5   \n",
       "37                    1.0                 0.1               7             1.0   \n",
       "38                    1.0                 0.1               8             0.5   \n",
       "39                    1.0                 0.1               8             1.0   \n",
       "40                    1.0                 0.2               5             0.5   \n",
       "41                    1.0                 0.2               5             1.0   \n",
       "42                    1.0                 0.2               6             0.5   \n",
       "43                    1.0                 0.2               6             1.0   \n",
       "44                    1.0                 0.2               7             0.5   \n",
       "45                    1.0                 0.2               7             1.0   \n",
       "46                    1.0                 0.2               8             0.5   \n",
       "47                    1.0                 0.2               8             1.0   \n",
       "\n",
       "                                               params  split0_test_score  \\\n",
       "0   {'colsample_bytree': 0.5, 'learning_rate': 0.0...           0.812514   \n",
       "1   {'colsample_bytree': 0.5, 'learning_rate': 0.0...           0.809958   \n",
       "2   {'colsample_bytree': 0.5, 'learning_rate': 0.0...           0.806119   \n",
       "3   {'colsample_bytree': 0.5, 'learning_rate': 0.0...           0.805478   \n",
       "4   {'colsample_bytree': 0.5, 'learning_rate': 0.0...           0.799104   \n",
       "5   {'colsample_bytree': 0.5, 'learning_rate': 0.0...           0.798704   \n",
       "6   {'colsample_bytree': 0.5, 'learning_rate': 0.0...           0.793917   \n",
       "7   {'colsample_bytree': 0.5, 'learning_rate': 0.0...           0.790491   \n",
       "8   {'colsample_bytree': 0.5, 'learning_rate': 0.1...           0.817934   \n",
       "9   {'colsample_bytree': 0.5, 'learning_rate': 0.1...           0.818351   \n",
       "10  {'colsample_bytree': 0.5, 'learning_rate': 0.1...           0.809601   \n",
       "11  {'colsample_bytree': 0.5, 'learning_rate': 0.1...           0.810758   \n",
       "12  {'colsample_bytree': 0.5, 'learning_rate': 0.1...           0.802636   \n",
       "13  {'colsample_bytree': 0.5, 'learning_rate': 0.1...           0.804544   \n",
       "14  {'colsample_bytree': 0.5, 'learning_rate': 0.1...           0.798792   \n",
       "15  {'colsample_bytree': 0.5, 'learning_rate': 0.1...           0.799422   \n",
       "16  {'colsample_bytree': 0.5, 'learning_rate': 0.2...           0.809722   \n",
       "17  {'colsample_bytree': 0.5, 'learning_rate': 0.2...           0.814059   \n",
       "18  {'colsample_bytree': 0.5, 'learning_rate': 0.2...           0.796764   \n",
       "19  {'colsample_bytree': 0.5, 'learning_rate': 0.2...           0.806357   \n",
       "20  {'colsample_bytree': 0.5, 'learning_rate': 0.2...           0.786140   \n",
       "21  {'colsample_bytree': 0.5, 'learning_rate': 0.2...           0.796520   \n",
       "22  {'colsample_bytree': 0.5, 'learning_rate': 0.2...           0.781543   \n",
       "23  {'colsample_bytree': 0.5, 'learning_rate': 0.2...           0.788410   \n",
       "24  {'colsample_bytree': 1.0, 'learning_rate': 0.0...           0.817428   \n",
       "25  {'colsample_bytree': 1.0, 'learning_rate': 0.0...           0.811982   \n",
       "26  {'colsample_bytree': 1.0, 'learning_rate': 0.0...           0.815344   \n",
       "27  {'colsample_bytree': 1.0, 'learning_rate': 0.0...           0.808770   \n",
       "28  {'colsample_bytree': 1.0, 'learning_rate': 0.0...           0.810188   \n",
       "29  {'colsample_bytree': 1.0, 'learning_rate': 0.0...           0.804519   \n",
       "30  {'colsample_bytree': 1.0, 'learning_rate': 0.0...           0.807749   \n",
       "31  {'colsample_bytree': 1.0, 'learning_rate': 0.0...           0.798883   \n",
       "32  {'colsample_bytree': 1.0, 'learning_rate': 0.1...           0.813063   \n",
       "33  {'colsample_bytree': 1.0, 'learning_rate': 0.1...           0.810524   \n",
       "34  {'colsample_bytree': 1.0, 'learning_rate': 0.1...           0.813051   \n",
       "35  {'colsample_bytree': 1.0, 'learning_rate': 0.1...           0.809015   \n",
       "36  {'colsample_bytree': 1.0, 'learning_rate': 0.1...           0.802817   \n",
       "37  {'colsample_bytree': 1.0, 'learning_rate': 0.1...           0.801354   \n",
       "38  {'colsample_bytree': 1.0, 'learning_rate': 0.1...           0.794521   \n",
       "39  {'colsample_bytree': 1.0, 'learning_rate': 0.1...           0.793931   \n",
       "40  {'colsample_bytree': 1.0, 'learning_rate': 0.2...           0.803781   \n",
       "41  {'colsample_bytree': 1.0, 'learning_rate': 0.2...           0.806473   \n",
       "42  {'colsample_bytree': 1.0, 'learning_rate': 0.2...           0.778652   \n",
       "43  {'colsample_bytree': 1.0, 'learning_rate': 0.2...           0.796251   \n",
       "44  {'colsample_bytree': 1.0, 'learning_rate': 0.2...           0.783744   \n",
       "45  {'colsample_bytree': 1.0, 'learning_rate': 0.2...           0.788324   \n",
       "46  {'colsample_bytree': 1.0, 'learning_rate': 0.2...           0.778924   \n",
       "47  {'colsample_bytree': 1.0, 'learning_rate': 0.2...           0.786415   \n",
       "\n",
       "    split1_test_score  split2_test_score  split3_test_score  \\\n",
       "0            0.816416           0.845594           0.815449   \n",
       "1            0.815293           0.848604           0.816277   \n",
       "2            0.814601           0.845072           0.814696   \n",
       "3            0.813866           0.846265           0.813156   \n",
       "4            0.810536           0.839044           0.808537   \n",
       "5            0.809900           0.840394           0.807260   \n",
       "6            0.803743           0.831930           0.801978   \n",
       "7            0.805842           0.830945           0.801590   \n",
       "8            0.824145           0.853534           0.819131   \n",
       "9            0.820930           0.852601           0.822828   \n",
       "10           0.820248           0.852879           0.814900   \n",
       "11           0.816749           0.851619           0.816593   \n",
       "12           0.815152           0.843148           0.809892   \n",
       "13           0.812189           0.844102           0.812170   \n",
       "14           0.808454           0.830535           0.802750   \n",
       "15           0.804064           0.834394           0.805540   \n",
       "16           0.804280           0.846499           0.808129   \n",
       "17           0.817334           0.847948           0.815172   \n",
       "18           0.793555           0.830061           0.803428   \n",
       "19           0.811512           0.841418           0.809282   \n",
       "20           0.784196           0.827708           0.795903   \n",
       "21           0.806458           0.838240           0.800603   \n",
       "22           0.778685           0.817362           0.785297   \n",
       "23           0.798351           0.824476           0.795227   \n",
       "24           0.817570           0.851282           0.818260   \n",
       "25           0.816545           0.851386           0.816979   \n",
       "26           0.815279           0.849342           0.814684   \n",
       "27           0.812872           0.851904           0.811480   \n",
       "28           0.810276           0.843203           0.809699   \n",
       "29           0.808603           0.846511           0.799791   \n",
       "30           0.806309           0.840586           0.807770   \n",
       "31           0.797945           0.839426           0.793594   \n",
       "32           0.816005           0.855061           0.815420   \n",
       "33           0.815263           0.852442           0.814570   \n",
       "34           0.810862           0.848774           0.810111   \n",
       "35           0.811553           0.847784           0.810481   \n",
       "36           0.803450           0.839685           0.806735   \n",
       "37           0.802642           0.844921           0.798740   \n",
       "38           0.796905           0.838233           0.794695   \n",
       "39           0.794693           0.838374           0.787471   \n",
       "40           0.800150           0.836943           0.799682   \n",
       "41           0.805545           0.840602           0.810061   \n",
       "42           0.792475           0.827970           0.791934   \n",
       "43           0.804261           0.843263           0.801777   \n",
       "44           0.781793           0.817326           0.779756   \n",
       "45           0.795186           0.840326           0.782711   \n",
       "46           0.778644           0.811589           0.785845   \n",
       "47           0.784960           0.831595           0.778619   \n",
       "\n",
       "    split4_test_score  mean_test_score  std_test_score  rank_test_score  \n",
       "0            0.863225         0.830640        0.020234               12  \n",
       "1            0.864080         0.830842        0.021496               11  \n",
       "2            0.861794         0.828456        0.021297               17  \n",
       "3            0.863691         0.828491        0.022510               16  \n",
       "4            0.857189         0.822882        0.021734               27  \n",
       "5            0.859789         0.823209        0.023089               26  \n",
       "6            0.849419         0.816197        0.021000               37  \n",
       "7            0.852170         0.816208        0.022329               36  \n",
       "8            0.871822         0.837313        0.021603                2  \n",
       "9            0.874406         0.837823        0.022118                1  \n",
       "10           0.864820         0.832490        0.022109                7  \n",
       "11           0.872481         0.833640        0.024213                3  \n",
       "12           0.859940         0.826154        0.021767               21  \n",
       "13           0.866878         0.827976        0.023755               18  \n",
       "14           0.852931         0.818692        0.020335               34  \n",
       "15           0.860964         0.820877        0.023528               31  \n",
       "16           0.860989         0.825924        0.023240               22  \n",
       "17           0.871870         0.833277        0.023048                5  \n",
       "18           0.853814         0.815524        0.023058               39  \n",
       "19           0.864065         0.826527        0.022630               20  \n",
       "20           0.851950         0.809179        0.026472               43  \n",
       "21           0.863731         0.821110        0.025884               30  \n",
       "22           0.830996         0.798776        0.021288               47  \n",
       "23           0.852752         0.811843        0.023834               42  \n",
       "24           0.863152         0.833538        0.019697                4  \n",
       "25           0.861971         0.831773        0.020683                9  \n",
       "26           0.863702         0.831670        0.020795               10  \n",
       "27           0.858689         0.828743        0.021827               14  \n",
       "28           0.863525         0.827378        0.022170               19  \n",
       "29           0.859521         0.823789        0.024376               25  \n",
       "30           0.858178         0.824118        0.021371               24  \n",
       "31           0.858241         0.817618        0.026234               35  \n",
       "32           0.864824         0.832875        0.022337                6  \n",
       "33           0.867871         0.832134        0.023451                8  \n",
       "34           0.861886         0.828937        0.021966               13  \n",
       "35           0.864063         0.828579        0.022926               15  \n",
       "36           0.856283         0.821794        0.022059               28  \n",
       "37           0.859219         0.821375        0.025498               29  \n",
       "38           0.853473         0.815565        0.025209               38  \n",
       "39           0.857207         0.814335        0.028070               40  \n",
       "40           0.854438         0.818999        0.022530               33  \n",
       "41           0.858588         0.824254        0.021511               23  \n",
       "42           0.834600         0.805126        0.022025               45  \n",
       "43           0.857578         0.820626        0.024880               32  \n",
       "44           0.831767         0.798877        0.021488               46  \n",
       "45           0.855164         0.812342        0.029550               41  \n",
       "46           0.830040         0.797009        0.020458               48  \n",
       "47           0.851803         0.806678        0.029417               44  "
      ]
     },
     "execution_count": 206,
     "metadata": {},
     "output_type": "execute_result"
    }
   ],
   "source": [
    "cv_resultDF"
   ]
  },
  {
   "cell_type": "code",
   "execution_count": 207,
   "metadata": {},
   "outputs": [
    {
     "data": {
      "text/plain": [
       "{'colsample_bytree': 0.5,\n",
       " 'learning_rate': 0.1,\n",
       " 'max_depth': 5,\n",
       " 'subsample': 1.0}"
      ]
     },
     "execution_count": 207,
     "metadata": {},
     "output_type": "execute_result"
    }
   ],
   "source": [
    "# 조합된 모델 중 최고의 성능을 내는 하이퍼파라미터 값\n",
    "gs.best_params_"
   ]
  },
  {
   "cell_type": "code",
   "execution_count": 208,
   "metadata": {},
   "outputs": [],
   "source": [
    "# 조합된 모델 중 최고의 성능을 내는 모델 인스턴스\n",
    "my_best_model = gs.best_estimator_"
   ]
  },
  {
   "cell_type": "code",
   "execution_count": 209,
   "metadata": {},
   "outputs": [
    {
     "data": {
      "text/plain": [
       "0.8378233927111998"
      ]
     },
     "execution_count": 209,
     "metadata": {},
     "output_type": "execute_result"
    }
   ],
   "source": [
    "# 조합된 모델 중 최고 점수\n",
    "gs.best_score_"
   ]
  },
  {
   "cell_type": "code",
   "execution_count": 210,
   "metadata": {},
   "outputs": [],
   "source": [
    "# 모델 저장\n",
    "model_dir = './model/'\n",
    "model_filename = model_dir + 'bald_xgb.pkl'\n",
    "\n",
    "# 저장 폴더 존재 여부 확인 후 저장\n",
    "if not os.path.exists(model_dir):\n",
    "    os.makedirs(model_dir)"
   ]
  },
  {
   "cell_type": "code",
   "execution_count": 211,
   "metadata": {},
   "outputs": [
    {
     "data": {
      "text/plain": [
       "['./model/bald_xgb.pkl']"
      ]
     },
     "execution_count": 211,
     "metadata": {},
     "output_type": "execute_result"
    }
   ],
   "source": [
    "joblib.dump(my_best_model, model_filename)"
   ]
  },
  {
   "cell_type": "code",
   "execution_count": 212,
   "metadata": {},
   "outputs": [],
   "source": [
    "model_file = './model/bald_xgb.pkl'"
   ]
  },
  {
   "cell_type": "code",
   "execution_count": 213,
   "metadata": {},
   "outputs": [
    {
     "data": {
      "text/plain": [
       "Index(['age', 'gender', 'job_role', 'salary', 'is_hereditary', 'weight',\n",
       "       'height', 'is_smoker', 'education', 'stress'],\n",
       "      dtype='object')"
      ]
     },
     "execution_count": 213,
     "metadata": {},
     "output_type": "execute_result"
    }
   ],
   "source": [
    "X_train.columns"
   ]
  },
  {
   "cell_type": "code",
   "execution_count": 214,
   "metadata": {},
   "outputs": [
    {
     "name": "stdout",
     "output_type": "stream",
     "text": [
      "    age  gender  job_role      salary  is_hereditary  weight  height  \\\n",
      "0  33.0     1.0       3.0  9451248.13            0.0    73.0   180.0   \n",
      "\n",
      "   is_smoker  education  stress  \n",
      "0        0.0        5.0     5.0  \n",
      "해당 데이터를 가진 사람이 hair loss일 확률은 [35.61]% 입니다.\n"
     ]
    }
   ],
   "source": [
    "import pandas as pd\n",
    "import numpy as np\n",
    "\n",
    "model = load(model_file)\n",
    "\n",
    "data = input('알아서 입력하세요 : ')\n",
    "if len(data):\n",
    "    data_list = list(map(float, data.split(',')))  # 넣을 데이터에 컬럼명이 없으면 경고 메세지 뜬다.\n",
    "    feature_name = ['age', 'gender', 'job_role', 'salary',\n",
    "                    'is_hereditary', 'weight',\n",
    "                    'height', 'is_smoker', 'education', 'stress']\n",
    "    df = pd.DataFrame(dict(zip(feature_name, data_list)), index = [0])\n",
    "    print(df)\n",
    "\n",
    "    # 모델의 predict(2D)\n",
    "    pre_prob = model.predict(df)\n",
    "    #proba = np.round(np.max(model.predict_proba(df)[0]) * 100, 1)\n",
    "    print(f'해당 데이터를 가진 사람이 hair loss일 확률은 {np.round(pre_prob*100, 2)}% 입니다.')\n",
    "else:\n",
    "    print('입력된 정보가 없습니다.')"
   ]
  }
 ],
 "metadata": {
  "kernelspec": {
   "display_name": "EXAM_MML",
   "language": "python",
   "name": "python3"
  },
  "language_info": {
   "codemirror_mode": {
    "name": "ipython",
    "version": 3
   },
   "file_extension": ".py",
   "mimetype": "text/x-python",
   "name": "python",
   "nbconvert_exporter": "python",
   "pygments_lexer": "ipython3",
   "version": "3.9.18"
  }
 },
 "nbformat": 4,
 "nbformat_minor": 2
}
